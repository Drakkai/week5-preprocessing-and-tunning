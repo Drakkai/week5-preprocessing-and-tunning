{
 "cells": [
  {
   "cell_type": "markdown",
   "metadata": {},
   "source": [
    "<a href=\"https://colab.research.google.com/github/ML-Challenge/week5-preprocessing-and-tunning/blob/master/L2.Hyperparameter%20Tuning.ipynb\" target=\"_parent\"><img src=\"https://colab.research.google.com/assets/colab-badge.svg\" /></a>"
   ]
  },
  {
   "cell_type": "markdown",
   "metadata": {},
   "source": [
    "Building powerful machine learning models depends heavily on the set of hyperparameters used. But with increasingly complex models with lots of options, how do we efficiently find the best settings for our particular problem? In this lesson we will get practical experience in using some common methodologies for automated hyperparameter tuning in Python using Scikit Learn. These include Grid Search, Random Search & advanced optimization methodologies including Bayesian & Genetic algorithms. We will use a dataset predicting credit card defaults as we build skills to dramatically increase the efficiency and effectiveness of our machine learning model building."
   ]
  },
  {
   "cell_type": "markdown",
   "metadata": {
    "heading_collapsed": true
   },
   "source": [
    "# Setup"
   ]
  },
  {
   "cell_type": "code",
   "execution_count": 1,
   "metadata": {
    "ExecuteTime": {
     "end_time": "2020-02-18T06:08:21.230663Z",
     "start_time": "2020-02-18T06:08:21.228520Z"
    },
    "hidden": true
   },
   "outputs": [],
   "source": [
    "# Download lesson datasets\n",
    "# Required if you're using Google Colab\n",
    "#!wget \"https://github.com/ML-Challenge/week5-preprocessing-and-tunning/raw/master/datasets.zip\"\n",
    "#!unzip -o datasets.zip"
   ]
  },
  {
   "cell_type": "code",
   "execution_count": 2,
   "metadata": {
    "ExecuteTime": {
     "end_time": "2020-02-18T06:08:21.408984Z",
     "start_time": "2020-02-18T06:08:21.234339Z"
    },
    "hidden": true
   },
   "outputs": [],
   "source": [
    "# Import utils\n",
    "# We'll be using this module throughout the lesson\n",
    "import utils"
   ]
  },
  {
   "cell_type": "code",
   "execution_count": 3,
   "metadata": {
    "ExecuteTime": {
     "end_time": "2020-02-18T06:08:21.508597Z",
     "start_time": "2020-02-18T06:08:21.410691Z"
    },
    "hidden": true
   },
   "outputs": [],
   "source": [
    "# Import dependencies\n",
    "import pandas as pd\n",
    "import numpy as np\n",
    "\n",
    "import matplotlib.pyplot as plt\n",
    "# and setting the size of all plots.\n",
    "plt.rcParams['figure.figsize'] = [20, 10]\n",
    "\n",
    "from sklearn.model_selection import train_test_split"
   ]
  },
  {
   "cell_type": "markdown",
   "metadata": {},
   "source": [
    "# Hyperparameters and Parameters"
   ]
  },
  {
   "cell_type": "markdown",
   "metadata": {},
   "source": [
    "In this introductory chapter we will learn the difference between hyperparameters and parameters. We will practice extracting and analyzing parameters, setting hyperparameter values for several popular machine learning algorithms. Along the way we will learn some best practice tips & tricks for choosing which hyperparameters to tune and what values to set & build learning curves to analyze your hyperparameter choices."
   ]
  },
  {
   "cell_type": "markdown",
   "metadata": {},
   "source": [
    "## Introduction & 'Parameters'"
   ]
  },
  {
   "cell_type": "markdown",
   "metadata": {},
   "source": [
    "### Parameters in Logistic Regression"
   ]
  },
  {
   "cell_type": "markdown",
   "metadata": {},
   "source": [
    "Now that we have had a chance to explore what a parameter is, let us apply this knowledge. It is important to be able to review any new algorithm and identify which elements are parameters and hyperparameters.\n",
    "\n",
    "Which of the following is a parameter for the Scikit Learn logistic regression model?\n",
    "\n",
    "**Possible Answers**\n",
    "\n",
    "1. `n_jobs`\n",
    "2. `coef_`\n",
    "3. `class_weight`\n",
    "4. `LogisticRegression()`"
   ]
  },
  {
   "cell_type": "code",
   "execution_count": 4,
   "metadata": {
    "ExecuteTime": {
     "end_time": "2020-02-18T06:08:21.513517Z",
     "start_time": "2020-02-18T06:08:21.510393Z"
    }
   },
   "outputs": [
    {
     "name": "stdout",
     "output_type": "stream",
     "text": [
      "Enter 1, 2, 3 or 4 as the answer\n"
     ]
    }
   ],
   "source": [
    "# Pass 1,2,3 or 4 as argument\n",
    "utils.which_is_param()"
   ]
  },
  {
   "cell_type": "markdown",
   "metadata": {},
   "source": [
    "### Extracting a Logistic Regression parameter"
   ]
  },
  {
   "cell_type": "markdown",
   "metadata": {},
   "source": [
    "We are now going to practice extracting an important parameter of the logistic regression model. The logistic regression has a few other parameters you will not explore here but you can review them in the **scikit-learn.org** documentation for the `LogisticRegression()` module under 'Attributes'."
   ]
  },
  {
   "cell_type": "markdown",
   "metadata": {},
   "source": [
    "This parameter is important for understanding the direction and magnitude of the effect the variables have on the target."
   ]
  },
  {
   "cell_type": "markdown",
   "metadata": {},
   "source": [
    "In this example we will extract the coefficient parameter (found in the `coef_` attribute), zip it up with the original column names, and see which variables had the largest positive effect on the target variable."
   ]
  },
  {
   "cell_type": "code",
   "execution_count": 5,
   "metadata": {
    "ExecuteTime": {
     "end_time": "2020-02-18T06:08:21.780130Z",
     "start_time": "2020-02-18T06:08:21.760684Z"
    }
   },
   "outputs": [
    {
     "data": {
      "text/html": [
       "<div>\n",
       "<style scoped>\n",
       "    .dataframe tbody tr th:only-of-type {\n",
       "        vertical-align: middle;\n",
       "    }\n",
       "\n",
       "    .dataframe tbody tr th {\n",
       "        vertical-align: top;\n",
       "    }\n",
       "\n",
       "    .dataframe thead th {\n",
       "        text-align: right;\n",
       "    }\n",
       "</style>\n",
       "<table border=\"1\" class=\"dataframe\">\n",
       "  <thead>\n",
       "    <tr style=\"text-align: right;\">\n",
       "      <th></th>\n",
       "      <th>LIMIT_BAL</th>\n",
       "      <th>AGE</th>\n",
       "      <th>PAY_0</th>\n",
       "      <th>PAY_2</th>\n",
       "      <th>PAY_3</th>\n",
       "      <th>PAY_4</th>\n",
       "      <th>PAY_5</th>\n",
       "      <th>PAY_6</th>\n",
       "      <th>BILL_AMT1</th>\n",
       "      <th>BILL_AMT2</th>\n",
       "      <th>...</th>\n",
       "      <th>SEX_2</th>\n",
       "      <th>EDUCATION_1</th>\n",
       "      <th>EDUCATION_2</th>\n",
       "      <th>EDUCATION_3</th>\n",
       "      <th>EDUCATION_4</th>\n",
       "      <th>EDUCATION_5</th>\n",
       "      <th>EDUCATION_6</th>\n",
       "      <th>MARRIAGE_1</th>\n",
       "      <th>MARRIAGE_2</th>\n",
       "      <th>MARRIAGE_3</th>\n",
       "    </tr>\n",
       "    <tr>\n",
       "      <th>ID</th>\n",
       "      <th></th>\n",
       "      <th></th>\n",
       "      <th></th>\n",
       "      <th></th>\n",
       "      <th></th>\n",
       "      <th></th>\n",
       "      <th></th>\n",
       "      <th></th>\n",
       "      <th></th>\n",
       "      <th></th>\n",
       "      <th></th>\n",
       "      <th></th>\n",
       "      <th></th>\n",
       "      <th></th>\n",
       "      <th></th>\n",
       "      <th></th>\n",
       "      <th></th>\n",
       "      <th></th>\n",
       "      <th></th>\n",
       "      <th></th>\n",
       "      <th></th>\n",
       "    </tr>\n",
       "  </thead>\n",
       "  <tbody>\n",
       "    <tr>\n",
       "      <th>1</th>\n",
       "      <td>20000</td>\n",
       "      <td>24</td>\n",
       "      <td>2</td>\n",
       "      <td>2</td>\n",
       "      <td>-1</td>\n",
       "      <td>-1</td>\n",
       "      <td>-2</td>\n",
       "      <td>-2</td>\n",
       "      <td>3913</td>\n",
       "      <td>3102</td>\n",
       "      <td>...</td>\n",
       "      <td>1</td>\n",
       "      <td>0</td>\n",
       "      <td>1</td>\n",
       "      <td>0</td>\n",
       "      <td>0</td>\n",
       "      <td>0</td>\n",
       "      <td>0</td>\n",
       "      <td>1</td>\n",
       "      <td>0</td>\n",
       "      <td>0</td>\n",
       "    </tr>\n",
       "    <tr>\n",
       "      <th>2</th>\n",
       "      <td>120000</td>\n",
       "      <td>26</td>\n",
       "      <td>-1</td>\n",
       "      <td>2</td>\n",
       "      <td>0</td>\n",
       "      <td>0</td>\n",
       "      <td>0</td>\n",
       "      <td>2</td>\n",
       "      <td>2682</td>\n",
       "      <td>1725</td>\n",
       "      <td>...</td>\n",
       "      <td>1</td>\n",
       "      <td>0</td>\n",
       "      <td>1</td>\n",
       "      <td>0</td>\n",
       "      <td>0</td>\n",
       "      <td>0</td>\n",
       "      <td>0</td>\n",
       "      <td>0</td>\n",
       "      <td>1</td>\n",
       "      <td>0</td>\n",
       "    </tr>\n",
       "    <tr>\n",
       "      <th>3</th>\n",
       "      <td>90000</td>\n",
       "      <td>34</td>\n",
       "      <td>0</td>\n",
       "      <td>0</td>\n",
       "      <td>0</td>\n",
       "      <td>0</td>\n",
       "      <td>0</td>\n",
       "      <td>0</td>\n",
       "      <td>29239</td>\n",
       "      <td>14027</td>\n",
       "      <td>...</td>\n",
       "      <td>1</td>\n",
       "      <td>0</td>\n",
       "      <td>1</td>\n",
       "      <td>0</td>\n",
       "      <td>0</td>\n",
       "      <td>0</td>\n",
       "      <td>0</td>\n",
       "      <td>0</td>\n",
       "      <td>1</td>\n",
       "      <td>0</td>\n",
       "    </tr>\n",
       "    <tr>\n",
       "      <th>4</th>\n",
       "      <td>50000</td>\n",
       "      <td>37</td>\n",
       "      <td>0</td>\n",
       "      <td>0</td>\n",
       "      <td>0</td>\n",
       "      <td>0</td>\n",
       "      <td>0</td>\n",
       "      <td>0</td>\n",
       "      <td>46990</td>\n",
       "      <td>48233</td>\n",
       "      <td>...</td>\n",
       "      <td>1</td>\n",
       "      <td>0</td>\n",
       "      <td>1</td>\n",
       "      <td>0</td>\n",
       "      <td>0</td>\n",
       "      <td>0</td>\n",
       "      <td>0</td>\n",
       "      <td>1</td>\n",
       "      <td>0</td>\n",
       "      <td>0</td>\n",
       "    </tr>\n",
       "    <tr>\n",
       "      <th>5</th>\n",
       "      <td>50000</td>\n",
       "      <td>57</td>\n",
       "      <td>-1</td>\n",
       "      <td>0</td>\n",
       "      <td>-1</td>\n",
       "      <td>0</td>\n",
       "      <td>0</td>\n",
       "      <td>0</td>\n",
       "      <td>8617</td>\n",
       "      <td>5670</td>\n",
       "      <td>...</td>\n",
       "      <td>0</td>\n",
       "      <td>0</td>\n",
       "      <td>1</td>\n",
       "      <td>0</td>\n",
       "      <td>0</td>\n",
       "      <td>0</td>\n",
       "      <td>0</td>\n",
       "      <td>1</td>\n",
       "      <td>0</td>\n",
       "      <td>0</td>\n",
       "    </tr>\n",
       "  </tbody>\n",
       "</table>\n",
       "<p>5 rows × 31 columns</p>\n",
       "</div>"
      ],
      "text/plain": [
       "    LIMIT_BAL  AGE  PAY_0  PAY_2  PAY_3  PAY_4  PAY_5  PAY_6  BILL_AMT1  \\\n",
       "ID                                                                        \n",
       "1       20000   24      2      2     -1     -1     -2     -2       3913   \n",
       "2      120000   26     -1      2      0      0      0      2       2682   \n",
       "3       90000   34      0      0      0      0      0      0      29239   \n",
       "4       50000   37      0      0      0      0      0      0      46990   \n",
       "5       50000   57     -1      0     -1      0      0      0       8617   \n",
       "\n",
       "    BILL_AMT2  ...  SEX_2  EDUCATION_1  EDUCATION_2  EDUCATION_3  EDUCATION_4  \\\n",
       "ID             ...                                                              \n",
       "1        3102  ...      1            0            1            0            0   \n",
       "2        1725  ...      1            0            1            0            0   \n",
       "3       14027  ...      1            0            1            0            0   \n",
       "4       48233  ...      1            0            1            0            0   \n",
       "5        5670  ...      0            0            1            0            0   \n",
       "\n",
       "    EDUCATION_5  EDUCATION_6  MARRIAGE_1  MARRIAGE_2  MARRIAGE_3  \n",
       "ID                                                                \n",
       "1             0            0           1           0           0  \n",
       "2             0            0           0           1           0  \n",
       "3             0            0           0           1           0  \n",
       "4             0            0           1           0           0  \n",
       "5             0            0           1           0           0  \n",
       "\n",
       "[5 rows x 31 columns]"
      ]
     },
     "execution_count": 5,
     "metadata": {},
     "output_type": "execute_result"
    }
   ],
   "source": [
    "utils.credit_card.head()"
   ]
  },
  {
   "cell_type": "code",
   "execution_count": 6,
   "metadata": {
    "ExecuteTime": {
     "end_time": "2020-02-18T06:08:21.787611Z",
     "start_time": "2020-02-18T06:08:21.782029Z"
    }
   },
   "outputs": [],
   "source": [
    "X = utils.credit_card.drop('default payment next month', axis=1)\n",
    "y = utils.credit_card['default payment next month']"
   ]
  },
  {
   "cell_type": "code",
   "execution_count": 7,
   "metadata": {
    "ExecuteTime": {
     "end_time": "2020-02-18T06:08:21.808906Z",
     "start_time": "2020-02-18T06:08:21.789806Z"
    }
   },
   "outputs": [],
   "source": [
    "X_train, X_test, y_train, y_test = train_test_split(X, y, test_size=0.3, stratify=y, random_state=42)"
   ]
  },
  {
   "cell_type": "code",
   "execution_count": 8,
   "metadata": {
    "ExecuteTime": {
     "end_time": "2020-02-18T06:08:21.826021Z",
     "start_time": "2020-02-18T06:08:21.810497Z"
    }
   },
   "outputs": [
    {
     "data": {
      "text/plain": [
       "LIMIT_BAL      1.683949e+10\n",
       "AGE            8.436027e+01\n",
       "PAY_0          1.262163e+00\n",
       "PAY_2          1.439627e+00\n",
       "PAY_3          1.426575e+00\n",
       "PAY_4          1.349935e+00\n",
       "PAY_5          1.263298e+00\n",
       "PAY_6          1.312433e+00\n",
       "BILL_AMT1      5.421963e+09\n",
       "BILL_AMT2      5.064130e+09\n",
       "BILL_AMT3      4.723364e+09\n",
       "BILL_AMT4      4.151106e+09\n",
       "BILL_AMT5      3.722083e+09\n",
       "BILL_AMT6      3.546589e+09\n",
       "PAY_AMT1       2.697796e+08\n",
       "PAY_AMT2       4.285847e+08\n",
       "PAY_AMT3       3.245948e+08\n",
       "PAY_AMT4       2.389826e+08\n",
       "PAY_AMT5       2.297050e+08\n",
       "PAY_AMT6       3.115320e+08\n",
       "SEX_2          2.392844e-01\n",
       "EDUCATION_1    2.279232e-01\n",
       "EDUCATION_2    2.490030e-01\n",
       "EDUCATION_3    1.369825e-01\n",
       "EDUCATION_4    4.173115e-03\n",
       "EDUCATION_5    9.947138e-03\n",
       "EDUCATION_6    1.758884e-03\n",
       "MARRIAGE_1     2.478606e-01\n",
       "MARRIAGE_2     2.488752e-01\n",
       "MARRIAGE_3     1.064659e-02\n",
       "dtype: float64"
      ]
     },
     "execution_count": 8,
     "metadata": {},
     "output_type": "execute_result"
    }
   ],
   "source": [
    "X_train.var()"
   ]
  },
  {
   "cell_type": "code",
   "execution_count": 9,
   "metadata": {
    "ExecuteTime": {
     "end_time": "2020-02-18T06:08:21.893745Z",
     "start_time": "2020-02-18T06:08:21.827807Z"
    }
   },
   "outputs": [],
   "source": [
    "from sklearn.linear_model import LogisticRegression\n",
    "\n",
    "log_reg_clf = LogisticRegression(solver='liblinear', random_state=42)"
   ]
  },
  {
   "cell_type": "code",
   "execution_count": 10,
   "metadata": {
    "ExecuteTime": {
     "end_time": "2020-02-18T06:08:22.515094Z",
     "start_time": "2020-02-18T06:08:21.895522Z"
    }
   },
   "outputs": [
    {
     "data": {
      "text/plain": [
       "LogisticRegression(C=1.0, class_weight=None, dual=False, fit_intercept=True,\n",
       "                   intercept_scaling=1, l1_ratio=None, max_iter=100,\n",
       "                   multi_class='warn', n_jobs=None, penalty='l2',\n",
       "                   random_state=42, solver='liblinear', tol=0.0001, verbose=0,\n",
       "                   warm_start=False)"
      ]
     },
     "execution_count": 10,
     "metadata": {},
     "output_type": "execute_result"
    }
   ],
   "source": [
    "log_reg_clf.fit(X_train, y_train)"
   ]
  },
  {
   "cell_type": "code",
   "execution_count": 11,
   "metadata": {
    "ExecuteTime": {
     "end_time": "2020-02-18T06:08:22.518959Z",
     "start_time": "2020-02-18T06:08:22.516620Z"
    }
   },
   "outputs": [],
   "source": [
    "# Create a list of original variable names from the training DataFrame\n",
    "original_variables = X_train.columns"
   ]
  },
  {
   "cell_type": "code",
   "execution_count": 12,
   "metadata": {
    "ExecuteTime": {
     "end_time": "2020-02-18T06:08:22.523832Z",
     "start_time": "2020-02-18T06:08:22.521430Z"
    }
   },
   "outputs": [],
   "source": [
    "# Extract the coefficients of the logistic regression estimator\n",
    "model_coefficients = log_reg_clf.coef_[0]"
   ]
  },
  {
   "cell_type": "code",
   "execution_count": 13,
   "metadata": {
    "ExecuteTime": {
     "end_time": "2020-02-18T06:08:22.534157Z",
     "start_time": "2020-02-18T06:08:22.525731Z"
    }
   },
   "outputs": [
    {
     "data": {
      "text/html": [
       "<div>\n",
       "<style scoped>\n",
       "    .dataframe tbody tr th:only-of-type {\n",
       "        vertical-align: middle;\n",
       "    }\n",
       "\n",
       "    .dataframe tbody tr th {\n",
       "        vertical-align: top;\n",
       "    }\n",
       "\n",
       "    .dataframe thead th {\n",
       "        text-align: right;\n",
       "    }\n",
       "</style>\n",
       "<table border=\"1\" class=\"dataframe\">\n",
       "  <thead>\n",
       "    <tr style=\"text-align: right;\">\n",
       "      <th></th>\n",
       "      <th>Variable</th>\n",
       "      <th>Coefficient</th>\n",
       "    </tr>\n",
       "  </thead>\n",
       "  <tbody>\n",
       "    <tr>\n",
       "      <th>0</th>\n",
       "      <td>LIMIT_BAL</td>\n",
       "      <td>-0.000004</td>\n",
       "    </tr>\n",
       "    <tr>\n",
       "      <th>1</th>\n",
       "      <td>AGE</td>\n",
       "      <td>-0.011436</td>\n",
       "    </tr>\n",
       "    <tr>\n",
       "      <th>2</th>\n",
       "      <td>PAY_0</td>\n",
       "      <td>0.001410</td>\n",
       "    </tr>\n",
       "    <tr>\n",
       "      <th>3</th>\n",
       "      <td>PAY_2</td>\n",
       "      <td>0.001108</td>\n",
       "    </tr>\n",
       "    <tr>\n",
       "      <th>4</th>\n",
       "      <td>PAY_3</td>\n",
       "      <td>0.000963</td>\n",
       "    </tr>\n",
       "    <tr>\n",
       "      <th>5</th>\n",
       "      <td>PAY_4</td>\n",
       "      <td>0.000910</td>\n",
       "    </tr>\n",
       "    <tr>\n",
       "      <th>6</th>\n",
       "      <td>PAY_5</td>\n",
       "      <td>0.000821</td>\n",
       "    </tr>\n",
       "    <tr>\n",
       "      <th>7</th>\n",
       "      <td>PAY_6</td>\n",
       "      <td>0.000780</td>\n",
       "    </tr>\n",
       "    <tr>\n",
       "      <th>8</th>\n",
       "      <td>BILL_AMT1</td>\n",
       "      <td>-0.000008</td>\n",
       "    </tr>\n",
       "    <tr>\n",
       "      <th>9</th>\n",
       "      <td>BILL_AMT2</td>\n",
       "      <td>0.000003</td>\n",
       "    </tr>\n",
       "    <tr>\n",
       "      <th>10</th>\n",
       "      <td>BILL_AMT3</td>\n",
       "      <td>0.000002</td>\n",
       "    </tr>\n",
       "    <tr>\n",
       "      <th>11</th>\n",
       "      <td>BILL_AMT4</td>\n",
       "      <td>0.000001</td>\n",
       "    </tr>\n",
       "    <tr>\n",
       "      <th>12</th>\n",
       "      <td>BILL_AMT5</td>\n",
       "      <td>0.000003</td>\n",
       "    </tr>\n",
       "    <tr>\n",
       "      <th>13</th>\n",
       "      <td>BILL_AMT6</td>\n",
       "      <td>0.000003</td>\n",
       "    </tr>\n",
       "    <tr>\n",
       "      <th>14</th>\n",
       "      <td>PAY_AMT1</td>\n",
       "      <td>-0.000025</td>\n",
       "    </tr>\n",
       "    <tr>\n",
       "      <th>15</th>\n",
       "      <td>PAY_AMT2</td>\n",
       "      <td>-0.000026</td>\n",
       "    </tr>\n",
       "    <tr>\n",
       "      <th>16</th>\n",
       "      <td>PAY_AMT3</td>\n",
       "      <td>-0.000008</td>\n",
       "    </tr>\n",
       "    <tr>\n",
       "      <th>17</th>\n",
       "      <td>PAY_AMT4</td>\n",
       "      <td>-0.000008</td>\n",
       "    </tr>\n",
       "    <tr>\n",
       "      <th>18</th>\n",
       "      <td>PAY_AMT5</td>\n",
       "      <td>-0.000004</td>\n",
       "    </tr>\n",
       "    <tr>\n",
       "      <th>19</th>\n",
       "      <td>PAY_AMT6</td>\n",
       "      <td>-0.000002</td>\n",
       "    </tr>\n",
       "    <tr>\n",
       "      <th>20</th>\n",
       "      <td>SEX_2</td>\n",
       "      <td>-0.000344</td>\n",
       "    </tr>\n",
       "    <tr>\n",
       "      <th>21</th>\n",
       "      <td>EDUCATION_1</td>\n",
       "      <td>-0.000092</td>\n",
       "    </tr>\n",
       "    <tr>\n",
       "      <th>22</th>\n",
       "      <td>EDUCATION_2</td>\n",
       "      <td>-0.000223</td>\n",
       "    </tr>\n",
       "    <tr>\n",
       "      <th>23</th>\n",
       "      <td>EDUCATION_3</td>\n",
       "      <td>-0.000071</td>\n",
       "    </tr>\n",
       "    <tr>\n",
       "      <th>24</th>\n",
       "      <td>EDUCATION_4</td>\n",
       "      <td>-0.000007</td>\n",
       "    </tr>\n",
       "    <tr>\n",
       "      <th>25</th>\n",
       "      <td>EDUCATION_5</td>\n",
       "      <td>-0.000023</td>\n",
       "    </tr>\n",
       "    <tr>\n",
       "      <th>26</th>\n",
       "      <td>EDUCATION_6</td>\n",
       "      <td>-0.000002</td>\n",
       "    </tr>\n",
       "    <tr>\n",
       "      <th>27</th>\n",
       "      <td>MARRIAGE_1</td>\n",
       "      <td>-0.000019</td>\n",
       "    </tr>\n",
       "    <tr>\n",
       "      <th>28</th>\n",
       "      <td>MARRIAGE_2</td>\n",
       "      <td>-0.000394</td>\n",
       "    </tr>\n",
       "    <tr>\n",
       "      <th>29</th>\n",
       "      <td>MARRIAGE_3</td>\n",
       "      <td>-0.000002</td>\n",
       "    </tr>\n",
       "  </tbody>\n",
       "</table>\n",
       "</div>"
      ],
      "text/plain": [
       "       Variable  Coefficient\n",
       "0     LIMIT_BAL    -0.000004\n",
       "1           AGE    -0.011436\n",
       "2         PAY_0     0.001410\n",
       "3         PAY_2     0.001108\n",
       "4         PAY_3     0.000963\n",
       "5         PAY_4     0.000910\n",
       "6         PAY_5     0.000821\n",
       "7         PAY_6     0.000780\n",
       "8     BILL_AMT1    -0.000008\n",
       "9     BILL_AMT2     0.000003\n",
       "10    BILL_AMT3     0.000002\n",
       "11    BILL_AMT4     0.000001\n",
       "12    BILL_AMT5     0.000003\n",
       "13    BILL_AMT6     0.000003\n",
       "14     PAY_AMT1    -0.000025\n",
       "15     PAY_AMT2    -0.000026\n",
       "16     PAY_AMT3    -0.000008\n",
       "17     PAY_AMT4    -0.000008\n",
       "18     PAY_AMT5    -0.000004\n",
       "19     PAY_AMT6    -0.000002\n",
       "20        SEX_2    -0.000344\n",
       "21  EDUCATION_1    -0.000092\n",
       "22  EDUCATION_2    -0.000223\n",
       "23  EDUCATION_3    -0.000071\n",
       "24  EDUCATION_4    -0.000007\n",
       "25  EDUCATION_5    -0.000023\n",
       "26  EDUCATION_6    -0.000002\n",
       "27   MARRIAGE_1    -0.000019\n",
       "28   MARRIAGE_2    -0.000394\n",
       "29   MARRIAGE_3    -0.000002"
      ]
     },
     "execution_count": 13,
     "metadata": {},
     "output_type": "execute_result"
    }
   ],
   "source": [
    "# Create a dataframe of the variables and coefficients & print it out\n",
    "coefficient_df = pd.DataFrame({\"Variable\" : original_variables, \"Coefficient\": model_coefficients})\n",
    "coefficient_df"
   ]
  },
  {
   "cell_type": "code",
   "execution_count": 14,
   "metadata": {
    "ExecuteTime": {
     "end_time": "2020-02-18T06:08:22.542317Z",
     "start_time": "2020-02-18T06:08:22.535508Z"
    }
   },
   "outputs": [
    {
     "data": {
      "text/html": [
       "<div>\n",
       "<style scoped>\n",
       "    .dataframe tbody tr th:only-of-type {\n",
       "        vertical-align: middle;\n",
       "    }\n",
       "\n",
       "    .dataframe tbody tr th {\n",
       "        vertical-align: top;\n",
       "    }\n",
       "\n",
       "    .dataframe thead th {\n",
       "        text-align: right;\n",
       "    }\n",
       "</style>\n",
       "<table border=\"1\" class=\"dataframe\">\n",
       "  <thead>\n",
       "    <tr style=\"text-align: right;\">\n",
       "      <th></th>\n",
       "      <th>Variable</th>\n",
       "      <th>Coefficient</th>\n",
       "    </tr>\n",
       "  </thead>\n",
       "  <tbody>\n",
       "    <tr>\n",
       "      <th>2</th>\n",
       "      <td>PAY_0</td>\n",
       "      <td>0.001410</td>\n",
       "    </tr>\n",
       "    <tr>\n",
       "      <th>3</th>\n",
       "      <td>PAY_2</td>\n",
       "      <td>0.001108</td>\n",
       "    </tr>\n",
       "    <tr>\n",
       "      <th>4</th>\n",
       "      <td>PAY_3</td>\n",
       "      <td>0.000963</td>\n",
       "    </tr>\n",
       "  </tbody>\n",
       "</table>\n",
       "</div>"
      ],
      "text/plain": [
       "  Variable  Coefficient\n",
       "2    PAY_0     0.001410\n",
       "3    PAY_2     0.001108\n",
       "4    PAY_3     0.000963"
      ]
     },
     "execution_count": 14,
     "metadata": {},
     "output_type": "execute_result"
    }
   ],
   "source": [
    "# Print out the top 3 positive variables\n",
    "top_three_df = coefficient_df.sort_values(by=\"Coefficient\", axis=0, ascending=False)[0:3]\n",
    "top_three_df"
   ]
  },
  {
   "cell_type": "markdown",
   "metadata": {},
   "source": [
    "Nice! We have succesfully extracted and reviewed a very important parameter for the Logistic Regression Model. The coefficients of the model allow you to see which variables are having a larger or smaller impact on the outcome. Additionally the sign lets you know if it is a positive or negative relationship."
   ]
  },
  {
   "cell_type": "markdown",
   "metadata": {},
   "source": [
    "### Extracting a Random Forest parameter"
   ]
  },
  {
   "cell_type": "markdown",
   "metadata": {},
   "source": [
    "We will now translate the work previously undertaken on the logistic regression model to a random forest model. A parameter of this model is, for a given tree, how it decided to split at each level."
   ]
  },
  {
   "cell_type": "markdown",
   "metadata": {},
   "source": [
    "This analysis is not as useful as the coefficients of logistic regression as we will be unlikely to ever explore every split and every tree in a random forest model. However, it is a very useful exercise to peak under the hood at what the model is doing."
   ]
  },
  {
   "cell_type": "markdown",
   "metadata": {},
   "source": [
    "In this example we will extract a single tree from our random forest model, visualize it and programmatically extract one of the splits."
   ]
  },
  {
   "cell_type": "code",
   "execution_count": 15,
   "metadata": {
    "ExecuteTime": {
     "end_time": "2020-02-18T06:08:22.618609Z",
     "start_time": "2020-02-18T06:08:22.543723Z"
    }
   },
   "outputs": [],
   "source": [
    "from sklearn.ensemble import RandomForestClassifier\n",
    "\n",
    "rf_clf = RandomForestClassifier(max_depth=4, random_state=42)"
   ]
  },
  {
   "cell_type": "code",
   "execution_count": 16,
   "metadata": {
    "ExecuteTime": {
     "end_time": "2020-02-18T06:08:22.760947Z",
     "start_time": "2020-02-18T06:08:22.619777Z"
    }
   },
   "outputs": [
    {
     "name": "stderr",
     "output_type": "stream",
     "text": [
      "/Users/ca68vj/miniconda3/envs/machine-learning/lib/python3.7/site-packages/sklearn/ensemble/forest.py:245: FutureWarning: The default value of n_estimators will change from 10 in version 0.20 to 100 in 0.22.\n",
      "  \"10 in version 0.20 to 100 in 0.22.\", FutureWarning)\n"
     ]
    },
    {
     "data": {
      "text/plain": [
       "RandomForestClassifier(bootstrap=True, class_weight=None, criterion='gini',\n",
       "                       max_depth=4, max_features='auto', max_leaf_nodes=None,\n",
       "                       min_impurity_decrease=0.0, min_impurity_split=None,\n",
       "                       min_samples_leaf=1, min_samples_split=2,\n",
       "                       min_weight_fraction_leaf=0.0, n_estimators=10,\n",
       "                       n_jobs=None, oob_score=False, random_state=42, verbose=0,\n",
       "                       warm_start=False)"
      ]
     },
     "execution_count": 16,
     "metadata": {},
     "output_type": "execute_result"
    }
   ],
   "source": [
    "rf_clf.fit(X_train, y_train)"
   ]
  },
  {
   "cell_type": "code",
   "execution_count": 17,
   "metadata": {
    "ExecuteTime": {
     "end_time": "2020-02-18T06:08:22.765153Z",
     "start_time": "2020-02-18T06:08:22.762552Z"
    }
   },
   "outputs": [],
   "source": [
    "# Extract the 7th (index 6) tree from the random forest\n",
    "chosen_tree = rf_clf.estimators_[6]"
   ]
  },
  {
   "cell_type": "code",
   "execution_count": 18,
   "metadata": {
    "ExecuteTime": {
     "end_time": "2020-02-18T06:08:22.769204Z",
     "start_time": "2020-02-18T06:08:22.766827Z"
    },
    "scrolled": true
   },
   "outputs": [],
   "source": [
    "# Visualize the graph using Graphviz\n",
    "\n",
    "#from sklearn.tree import export_graphviz\n",
    "\n",
    "#export_graphviz(chosen_tree, out_file='assets/tree.dot', \n",
    "#                feature_names = original_variables, class_names = True,\n",
    "#                rounded = True, proportion = False, precision = 2, filled = True)\n",
    "\n",
    "# Convert to png using system command \n",
    "#from subprocess import call\n",
    "#call(['dot', '-Tpng', 'assets/tree.dot', '-o', 'assets/tree.png', '-Gdpi=600'])\n",
    "\n",
    "# Display in jupyter notebook\n",
    "#from IPython.display import Image\n",
    "#Image(filename = 'assets/tree.png')"
   ]
  },
  {
   "cell_type": "code",
   "execution_count": 19,
   "metadata": {
    "ExecuteTime": {
     "end_time": "2020-02-18T06:08:23.693406Z",
     "start_time": "2020-02-18T06:08:22.770804Z"
    }
   },
   "outputs": [
    {
     "data": {
      "text/plain": [
       "[Text(558.0, 489.24, 'PAY_2 <= 1.5\\ngini = 0.34\\nsamples = 13248\\nvalue = [16357, 4643]\\nclass = y[0]'),\n",
       " Text(279.0, 380.52000000000004, 'PAY_AMT4 <= 1877.5\\ngini = 0.28\\nsamples = 11329\\nvalue = [14985, 2961]\\nclass = y[0]'),\n",
       " Text(139.5, 271.8, 'PAY_3 <= 1.0\\ngini = 0.33\\nsamples = 5894\\nvalue = [7451, 1931]\\nclass = y[0]'),\n",
       " Text(69.75, 163.08000000000004, 'PAY_0 <= 1.5\\ngini = 0.32\\nsamples = 5565\\nvalue = [7082, 1765]\\nclass = y[0]'),\n",
       " Text(34.875, 54.360000000000014, 'gini = 0.29\\nsamples = 5312\\nvalue = [6965, 1483]\\nclass = y[0]'),\n",
       " Text(104.625, 54.360000000000014, 'gini = 0.41\\nsamples = 253\\nvalue = [117, 282]\\nclass = y[1]'),\n",
       " Text(209.25, 163.08000000000004, 'BILL_AMT2 <= 26573.0\\ngini = 0.43\\nsamples = 329\\nvalue = [369, 166]\\nclass = y[0]'),\n",
       " Text(174.375, 54.360000000000014, 'gini = 0.45\\nsamples = 240\\nvalue = [251, 135]\\nclass = y[0]'),\n",
       " Text(244.125, 54.360000000000014, 'gini = 0.33\\nsamples = 89\\nvalue = [118, 31]\\nclass = y[0]'),\n",
       " Text(418.5, 271.8, 'PAY_6 <= 1.0\\ngini = 0.21\\nsamples = 5435\\nvalue = [7534, 1030]\\nclass = y[0]'),\n",
       " Text(348.75, 163.08000000000004, 'PAY_3 <= 1.5\\ngini = 0.19\\nsamples = 5110\\nvalue = [7155, 868]\\nclass = y[0]'),\n",
       " Text(313.875, 54.360000000000014, 'gini = 0.19\\nsamples = 4936\\nvalue = [6943, 814]\\nclass = y[0]'),\n",
       " Text(383.625, 54.360000000000014, 'gini = 0.32\\nsamples = 174\\nvalue = [212, 54]\\nclass = y[0]'),\n",
       " Text(488.25, 163.08000000000004, 'PAY_0 <= 1.5\\ngini = 0.42\\nsamples = 325\\nvalue = [379, 162]\\nclass = y[0]'),\n",
       " Text(453.375, 54.360000000000014, 'gini = 0.37\\nsamples = 285\\nvalue = [365, 117]\\nclass = y[0]'),\n",
       " Text(523.125, 54.360000000000014, 'gini = 0.36\\nsamples = 40\\nvalue = [14, 45]\\nclass = y[1]'),\n",
       " Text(837.0, 380.52000000000004, 'PAY_5 <= 1.0\\ngini = 0.49\\nsamples = 1919\\nvalue = [1372, 1682]\\nclass = y[1]'),\n",
       " Text(697.5, 271.8, 'LIMIT_BAL <= 275000.0\\ngini = 0.5\\nsamples = 1090\\nvalue = [922, 813]\\nclass = y[0]'),\n",
       " Text(627.75, 163.08000000000004, 'PAY_3 <= 1.0\\ngini = 0.5\\nsamples = 1003\\nvalue = [814, 776]\\nclass = y[0]'),\n",
       " Text(592.875, 54.360000000000014, 'gini = 0.49\\nsamples = 487\\nvalue = [436, 328]\\nclass = y[0]'),\n",
       " Text(662.625, 54.360000000000014, 'gini = 0.5\\nsamples = 516\\nvalue = [378, 448]\\nclass = y[1]'),\n",
       " Text(767.25, 163.08000000000004, 'PAY_AMT2 <= 99.0\\ngini = 0.38\\nsamples = 87\\nvalue = [108, 37]\\nclass = y[0]'),\n",
       " Text(732.375, 54.360000000000014, 'gini = 0.49\\nsamples = 25\\nvalue = [25, 20]\\nclass = y[0]'),\n",
       " Text(802.125, 54.360000000000014, 'gini = 0.28\\nsamples = 62\\nvalue = [83, 17]\\nclass = y[0]'),\n",
       " Text(976.5, 271.8, 'BILL_AMT2 <= 7224.0\\ngini = 0.45\\nsamples = 829\\nvalue = [450, 869]\\nclass = y[1]'),\n",
       " Text(906.75, 163.08000000000004, 'PAY_AMT3 <= 2362.0\\ngini = 0.36\\nsamples = 122\\nvalue = [46, 152]\\nclass = y[1]'),\n",
       " Text(871.875, 54.360000000000014, 'gini = 0.32\\nsamples = 118\\nvalue = [39, 152]\\nclass = y[1]'),\n",
       " Text(941.625, 54.360000000000014, 'gini = 0.0\\nsamples = 4\\nvalue = [7, 0]\\nclass = y[0]'),\n",
       " Text(1046.25, 163.08000000000004, 'BILL_AMT5 <= 45333.5\\ngini = 0.46\\nsamples = 707\\nvalue = [404, 717]\\nclass = y[1]'),\n",
       " Text(1011.375, 54.360000000000014, 'gini = 0.48\\nsamples = 395\\nvalue = [247, 375]\\nclass = y[1]'),\n",
       " Text(1081.125, 54.360000000000014, 'gini = 0.43\\nsamples = 312\\nvalue = [157, 342]\\nclass = y[1]')]"
      ]
     },
     "execution_count": 19,
     "metadata": {},
     "output_type": "execute_result"
    },
    {
     "data": {
      "image/png": "[encoded data removed]",
      "text/plain": [
       "<Figure size 1440x720 with 1 Axes>"
      ]
     },
     "metadata": {
      "needs_background": "light"
     },
     "output_type": "display_data"
    }
   ],
   "source": [
    "from sklearn.tree import plot_tree\n",
    "\n",
    "plot_tree(chosen_tree,feature_names = original_variables, class_names = True,\n",
    "                rounded = True, proportion = False, precision = 2, filled = True, fontsize=10)"
   ]
  },
  {
   "cell_type": "markdown",
   "metadata": {},
   "source": [
    "## Introducing Hyperparameters"
   ]
  },
  {
   "cell_type": "markdown",
   "metadata": {},
   "source": [
    "### Hyperparameters in Random Forests"
   ]
  },
  {
   "cell_type": "markdown",
   "metadata": {},
   "source": [
    "As you saw, there are many different hyperparameters available in a Random Forest model using Scikit Learn. Here you can remind yourself how to differentiate between a hyperparameter and a parameter, and easily check whether something is a hyperparameter."
   ]
  },
  {
   "cell_type": "markdown",
   "metadata": {},
   "source": [
    "We can create a random forest estimator from the imported Scikit Learn package. Then print this estimator out to see the hyperparameters and their values."
   ]
  },
  {
   "cell_type": "markdown",
   "metadata": {
    "ExecuteTime": {
     "end_time": "2020-02-17T09:33:20.376425Z",
     "start_time": "2020-02-17T09:33:20.366452Z"
    }
   },
   "source": [
    "Which of the following is a hyperparameter for the Scikit Learn random forest model?"
   ]
  },
  {
   "cell_type": "code",
   "execution_count": 20,
   "metadata": {
    "ExecuteTime": {
     "end_time": "2020-02-18T06:08:23.699322Z",
     "start_time": "2020-02-18T06:08:23.695149Z"
    }
   },
   "outputs": [
    {
     "data": {
      "text/plain": [
       "RandomForestClassifier(bootstrap=True, class_weight=None, criterion='gini',\n",
       "                       max_depth=4, max_features='auto', max_leaf_nodes=None,\n",
       "                       min_impurity_decrease=0.0, min_impurity_split=None,\n",
       "                       min_samples_leaf=1, min_samples_split=2,\n",
       "                       min_weight_fraction_leaf=0.0, n_estimators=10,\n",
       "                       n_jobs=None, oob_score=False, random_state=42, verbose=0,\n",
       "                       warm_start=False)"
      ]
     },
     "execution_count": 20,
     "metadata": {},
     "output_type": "execute_result"
    }
   ],
   "source": [
    "rf_clf"
   ]
  },
  {
   "cell_type": "markdown",
   "metadata": {},
   "source": [
    "**Possible Answers**\n",
    "\n",
    "1. `oob_score`\n",
    "2. `classes_`\n",
    "3. `trees`\n",
    "4. `random_level`"
   ]
  },
  {
   "cell_type": "code",
   "execution_count": 21,
   "metadata": {
    "ExecuteTime": {
     "end_time": "2020-02-18T06:08:23.703639Z",
     "start_time": "2020-02-18T06:08:23.700845Z"
    }
   },
   "outputs": [
    {
     "name": "stdout",
     "output_type": "stream",
     "text": [
      "Enter 1, 2, 3 or 4 as the answer\n"
     ]
    }
   ],
   "source": [
    "# Pass 1,2,3 or 4 as argument\n",
    "utils.which_is_hyperparam()"
   ]
  },
  {
   "cell_type": "markdown",
   "metadata": {},
   "source": [
    "### Exploring Random Forest Hyperparameters"
   ]
  },
  {
   "cell_type": "markdown",
   "metadata": {},
   "source": [
    "Understanding what hyperparameters are available and the impact of different hyperparameters is a core skill for any data scientist. As models become more complex, there are many different settings we can set, but only some will have a large impact on your model."
   ]
  },
  {
   "cell_type": "markdown",
   "metadata": {},
   "source": [
    "We will now assess an existing random forest model (it has some bad choices for hyperparameters!) and then make better choices for a new random forest model and assess its performance."
   ]
  },
  {
   "cell_type": "code",
   "execution_count": 22,
   "metadata": {
    "ExecuteTime": {
     "end_time": "2020-02-18T06:08:23.979351Z",
     "start_time": "2020-02-18T06:08:23.706093Z"
    }
   },
   "outputs": [],
   "source": [
    "rf_clf_bad = RandomForestClassifier(n_estimators=5, random_state=42)\n",
    "rf_clf_bad.fit(X_train, y_train)\n",
    "rf_bad_predictions = rf_clf_bad.predict(X_test)"
   ]
  },
  {
   "cell_type": "code",
   "execution_count": 23,
   "metadata": {
    "ExecuteTime": {
     "end_time": "2020-02-18T06:08:23.993039Z",
     "start_time": "2020-02-18T06:08:23.981778Z"
    }
   },
   "outputs": [
    {
     "name": "stdout",
     "output_type": "stream",
     "text": [
      "Confusion Matrix: \n",
      "\n",
      " [[6340  669]\n",
      " [1260  731]] \n",
      " Accuracy Score: \n",
      "\n",
      " 0.7856666666666666\n"
     ]
    }
   ],
   "source": [
    "from sklearn.metrics import accuracy_score, confusion_matrix\n",
    "\n",
    "# Get confusion matrix & accuracy for the bad rf_model\n",
    "print(f'Confusion Matrix: \\n\\n {confusion_matrix(y_test, rf_bad_predictions)} \\n Accuracy Score: \\n\\n {accuracy_score(y_test, rf_bad_predictions)}')"
   ]
  },
  {
   "cell_type": "code",
   "execution_count": 24,
   "metadata": {
    "ExecuteTime": {
     "end_time": "2020-02-18T06:08:23.996926Z",
     "start_time": "2020-02-18T06:08:23.994511Z"
    }
   },
   "outputs": [],
   "source": [
    "# Create a new random forest classifier with better hyperparamaters\n",
    "rf_clf_new = RandomForestClassifier(n_estimators=500, random_state=42)"
   ]
  },
  {
   "cell_type": "code",
   "execution_count": 25,
   "metadata": {
    "ExecuteTime": {
     "end_time": "2020-02-18T06:08:50.740200Z",
     "start_time": "2020-02-18T06:08:23.998506Z"
    }
   },
   "outputs": [],
   "source": [
    "# Fit this to the data and obtain predictions\n",
    "rf_new_predictions = rf_clf_new.fit(X_train, y_train).predict(X_test)"
   ]
  },
  {
   "cell_type": "code",
   "execution_count": 26,
   "metadata": {
    "ExecuteTime": {
     "end_time": "2020-02-18T06:08:50.752248Z",
     "start_time": "2020-02-18T06:08:50.741735Z"
    }
   },
   "outputs": [
    {
     "name": "stdout",
     "output_type": "stream",
     "text": [
      "Confusion Matrix: \n",
      "\n",
      " [[6601  408]\n",
      " [1253  738]] \n",
      " Accuracy Score: \n",
      "\n",
      " 0.8154444444444444\n"
     ]
    }
   ],
   "source": [
    "# Get confusion matrix & accuracy for the new rf_model\n",
    "print(f'Confusion Matrix: \\n\\n {confusion_matrix(y_test, rf_new_predictions)} \\n Accuracy Score: \\n\\n {accuracy_score(y_test, rf_new_predictions)}')"
   ]
  },
  {
   "cell_type": "markdown",
   "metadata": {},
   "source": [
    "Nice! We got a nice 3% accuracy boost just from changing the `n_estimators`. We have had our first taste of hyperparameter tuning for a random forest model."
   ]
  },
  {
   "cell_type": "markdown",
   "metadata": {},
   "source": [
    "### Hyperparameters of KNN"
   ]
  },
  {
   "cell_type": "markdown",
   "metadata": {},
   "source": [
    "To apply the concepts learned in the prior exercise, it is good practice to try out learnings on a new algorithm. The k-nearest-neighbors algorithm is not as popular as it used to be but can still be an excellent choice for data that has groups of data that behave similarly. Could this be the case for our credit card users?"
   ]
  },
  {
   "cell_type": "markdown",
   "metadata": {},
   "source": [
    "In this case we will try out several different values for one of the core hyperparameters for the knn algorithm and compare performance."
   ]
  },
  {
   "cell_type": "code",
   "execution_count": 27,
   "metadata": {
    "ExecuteTime": {
     "end_time": "2020-02-18T06:08:50.757578Z",
     "start_time": "2020-02-18T06:08:50.753617Z"
    }
   },
   "outputs": [],
   "source": [
    "from sklearn.neighbors import KNeighborsClassifier\n",
    "\n",
    "# Build a knn estimator for each value of n_neighbours\n",
    "knn_5 = KNeighborsClassifier(n_neighbors=5)\n",
    "knn_10 = KNeighborsClassifier(n_neighbors=10)\n",
    "knn_20 = KNeighborsClassifier(n_neighbors=20)"
   ]
  },
  {
   "cell_type": "code",
   "execution_count": 28,
   "metadata": {
    "ExecuteTime": {
     "end_time": "2020-02-18T06:08:54.887643Z",
     "start_time": "2020-02-18T06:08:50.759675Z"
    }
   },
   "outputs": [],
   "source": [
    "# Fit each to the training data & produce predictions\n",
    "knn_5_predictions = knn_5.fit(X_train, y_train).predict(X_test)\n",
    "knn_10_predictions = knn_10.fit(X_train, y_train).predict(X_test)\n",
    "knn_20_predictions = knn_20.fit(X_train, y_train).predict(X_test)"
   ]
  },
  {
   "cell_type": "code",
   "execution_count": 29,
   "metadata": {
    "ExecuteTime": {
     "end_time": "2020-02-18T06:08:54.897030Z",
     "start_time": "2020-02-18T06:08:54.888966Z"
    }
   },
   "outputs": [
    {
     "name": "stdout",
     "output_type": "stream",
     "text": [
      "The accuracy of 5, 10, 20 neighbours was 0.7527777777777778, 0.7741111111111111, 0.7774444444444445\n"
     ]
    }
   ],
   "source": [
    "# Get an accuracy score for each of the models\n",
    "knn_5_accuracy = accuracy_score(y_test, knn_5_predictions)\n",
    "knn_10_accuracy = accuracy_score(y_test, knn_10_predictions)\n",
    "knn_20_accuracy = accuracy_score(y_test, knn_20_predictions)\n",
    "\n",
    "print(f\"The accuracy of 5, 10, 20 neighbours was {knn_5_accuracy}, {knn_10_accuracy}, {knn_20_accuracy}\")"
   ]
  },
  {
   "cell_type": "markdown",
   "metadata": {},
   "source": [
    "Phew! We succesfully tested 3 different options for 1 hyperparameter, but it was pretty exhausting. Next, we will try to find a way to make this easier."
   ]
  },
  {
   "cell_type": "markdown",
   "metadata": {},
   "source": [
    "## Setting & Analyzing Hyperparameter Values"
   ]
  },
  {
   "cell_type": "markdown",
   "metadata": {},
   "source": [
    "### Automating Hyperparameter Choice"
   ]
  },
  {
   "cell_type": "markdown",
   "metadata": {},
   "source": [
    "Finding the best hyperparameter of interest without writing hundreds of lines of code for hundreds of models is an important efficiency gain that will greatly assist your future machine learning model building."
   ]
  },
  {
   "cell_type": "markdown",
   "metadata": {},
   "source": [
    "An important hyperparameter for the GBM algorithm is the learning rate. But which learning rate is best for this problem? By writing a loop to search through a number of possibilities, collating these and viewing them we can find the best one."
   ]
  },
  {
   "cell_type": "markdown",
   "metadata": {},
   "source": [
    "Possible learning rates to try include 0.001, 0.01, 0.05, 0.1, 0.2 and 0.5"
   ]
  },
  {
   "cell_type": "code",
   "execution_count": 30,
   "metadata": {
    "ExecuteTime": {
     "end_time": "2020-02-18T06:08:54.902228Z",
     "start_time": "2020-02-18T06:08:54.899027Z"
    }
   },
   "outputs": [],
   "source": [
    "from sklearn.ensemble import GradientBoostingClassifier"
   ]
  },
  {
   "cell_type": "code",
   "execution_count": 31,
   "metadata": {
    "ExecuteTime": {
     "end_time": "2020-02-18T06:08:54.908483Z",
     "start_time": "2020-02-18T06:08:54.904809Z"
    }
   },
   "outputs": [],
   "source": [
    "# Set the learning rates & results storage\n",
    "learning_rates = [0.001, 0.01, 0.05, 0.1, 0.2, 0.5]\n",
    "results_list = []"
   ]
  },
  {
   "cell_type": "code",
   "execution_count": 32,
   "metadata": {
    "ExecuteTime": {
     "end_time": "2020-02-18T06:09:10.932444Z",
     "start_time": "2020-02-18T06:08:54.910064Z"
    }
   },
   "outputs": [],
   "source": [
    "# Create the for loop to evaluate model predictions for each learning rate\n",
    "for learning_rate in learning_rates:\n",
    "    model = GradientBoostingClassifier(learning_rate=learning_rate, random_state=42)\n",
    "    predictions = model.fit(X_train, y_train).predict(X_test)\n",
    "    # Save the learning rate and accuracy score\n",
    "    results_list.append([learning_rate, accuracy_score(y_test, predictions)])"
   ]
  },
  {
   "cell_type": "code",
   "execution_count": 33,
   "metadata": {
    "ExecuteTime": {
     "end_time": "2020-02-18T06:09:10.939151Z",
     "start_time": "2020-02-18T06:09:10.933865Z"
    }
   },
   "outputs": [
    {
     "name": "stdout",
     "output_type": "stream",
     "text": [
      "   learning_rate  accuracy\n",
      "0          0.001  0.778778\n",
      "1          0.010  0.817556\n",
      "2          0.050  0.817889\n",
      "3          0.100  0.817000\n",
      "4          0.200  0.815667\n",
      "5          0.500  0.811111\n"
     ]
    }
   ],
   "source": [
    "# Gather everything into a DataFrame\n",
    "results_df = pd.DataFrame(results_list, columns=['learning_rate', 'accuracy'])\n",
    "print(results_df)"
   ]
  },
  {
   "cell_type": "markdown",
   "metadata": {},
   "source": [
    "Nice! We efficiently tested a few different values for a single hyperparameter and can easily see which learning rate value was the best. Here, it seems that a learning rate of 0.05 yields the best accuracy."
   ]
  },
  {
   "cell_type": "markdown",
   "metadata": {},
   "source": [
    "### Building Learning Curves"
   ]
  },
  {
   "cell_type": "markdown",
   "metadata": {},
   "source": [
    "If we want to test many different values for a single hyperparameter it can be difficult to easily view that in the form of a DataFrame. Previously we learned about a nice trick to analyze this. A graph called a 'learning curve' can nicely demonstrate the effect of increasing or decreasing a particular hyperparameter on the final result."
   ]
  },
  {
   "cell_type": "markdown",
   "metadata": {},
   "source": [
    "Instead of testing only a few values for the learning rate, we will test many to easily see the effect of this hyperparameter across a large range of values. A useful function from NumPy is `np.linspace(start, end, num)` which allows us to create a number of values (`num`) evenly spread within an interval (`start`, `end`) that we specify."
   ]
  },
  {
   "cell_type": "code",
   "execution_count": 34,
   "metadata": {
    "ExecuteTime": {
     "end_time": "2020-02-18T06:09:10.944216Z",
     "start_time": "2020-02-18T06:09:10.941163Z"
    }
   },
   "outputs": [],
   "source": [
    "# Set the learning rates & accuracies list\n",
    "learn_rates = np.linspace(0.01, 2, num=30)\n",
    "accuracies = []"
   ]
  },
  {
   "cell_type": "code",
   "execution_count": 35,
   "metadata": {
    "ExecuteTime": {
     "end_time": "2020-02-18T06:10:20.689808Z",
     "start_time": "2020-02-18T06:09:10.945957Z"
    }
   },
   "outputs": [],
   "source": [
    "# Create the for loop\n",
    "for learn_rate in learn_rates:\n",
    "    # Create the model, predictions & save the accuracies as before\n",
    "    model = GradientBoostingClassifier(learning_rate=learn_rate, random_state=42)\n",
    "    predictions = model.fit(X_train, y_train).predict(X_test)\n",
    "    accuracies.append(accuracy_score(y_test, predictions))"
   ]
  },
  {
   "cell_type": "code",
   "execution_count": 36,
   "metadata": {
    "ExecuteTime": {
     "end_time": "2020-02-18T06:10:20.899919Z",
     "start_time": "2020-02-18T06:10:20.691373Z"
    }
   },
   "outputs": [
    {
     "data": {
      "image/png": "[encoded data removed]",
      "text/plain": [
       "<Figure size 1440x720 with 1 Axes>"
      ]
     },
     "metadata": {
      "needs_background": "light"
     },
     "output_type": "display_data"
    }
   ],
   "source": [
    "# Plot results    \n",
    "plt.plot(learn_rates, accuracies)\n",
    "plt.gca().set(xlabel='learning_rate', ylabel='Accuracy', title='Accuracy for different learning_rates')\n",
    "plt.show() "
   ]
  },
  {
   "cell_type": "markdown",
   "metadata": {},
   "source": [
    "We can see that for low values, you get a pretty good accuracy. However once the learning rate pushes much above 1.5, the accuracy starts to drop. We have learned and practiced a useful skill for visualizing large amounts of results for a single hyperparameter."
   ]
  },
  {
   "cell_type": "markdown",
   "metadata": {},
   "source": [
    "# Grid search"
   ]
  },
  {
   "cell_type": "markdown",
   "metadata": {},
   "source": [
    "This chapter introduces a popular automated hyperparameter tuning methodology called Grid Search. We will learn what it is, how it works and practice undertaking a Grid Search using Scikit Learn. We will then learn how to analyze the output of a Grid Search & gain practical experience doing this."
   ]
  },
  {
   "cell_type": "markdown",
   "metadata": {},
   "source": [
    "## Introducing Grid Search"
   ]
  },
  {
   "cell_type": "markdown",
   "metadata": {},
   "source": [
    "### Build Grid Search functions"
   ]
  },
  {
   "cell_type": "markdown",
   "metadata": {},
   "source": [
    "In data science it is a great idea to try building algorithms, models and processes 'from scratch' so you can really understand what is happening at a deeper level. Of course there are great packages and libraries for this work (and we will get to that very soon!) but building from scratch will give you a great edge in your data science work."
   ]
  },
  {
   "cell_type": "markdown",
   "metadata": {},
   "source": [
    "In this example, we will create a function to take in 2 hyperparameters, build models and return results. We will use this function in a future example."
   ]
  },
  {
   "cell_type": "code",
   "execution_count": 37,
   "metadata": {
    "ExecuteTime": {
     "end_time": "2020-02-18T06:10:20.906339Z",
     "start_time": "2020-02-18T06:10:20.902913Z"
    }
   },
   "outputs": [],
   "source": [
    "# Create the function\n",
    "def gbm_grid_search(learn_rate, max_depth, random_state=42):\n",
    "\n",
    "    # Create the model\n",
    "    model = GradientBoostingClassifier(learning_rate=learn_rate, max_depth=max_depth, random_state=random_state)\n",
    "    \n",
    "    # Use the model to make predictions\n",
    "    predictions = model.fit(X_train, y_train).predict(X_test)\n",
    "    \n",
    "    # Return the hyperparameters and score\n",
    "    return([learn_rate, max_depth, accuracy_score(y_test, predictions)])"
   ]
  },
  {
   "cell_type": "markdown",
   "metadata": {},
   "source": [
    "### Iteratively tune multiple hyperparameters"
   ]
  },
  {
   "cell_type": "markdown",
   "metadata": {},
   "source": [
    "In this example, we will build on the function you previously created to take in 2 hyperparameters, build a model and return the results. We will now use that to loop through some values and then extend this function and loop with another hyperparameter."
   ]
  },
  {
   "cell_type": "code",
   "execution_count": 38,
   "metadata": {
    "ExecuteTime": {
     "end_time": "2020-02-18T06:10:20.913511Z",
     "start_time": "2020-02-18T06:10:20.909293Z"
    }
   },
   "outputs": [],
   "source": [
    "# Create the relevant lists\n",
    "results_list = []\n",
    "learn_rate_list = [0.01, 0.1, 0.5]\n",
    "max_depth_list = [2,4,6]"
   ]
  },
  {
   "cell_type": "code",
   "execution_count": 39,
   "metadata": {
    "ExecuteTime": {
     "end_time": "2020-02-18T06:10:56.858477Z",
     "start_time": "2020-02-18T06:10:20.915394Z"
    }
   },
   "outputs": [],
   "source": [
    "# Create the for loop\n",
    "for learn_rate in learn_rate_list:\n",
    "    for max_depth in max_depth_list:\n",
    "        results_list.append(gbm_grid_search(learn_rate,max_depth))"
   ]
  },
  {
   "cell_type": "code",
   "execution_count": 40,
   "metadata": {
    "ExecuteTime": {
     "end_time": "2020-02-18T06:10:56.863710Z",
     "start_time": "2020-02-18T06:10:56.859904Z"
    }
   },
   "outputs": [
    {
     "data": {
      "text/plain": [
       "[[0.01, 2, 0.8172222222222222],\n",
       " [0.01, 4, 0.8171111111111111],\n",
       " [0.01, 6, 0.8157777777777778],\n",
       " [0.1, 2, 0.8167777777777778],\n",
       " [0.1, 4, 0.8174444444444444],\n",
       " [0.1, 6, 0.8154444444444444],\n",
       " [0.5, 2, 0.814],\n",
       " [0.5, 4, 0.7996666666666666],\n",
       " [0.5, 6, 0.7855555555555556]]"
      ]
     },
     "execution_count": 40,
     "metadata": {},
     "output_type": "execute_result"
    }
   ],
   "source": [
    "# Print the results\n",
    "results_list"
   ]
  },
  {
   "cell_type": "code",
   "execution_count": 41,
   "metadata": {
    "ExecuteTime": {
     "end_time": "2020-02-18T06:10:56.868929Z",
     "start_time": "2020-02-18T06:10:56.865311Z"
    }
   },
   "outputs": [],
   "source": [
    "# Extend the function input\n",
    "def gbm_grid_search_extended(learn_rate, max_depth, subsample, random_state=42):\n",
    "\n",
    "    # Extend the model creation section\n",
    "    model = GradientBoostingClassifier(learning_rate=learn_rate, max_depth=max_depth, subsample=subsample, random_state=42)\n",
    "    \n",
    "    predictions = model.fit(X_train, y_train).predict(X_test)\n",
    "    \n",
    "    # Extend the return part\n",
    "    return([learn_rate, max_depth, subsample, accuracy_score(y_test, predictions)])"
   ]
  },
  {
   "cell_type": "code",
   "execution_count": 42,
   "metadata": {
    "ExecuteTime": {
     "end_time": "2020-02-18T06:10:56.873228Z",
     "start_time": "2020-02-18T06:10:56.870605Z"
    }
   },
   "outputs": [],
   "source": [
    "results_list = []\n",
    "\n",
    "# Create the new list to test\n",
    "subsample_list = [0.4, 0.6]"
   ]
  },
  {
   "cell_type": "code",
   "execution_count": 43,
   "metadata": {
    "ExecuteTime": {
     "end_time": "2020-02-18T06:12:04.882788Z",
     "start_time": "2020-02-18T06:10:56.874985Z"
    }
   },
   "outputs": [],
   "source": [
    "for learn_rate in learn_rate_list:\n",
    "    for max_depth in max_depth_list:\n",
    "        # Extend the for loop\n",
    "        for subsample in subsample_list:\n",
    "            # Extend the results to include the new hyperparameter\n",
    "            results_list.append(gbm_grid_search_extended(learn_rate, max_depth, subsample))"
   ]
  },
  {
   "cell_type": "code",
   "execution_count": 44,
   "metadata": {
    "ExecuteTime": {
     "end_time": "2020-02-18T06:12:04.888591Z",
     "start_time": "2020-02-18T06:12:04.884266Z"
    }
   },
   "outputs": [
    {
     "data": {
      "text/plain": [
       "[[0.01, 2, 0.4, 0.8171111111111111],\n",
       " [0.01, 2, 0.6, 0.817],\n",
       " [0.01, 4, 0.4, 0.8174444444444444],\n",
       " [0.01, 4, 0.6, 0.8166666666666667],\n",
       " [0.01, 6, 0.4, 0.8154444444444444],\n",
       " [0.01, 6, 0.6, 0.8165555555555556],\n",
       " [0.1, 2, 0.4, 0.8162222222222222],\n",
       " [0.1, 2, 0.6, 0.817],\n",
       " [0.1, 4, 0.4, 0.8158888888888889],\n",
       " [0.1, 4, 0.6, 0.8147777777777778],\n",
       " [0.1, 6, 0.4, 0.8125555555555556],\n",
       " [0.1, 6, 0.6, 0.8136666666666666],\n",
       " [0.5, 2, 0.4, 0.815],\n",
       " [0.5, 2, 0.6, 0.8144444444444444],\n",
       " [0.5, 4, 0.4, 0.8022222222222222],\n",
       " [0.5, 4, 0.6, 0.7955555555555556],\n",
       " [0.5, 6, 0.4, 0.7795555555555556],\n",
       " [0.5, 6, 0.6, 0.7773333333333333]]"
      ]
     },
     "execution_count": 44,
     "metadata": {},
     "output_type": "execute_result"
    }
   ],
   "source": [
    "# Print results\n",
    "results_list"
   ]
  },
  {
   "cell_type": "markdown",
   "metadata": {},
   "source": [
    "We have effectively built our own grid search! You went from 2 to 3 hyperparameters and can see how we could extend that to even more values and hyperparameters. That was a lot of effort though. Be warned - we are now entering a world that can get very computationally expensive very fast!"
   ]
  },
  {
   "cell_type": "markdown",
   "metadata": {},
   "source": [
    "### How Many Models?"
   ]
  },
  {
   "cell_type": "markdown",
   "metadata": {},
   "source": [
    "Adding more hyperparameters or values, we increase the amount of models created but the increases is not linear it is proportional to how many values and hyperparameters we already have.\n",
    "\n",
    "How many models would be created when running a grid search over the following hyperparameters and values for a GBM algorithm?\n",
    "\n",
    "* learning_rate = [0.001, 0.01, 0.05, 0.1, 0.2, 0.3, 0.5, 1, 2]\n",
    "* max_depth = [4,6,8,10,12,14,16,18, 20]\n",
    "* subsample = [0.4, 0.6, 0.7, 0.8, 0.9]\n",
    "* max_features = ['auto', 'sqrt', 'log2']"
   ]
  },
  {
   "cell_type": "markdown",
   "metadata": {},
   "source": [
    "**Possible Answers**\n",
    "\n",
    "1. 26\n",
    "2. 9 of one model, 9 of another\n",
    "3. 1 large model\n",
    "4. 1215"
   ]
  },
  {
   "cell_type": "code",
   "execution_count": 45,
   "metadata": {
    "ExecuteTime": {
     "end_time": "2020-02-18T06:12:04.893279Z",
     "start_time": "2020-02-18T06:12:04.890506Z"
    }
   },
   "outputs": [
    {
     "name": "stdout",
     "output_type": "stream",
     "text": [
      "Enter 1, 2, 3 or 4 as the answer\n"
     ]
    }
   ],
   "source": [
    "# Enter 1, 2, 3 or 4 as the answer\n",
    "utils.how_many_models()"
   ]
  },
  {
   "cell_type": "markdown",
   "metadata": {},
   "source": [
    "## Grid Search with Scikit Learn"
   ]
  },
  {
   "cell_type": "markdown",
   "metadata": {},
   "source": [
    "### GridSearchCV inputs"
   ]
  },
  {
   "cell_type": "markdown",
   "metadata": {},
   "source": [
    "Let's test our knowledge of GridSeachCV inputs by answering the question below."
   ]
  },
  {
   "cell_type": "markdown",
   "metadata": {},
   "source": [
    "Three GridSearchCV objects are available below. Note that there is no data available to fit these models. Instead, you must answer by looking at their construct.\n",
    "\n",
    "```\n",
    "Model #1:\n",
    " GridSearchCV(cv=5, error_score='raise-deprecating',\n",
    "       estimator=RandomForestClassifier(bootstrap=True, class_weight=None, criterion='gini',\n",
    "            max_depth=None, max_features='auto', max_leaf_nodes=None,\n",
    "            min_impurity_decrease=0.0, min_impurity_split=None,\n",
    "            min_samples_leaf=1, min_samples_split=2,\n",
    "            min_weight_fraction_leaf=0.0, n_estimators='warn', n_jobs=None,\n",
    "            oob_score=False, random_state=None, verbose=0,\n",
    "            warm_start=False),\n",
    "       fit_params=None, iid='warn', n_jobs=4,\n",
    "       param_grid={'max_depth': [2, 4, 8, 15], 'max_features': ['auto', 'sqrt']},\n",
    "       pre_dispatch='2*n_jobs', refit=True, return_train_score=True,\n",
    "       scoring='roc_auc', verbose=0) \n",
    "\n",
    "\n",
    "Model #2:\n",
    " GridSearchCV(cv=10, error_score='raise-deprecating',\n",
    "       estimator=KNeighborsClassifier(algorithm='auto', leaf_size=30, metric='minkowski',\n",
    "           metric_params=None, n_jobs=None, n_neighbors=5, p=2,\n",
    "           weights='uniform'),\n",
    "       fit_params=None, iid='warn', n_jobs=8,\n",
    "       param_grid={'n_neighbors': [5, 10, 20], 'algorithm': ['ball_tree', 'brute']},\n",
    "       pre_dispatch='2*n_jobs', refit=False, return_train_score='warn',\n",
    "       scoring='accuracy', verbose=0) \n",
    "\n",
    "\n",
    "Model #3:\n",
    " GridSearchCV(cv=7, error_score='raise-deprecating',\n",
    "       estimator=GradientBoostingClassifier(criterion='friedman_mse', init=None,\n",
    "              learning_rate=0.1, loss='deviance', max_depth=3,\n",
    "              max_features=None, max_leaf_nodes=None,\n",
    "              min_impurity_decrease=0.0, min_impurity_split=None,\n",
    "              min_samples_leaf=1, min_sampl...      subsample=1.0, tol=0.0001, validation_fraction=0.1,\n",
    "              verbose=0, warm_start=False),\n",
    "       fit_params=None, iid='warn', n_jobs=2,\n",
    "       param_grid={'number_attempts': [2, 4, 6], 'max_depth': [3, 6, 9, 12]},\n",
    "       pre_dispatch='2*n_jobs', refit=True, return_train_score='warn',\n",
    "       scoring='accuracy', verbose=0)\n",
    "```\n",
    "\n",
    "Which of these GridSearchCV objects would not work when we try to fit it?"
   ]
  },
  {
   "cell_type": "markdown",
   "metadata": {},
   "source": [
    "**Possible Answers**\n",
    "\n",
    "1. `Model #1` would not work when we try to fit it.\n",
    "2. `Model #2` would not work when we try to fit it.\n",
    "3. `Model #3` would not work when we try to fit it.\n",
    "4. None - they will all work when we try to fit them."
   ]
  },
  {
   "cell_type": "code",
   "execution_count": 46,
   "metadata": {
    "ExecuteTime": {
     "end_time": "2020-02-18T06:12:04.897648Z",
     "start_time": "2020-02-18T06:12:04.894798Z"
    }
   },
   "outputs": [
    {
     "name": "stdout",
     "output_type": "stream",
     "text": [
      "Enter 1, 2, 3 or 4 as the answer\n"
     ]
    }
   ],
   "source": [
    "# Enter 1, 2, 3 or 4 as the answer\n",
    "utils.which_grid_search()"
   ]
  },
  {
   "cell_type": "markdown",
   "metadata": {},
   "source": [
    "### GridSearchCV with Scikit Learn"
   ]
  },
  {
   "cell_type": "markdown",
   "metadata": {},
   "source": [
    "The `GridSearchCV` module from Scikit Learn provides many useful features to assist with efficiently undertaking a grid search. We will now put it into practice by creating a GridSearchCV object with certain parameters."
   ]
  },
  {
   "cell_type": "markdown",
   "metadata": {},
   "source": [
    "The desired options are:\n",
    "\n",
    "* A Random Forest Estimator, with the split criterion as 'entropy'\n",
    "* 5-fold cross validation\n",
    "* The hyperparameters `max_depth` (2, 4, 8, 15) and `max_features` ('auto' vs 'sqrt')\n",
    "* Use `roc_auc` to score the models\n",
    "* Use 4 cores for processing in parallel\n",
    "* Ensure we refit the best model and return training scores"
   ]
  },
  {
   "cell_type": "code",
   "execution_count": 47,
   "metadata": {
    "ExecuteTime": {
     "end_time": "2020-02-18T06:12:04.903575Z",
     "start_time": "2020-02-18T06:12:04.899525Z"
    }
   },
   "outputs": [],
   "source": [
    "# Create a Random Forest Classifier with specified criterion\n",
    "rf_class = RandomForestClassifier(criterion='entropy', random_state=42)"
   ]
  },
  {
   "cell_type": "code",
   "execution_count": 48,
   "metadata": {
    "ExecuteTime": {
     "end_time": "2020-02-18T06:12:04.909768Z",
     "start_time": "2020-02-18T06:12:04.906026Z"
    }
   },
   "outputs": [],
   "source": [
    "# Create the parameter grid\n",
    "param_grid = {'max_depth': [2, 4, 8, 15], 'max_features': ['auto', 'sqrt']}"
   ]
  },
  {
   "cell_type": "code",
   "execution_count": 49,
   "metadata": {
    "ExecuteTime": {
     "end_time": "2020-02-18T06:12:04.920303Z",
     "start_time": "2020-02-18T06:12:04.911678Z"
    }
   },
   "outputs": [
    {
     "data": {
      "text/plain": [
       "GridSearchCV(cv=5, error_score='raise-deprecating',\n",
       "             estimator=RandomForestClassifier(bootstrap=True, class_weight=None,\n",
       "                                              criterion='entropy',\n",
       "                                              max_depth=None,\n",
       "                                              max_features='auto',\n",
       "                                              max_leaf_nodes=None,\n",
       "                                              min_impurity_decrease=0.0,\n",
       "                                              min_impurity_split=None,\n",
       "                                              min_samples_leaf=1,\n",
       "                                              min_samples_split=2,\n",
       "                                              min_weight_fraction_leaf=0.0,\n",
       "                                              n_estimators='warn', n_jobs=None,\n",
       "                                              oob_score=False, random_state=42,\n",
       "                                              verbose=0, warm_start=False),\n",
       "             iid='warn', n_jobs=4,\n",
       "             param_grid={'max_depth': [2, 4, 8, 15],\n",
       "                         'max_features': ['auto', 'sqrt']},\n",
       "             pre_dispatch='2*n_jobs', refit=True, return_train_score=True,\n",
       "             scoring='roc_auc', verbose=0)"
      ]
     },
     "execution_count": 49,
     "metadata": {},
     "output_type": "execute_result"
    }
   ],
   "source": [
    "# Create a GridSearchCV object\n",
    "from sklearn.model_selection import GridSearchCV\n",
    "\n",
    "grid_rf_class=GridSearchCV(\n",
    "    estimator=rf_class,\n",
    "    param_grid=param_grid,\n",
    "    scoring='roc_auc',\n",
    "    n_jobs=4,\n",
    "    cv=5,\n",
    "    refit=True, \n",
    "    return_train_score=True)\n",
    "\n",
    "grid_rf_class"
   ]
  },
  {
   "cell_type": "markdown",
   "metadata": {},
   "source": [
    "## Understanding a grid search output"
   ]
  },
  {
   "cell_type": "markdown",
   "metadata": {},
   "source": [
    "### Exploring the grid search results"
   ]
  },
  {
   "cell_type": "markdown",
   "metadata": {},
   "source": [
    "We will now explore the `cv_results_` property of the GridSearchCV object defined above. This is a dictionary that we can read into a pandas DataFrame and contains a lot of useful information about the grid search we just undertook."
   ]
  },
  {
   "cell_type": "markdown",
   "metadata": {},
   "source": [
    "A reminder of the different column types in this property:\n",
    "\n",
    "* `time_` columns\n",
    "* `param_` columns (one for each hyperparameter) and **the** singular `params` column (with all hyperparameter settings)\n",
    "* a `train_score` column for each cv fold including the `mean_train_score` and `std_train_score` columns\n",
    "* a `test_score` column for each cv fold including the `mean_test_score` and `std_test_score` columns\n",
    "* a `rank_test_score` column with a number from 1 to n (number of iterations) ranking the rows based on their `mean_test_score`"
   ]
  },
  {
   "cell_type": "code",
   "execution_count": 50,
   "metadata": {
    "ExecuteTime": {
     "end_time": "2020-02-18T06:12:11.969696Z",
     "start_time": "2020-02-18T06:12:04.922746Z"
    }
   },
   "outputs": [
    {
     "name": "stderr",
     "output_type": "stream",
     "text": [
      "/Users/ca68vj/miniconda3/envs/machine-learning/lib/python3.7/site-packages/sklearn/ensemble/forest.py:245: FutureWarning: The default value of n_estimators will change from 10 in version 0.20 to 100 in 0.22.\n",
      "  \"10 in version 0.20 to 100 in 0.22.\", FutureWarning)\n"
     ]
    },
    {
     "data": {
      "text/plain": [
       "GridSearchCV(cv=5, error_score='raise-deprecating',\n",
       "             estimator=RandomForestClassifier(bootstrap=True, class_weight=None,\n",
       "                                              criterion='entropy',\n",
       "                                              max_depth=None,\n",
       "                                              max_features='auto',\n",
       "                                              max_leaf_nodes=None,\n",
       "                                              min_impurity_decrease=0.0,\n",
       "                                              min_impurity_split=None,\n",
       "                                              min_samples_leaf=1,\n",
       "                                              min_samples_split=2,\n",
       "                                              min_weight_fraction_leaf=0.0,\n",
       "                                              n_estimators='warn', n_jobs=None,\n",
       "                                              oob_score=False, random_state=42,\n",
       "                                              verbose=0, warm_start=False),\n",
       "             iid='warn', n_jobs=4,\n",
       "             param_grid={'max_depth': [2, 4, 8, 15],\n",
       "                         'max_features': ['auto', 'sqrt']},\n",
       "             pre_dispatch='2*n_jobs', refit=True, return_train_score=True,\n",
       "             scoring='roc_auc', verbose=0)"
      ]
     },
     "execution_count": 50,
     "metadata": {},
     "output_type": "execute_result"
    }
   ],
   "source": [
    "# First fit the GridSearchCV\n",
    "grid_rf_class.fit(X_train, y_train)"
   ]
  },
  {
   "cell_type": "code",
   "execution_count": 51,
   "metadata": {
    "ExecuteTime": {
     "end_time": "2020-02-18T06:12:12.016969Z",
     "start_time": "2020-02-18T06:12:11.973794Z"
    }
   },
   "outputs": [
    {
     "data": {
      "text/html": [
       "<div>\n",
       "<style scoped>\n",
       "    .dataframe tbody tr th:only-of-type {\n",
       "        vertical-align: middle;\n",
       "    }\n",
       "\n",
       "    .dataframe tbody tr th {\n",
       "        vertical-align: top;\n",
       "    }\n",
       "\n",
       "    .dataframe thead th {\n",
       "        text-align: right;\n",
       "    }\n",
       "</style>\n",
       "<table border=\"1\" class=\"dataframe\">\n",
       "  <thead>\n",
       "    <tr style=\"text-align: right;\">\n",
       "      <th></th>\n",
       "      <th>mean_fit_time</th>\n",
       "      <th>std_fit_time</th>\n",
       "      <th>mean_score_time</th>\n",
       "      <th>std_score_time</th>\n",
       "      <th>param_max_depth</th>\n",
       "      <th>param_max_features</th>\n",
       "      <th>params</th>\n",
       "      <th>split0_test_score</th>\n",
       "      <th>split1_test_score</th>\n",
       "      <th>split2_test_score</th>\n",
       "      <th>...</th>\n",
       "      <th>mean_test_score</th>\n",
       "      <th>std_test_score</th>\n",
       "      <th>rank_test_score</th>\n",
       "      <th>split0_train_score</th>\n",
       "      <th>split1_train_score</th>\n",
       "      <th>split2_train_score</th>\n",
       "      <th>split3_train_score</th>\n",
       "      <th>split4_train_score</th>\n",
       "      <th>mean_train_score</th>\n",
       "      <th>std_train_score</th>\n",
       "    </tr>\n",
       "  </thead>\n",
       "  <tbody>\n",
       "    <tr>\n",
       "      <th>0</th>\n",
       "      <td>0.098970</td>\n",
       "      <td>0.004155</td>\n",
       "      <td>0.006205</td>\n",
       "      <td>0.000176</td>\n",
       "      <td>2</td>\n",
       "      <td>auto</td>\n",
       "      <td>{'max_depth': 2, 'max_features': 'auto'}</td>\n",
       "      <td>0.769748</td>\n",
       "      <td>0.768954</td>\n",
       "      <td>0.741041</td>\n",
       "      <td>...</td>\n",
       "      <td>0.756807</td>\n",
       "      <td>0.016606</td>\n",
       "      <td>7</td>\n",
       "      <td>0.759360</td>\n",
       "      <td>0.754980</td>\n",
       "      <td>0.764283</td>\n",
       "      <td>0.763330</td>\n",
       "      <td>0.756669</td>\n",
       "      <td>0.759724</td>\n",
       "      <td>0.003627</td>\n",
       "    </tr>\n",
       "    <tr>\n",
       "      <th>1</th>\n",
       "      <td>0.090397</td>\n",
       "      <td>0.001730</td>\n",
       "      <td>0.006135</td>\n",
       "      <td>0.000281</td>\n",
       "      <td>2</td>\n",
       "      <td>sqrt</td>\n",
       "      <td>{'max_depth': 2, 'max_features': 'sqrt'}</td>\n",
       "      <td>0.769748</td>\n",
       "      <td>0.768954</td>\n",
       "      <td>0.741041</td>\n",
       "      <td>...</td>\n",
       "      <td>0.756807</td>\n",
       "      <td>0.016606</td>\n",
       "      <td>7</td>\n",
       "      <td>0.759360</td>\n",
       "      <td>0.754980</td>\n",
       "      <td>0.764283</td>\n",
       "      <td>0.763330</td>\n",
       "      <td>0.756669</td>\n",
       "      <td>0.759724</td>\n",
       "      <td>0.003627</td>\n",
       "    </tr>\n",
       "    <tr>\n",
       "      <th>2</th>\n",
       "      <td>0.142658</td>\n",
       "      <td>0.001720</td>\n",
       "      <td>0.006867</td>\n",
       "      <td>0.000445</td>\n",
       "      <td>4</td>\n",
       "      <td>auto</td>\n",
       "      <td>{'max_depth': 4, 'max_features': 'auto'}</td>\n",
       "      <td>0.785085</td>\n",
       "      <td>0.784563</td>\n",
       "      <td>0.754313</td>\n",
       "      <td>...</td>\n",
       "      <td>0.770267</td>\n",
       "      <td>0.017420</td>\n",
       "      <td>3</td>\n",
       "      <td>0.773055</td>\n",
       "      <td>0.770862</td>\n",
       "      <td>0.779052</td>\n",
       "      <td>0.779315</td>\n",
       "      <td>0.774455</td>\n",
       "      <td>0.775348</td>\n",
       "      <td>0.003336</td>\n",
       "    </tr>\n",
       "    <tr>\n",
       "      <th>3</th>\n",
       "      <td>0.141937</td>\n",
       "      <td>0.002127</td>\n",
       "      <td>0.007104</td>\n",
       "      <td>0.000331</td>\n",
       "      <td>4</td>\n",
       "      <td>sqrt</td>\n",
       "      <td>{'max_depth': 4, 'max_features': 'sqrt'}</td>\n",
       "      <td>0.785085</td>\n",
       "      <td>0.784563</td>\n",
       "      <td>0.754313</td>\n",
       "      <td>...</td>\n",
       "      <td>0.770267</td>\n",
       "      <td>0.017420</td>\n",
       "      <td>3</td>\n",
       "      <td>0.773055</td>\n",
       "      <td>0.770862</td>\n",
       "      <td>0.779052</td>\n",
       "      <td>0.779315</td>\n",
       "      <td>0.774455</td>\n",
       "      <td>0.775348</td>\n",
       "      <td>0.003336</td>\n",
       "    </tr>\n",
       "    <tr>\n",
       "      <th>4</th>\n",
       "      <td>0.244063</td>\n",
       "      <td>0.003054</td>\n",
       "      <td>0.007675</td>\n",
       "      <td>0.000342</td>\n",
       "      <td>8</td>\n",
       "      <td>auto</td>\n",
       "      <td>{'max_depth': 8, 'max_features': 'auto'}</td>\n",
       "      <td>0.789947</td>\n",
       "      <td>0.786736</td>\n",
       "      <td>0.757696</td>\n",
       "      <td>...</td>\n",
       "      <td>0.775052</td>\n",
       "      <td>0.015329</td>\n",
       "      <td>1</td>\n",
       "      <td>0.818790</td>\n",
       "      <td>0.818052</td>\n",
       "      <td>0.824448</td>\n",
       "      <td>0.825586</td>\n",
       "      <td>0.818812</td>\n",
       "      <td>0.821137</td>\n",
       "      <td>0.003200</td>\n",
       "    </tr>\n",
       "    <tr>\n",
       "      <th>5</th>\n",
       "      <td>0.238568</td>\n",
       "      <td>0.003791</td>\n",
       "      <td>0.007796</td>\n",
       "      <td>0.000179</td>\n",
       "      <td>8</td>\n",
       "      <td>sqrt</td>\n",
       "      <td>{'max_depth': 8, 'max_features': 'sqrt'}</td>\n",
       "      <td>0.789947</td>\n",
       "      <td>0.786736</td>\n",
       "      <td>0.757696</td>\n",
       "      <td>...</td>\n",
       "      <td>0.775052</td>\n",
       "      <td>0.015329</td>\n",
       "      <td>1</td>\n",
       "      <td>0.818790</td>\n",
       "      <td>0.818052</td>\n",
       "      <td>0.824448</td>\n",
       "      <td>0.825586</td>\n",
       "      <td>0.818812</td>\n",
       "      <td>0.821137</td>\n",
       "      <td>0.003200</td>\n",
       "    </tr>\n",
       "    <tr>\n",
       "      <th>6</th>\n",
       "      <td>0.414787</td>\n",
       "      <td>0.005095</td>\n",
       "      <td>0.011471</td>\n",
       "      <td>0.001430</td>\n",
       "      <td>15</td>\n",
       "      <td>auto</td>\n",
       "      <td>{'max_depth': 15, 'max_features': 'auto'}</td>\n",
       "      <td>0.765195</td>\n",
       "      <td>0.771504</td>\n",
       "      <td>0.743326</td>\n",
       "      <td>...</td>\n",
       "      <td>0.757011</td>\n",
       "      <td>0.014430</td>\n",
       "      <td>5</td>\n",
       "      <td>0.959699</td>\n",
       "      <td>0.954309</td>\n",
       "      <td>0.960346</td>\n",
       "      <td>0.964284</td>\n",
       "      <td>0.953961</td>\n",
       "      <td>0.958520</td>\n",
       "      <td>0.003910</td>\n",
       "    </tr>\n",
       "    <tr>\n",
       "      <th>7</th>\n",
       "      <td>0.430071</td>\n",
       "      <td>0.008339</td>\n",
       "      <td>0.010796</td>\n",
       "      <td>0.001036</td>\n",
       "      <td>15</td>\n",
       "      <td>sqrt</td>\n",
       "      <td>{'max_depth': 15, 'max_features': 'sqrt'}</td>\n",
       "      <td>0.765195</td>\n",
       "      <td>0.771504</td>\n",
       "      <td>0.743326</td>\n",
       "      <td>...</td>\n",
       "      <td>0.757011</td>\n",
       "      <td>0.014430</td>\n",
       "      <td>5</td>\n",
       "      <td>0.959699</td>\n",
       "      <td>0.954309</td>\n",
       "      <td>0.960346</td>\n",
       "      <td>0.964284</td>\n",
       "      <td>0.953961</td>\n",
       "      <td>0.958520</td>\n",
       "      <td>0.003910</td>\n",
       "    </tr>\n",
       "  </tbody>\n",
       "</table>\n",
       "<p>8 rows × 22 columns</p>\n",
       "</div>"
      ],
      "text/plain": [
       "   mean_fit_time  std_fit_time  mean_score_time  std_score_time  \\\n",
       "0       0.098970      0.004155         0.006205        0.000176   \n",
       "1       0.090397      0.001730         0.006135        0.000281   \n",
       "2       0.142658      0.001720         0.006867        0.000445   \n",
       "3       0.141937      0.002127         0.007104        0.000331   \n",
       "4       0.244063      0.003054         0.007675        0.000342   \n",
       "5       0.238568      0.003791         0.007796        0.000179   \n",
       "6       0.414787      0.005095         0.011471        0.001430   \n",
       "7       0.430071      0.008339         0.010796        0.001036   \n",
       "\n",
       "  param_max_depth param_max_features  \\\n",
       "0               2               auto   \n",
       "1               2               sqrt   \n",
       "2               4               auto   \n",
       "3               4               sqrt   \n",
       "4               8               auto   \n",
       "5               8               sqrt   \n",
       "6              15               auto   \n",
       "7              15               sqrt   \n",
       "\n",
       "                                      params  split0_test_score  \\\n",
       "0   {'max_depth': 2, 'max_features': 'auto'}           0.769748   \n",
       "1   {'max_depth': 2, 'max_features': 'sqrt'}           0.769748   \n",
       "2   {'max_depth': 4, 'max_features': 'auto'}           0.785085   \n",
       "3   {'max_depth': 4, 'max_features': 'sqrt'}           0.785085   \n",
       "4   {'max_depth': 8, 'max_features': 'auto'}           0.789947   \n",
       "5   {'max_depth': 8, 'max_features': 'sqrt'}           0.789947   \n",
       "6  {'max_depth': 15, 'max_features': 'auto'}           0.765195   \n",
       "7  {'max_depth': 15, 'max_features': 'sqrt'}           0.765195   \n",
       "\n",
       "   split1_test_score  split2_test_score  ...  mean_test_score  std_test_score  \\\n",
       "0           0.768954           0.741041  ...         0.756807        0.016606   \n",
       "1           0.768954           0.741041  ...         0.756807        0.016606   \n",
       "2           0.784563           0.754313  ...         0.770267        0.017420   \n",
       "3           0.784563           0.754313  ...         0.770267        0.017420   \n",
       "4           0.786736           0.757696  ...         0.775052        0.015329   \n",
       "5           0.786736           0.757696  ...         0.775052        0.015329   \n",
       "6           0.771504           0.743326  ...         0.757011        0.014430   \n",
       "7           0.771504           0.743326  ...         0.757011        0.014430   \n",
       "\n",
       "   rank_test_score  split0_train_score  split1_train_score  \\\n",
       "0                7            0.759360            0.754980   \n",
       "1                7            0.759360            0.754980   \n",
       "2                3            0.773055            0.770862   \n",
       "3                3            0.773055            0.770862   \n",
       "4                1            0.818790            0.818052   \n",
       "5                1            0.818790            0.818052   \n",
       "6                5            0.959699            0.954309   \n",
       "7                5            0.959699            0.954309   \n",
       "\n",
       "   split2_train_score  split3_train_score  split4_train_score  \\\n",
       "0            0.764283            0.763330            0.756669   \n",
       "1            0.764283            0.763330            0.756669   \n",
       "2            0.779052            0.779315            0.774455   \n",
       "3            0.779052            0.779315            0.774455   \n",
       "4            0.824448            0.825586            0.818812   \n",
       "5            0.824448            0.825586            0.818812   \n",
       "6            0.960346            0.964284            0.953961   \n",
       "7            0.960346            0.964284            0.953961   \n",
       "\n",
       "   mean_train_score  std_train_score  \n",
       "0          0.759724         0.003627  \n",
       "1          0.759724         0.003627  \n",
       "2          0.775348         0.003336  \n",
       "3          0.775348         0.003336  \n",
       "4          0.821137         0.003200  \n",
       "5          0.821137         0.003200  \n",
       "6          0.958520         0.003910  \n",
       "7          0.958520         0.003910  \n",
       "\n",
       "[8 rows x 22 columns]"
      ]
     },
     "execution_count": 51,
     "metadata": {},
     "output_type": "execute_result"
    }
   ],
   "source": [
    "# Read the cv_results property into a dataframe & print it out\n",
    "cv_results_df = pd.DataFrame(grid_rf_class.cv_results_)\n",
    "cv_results_df"
   ]
  },
  {
   "cell_type": "code",
   "execution_count": 52,
   "metadata": {
    "ExecuteTime": {
     "end_time": "2020-02-18T06:12:12.027436Z",
     "start_time": "2020-02-18T06:12:12.018504Z"
    }
   },
   "outputs": [
    {
     "data": {
      "text/html": [
       "<div>\n",
       "<style scoped>\n",
       "    .dataframe tbody tr th:only-of-type {\n",
       "        vertical-align: middle;\n",
       "    }\n",
       "\n",
       "    .dataframe tbody tr th {\n",
       "        vertical-align: top;\n",
       "    }\n",
       "\n",
       "    .dataframe thead th {\n",
       "        text-align: right;\n",
       "    }\n",
       "</style>\n",
       "<table border=\"1\" class=\"dataframe\">\n",
       "  <thead>\n",
       "    <tr style=\"text-align: right;\">\n",
       "      <th></th>\n",
       "      <th>params</th>\n",
       "    </tr>\n",
       "  </thead>\n",
       "  <tbody>\n",
       "    <tr>\n",
       "      <th>0</th>\n",
       "      <td>{'max_depth': 2, 'max_features': 'auto'}</td>\n",
       "    </tr>\n",
       "    <tr>\n",
       "      <th>1</th>\n",
       "      <td>{'max_depth': 2, 'max_features': 'sqrt'}</td>\n",
       "    </tr>\n",
       "    <tr>\n",
       "      <th>2</th>\n",
       "      <td>{'max_depth': 4, 'max_features': 'auto'}</td>\n",
       "    </tr>\n",
       "    <tr>\n",
       "      <th>3</th>\n",
       "      <td>{'max_depth': 4, 'max_features': 'sqrt'}</td>\n",
       "    </tr>\n",
       "    <tr>\n",
       "      <th>4</th>\n",
       "      <td>{'max_depth': 8, 'max_features': 'auto'}</td>\n",
       "    </tr>\n",
       "    <tr>\n",
       "      <th>5</th>\n",
       "      <td>{'max_depth': 8, 'max_features': 'sqrt'}</td>\n",
       "    </tr>\n",
       "    <tr>\n",
       "      <th>6</th>\n",
       "      <td>{'max_depth': 15, 'max_features': 'auto'}</td>\n",
       "    </tr>\n",
       "    <tr>\n",
       "      <th>7</th>\n",
       "      <td>{'max_depth': 15, 'max_features': 'sqrt'}</td>\n",
       "    </tr>\n",
       "  </tbody>\n",
       "</table>\n",
       "</div>"
      ],
      "text/plain": [
       "                                      params\n",
       "0   {'max_depth': 2, 'max_features': 'auto'}\n",
       "1   {'max_depth': 2, 'max_features': 'sqrt'}\n",
       "2   {'max_depth': 4, 'max_features': 'auto'}\n",
       "3   {'max_depth': 4, 'max_features': 'sqrt'}\n",
       "4   {'max_depth': 8, 'max_features': 'auto'}\n",
       "5   {'max_depth': 8, 'max_features': 'sqrt'}\n",
       "6  {'max_depth': 15, 'max_features': 'auto'}\n",
       "7  {'max_depth': 15, 'max_features': 'sqrt'}"
      ]
     },
     "execution_count": 52,
     "metadata": {},
     "output_type": "execute_result"
    }
   ],
   "source": [
    "# Extract and print the column with a dictionary of hyperparameters used\n",
    "column = cv_results_df.loc[:, [\"params\"]]\n",
    "column"
   ]
  },
  {
   "cell_type": "code",
   "execution_count": 53,
   "metadata": {
    "ExecuteTime": {
     "end_time": "2020-02-18T06:12:12.050180Z",
     "start_time": "2020-02-18T06:12:12.029420Z"
    }
   },
   "outputs": [
    {
     "data": {
      "text/html": [
       "<div>\n",
       "<style scoped>\n",
       "    .dataframe tbody tr th:only-of-type {\n",
       "        vertical-align: middle;\n",
       "    }\n",
       "\n",
       "    .dataframe tbody tr th {\n",
       "        vertical-align: top;\n",
       "    }\n",
       "\n",
       "    .dataframe thead th {\n",
       "        text-align: right;\n",
       "    }\n",
       "</style>\n",
       "<table border=\"1\" class=\"dataframe\">\n",
       "  <thead>\n",
       "    <tr style=\"text-align: right;\">\n",
       "      <th></th>\n",
       "      <th>mean_fit_time</th>\n",
       "      <th>std_fit_time</th>\n",
       "      <th>mean_score_time</th>\n",
       "      <th>std_score_time</th>\n",
       "      <th>param_max_depth</th>\n",
       "      <th>param_max_features</th>\n",
       "      <th>params</th>\n",
       "      <th>split0_test_score</th>\n",
       "      <th>split1_test_score</th>\n",
       "      <th>split2_test_score</th>\n",
       "      <th>...</th>\n",
       "      <th>mean_test_score</th>\n",
       "      <th>std_test_score</th>\n",
       "      <th>rank_test_score</th>\n",
       "      <th>split0_train_score</th>\n",
       "      <th>split1_train_score</th>\n",
       "      <th>split2_train_score</th>\n",
       "      <th>split3_train_score</th>\n",
       "      <th>split4_train_score</th>\n",
       "      <th>mean_train_score</th>\n",
       "      <th>std_train_score</th>\n",
       "    </tr>\n",
       "  </thead>\n",
       "  <tbody>\n",
       "    <tr>\n",
       "      <th>4</th>\n",
       "      <td>0.244063</td>\n",
       "      <td>0.003054</td>\n",
       "      <td>0.007675</td>\n",
       "      <td>0.000342</td>\n",
       "      <td>8</td>\n",
       "      <td>auto</td>\n",
       "      <td>{'max_depth': 8, 'max_features': 'auto'}</td>\n",
       "      <td>0.789947</td>\n",
       "      <td>0.786736</td>\n",
       "      <td>0.757696</td>\n",
       "      <td>...</td>\n",
       "      <td>0.775052</td>\n",
       "      <td>0.015329</td>\n",
       "      <td>1</td>\n",
       "      <td>0.81879</td>\n",
       "      <td>0.818052</td>\n",
       "      <td>0.824448</td>\n",
       "      <td>0.825586</td>\n",
       "      <td>0.818812</td>\n",
       "      <td>0.821137</td>\n",
       "      <td>0.0032</td>\n",
       "    </tr>\n",
       "    <tr>\n",
       "      <th>5</th>\n",
       "      <td>0.238568</td>\n",
       "      <td>0.003791</td>\n",
       "      <td>0.007796</td>\n",
       "      <td>0.000179</td>\n",
       "      <td>8</td>\n",
       "      <td>sqrt</td>\n",
       "      <td>{'max_depth': 8, 'max_features': 'sqrt'}</td>\n",
       "      <td>0.789947</td>\n",
       "      <td>0.786736</td>\n",
       "      <td>0.757696</td>\n",
       "      <td>...</td>\n",
       "      <td>0.775052</td>\n",
       "      <td>0.015329</td>\n",
       "      <td>1</td>\n",
       "      <td>0.81879</td>\n",
       "      <td>0.818052</td>\n",
       "      <td>0.824448</td>\n",
       "      <td>0.825586</td>\n",
       "      <td>0.818812</td>\n",
       "      <td>0.821137</td>\n",
       "      <td>0.0032</td>\n",
       "    </tr>\n",
       "  </tbody>\n",
       "</table>\n",
       "<p>2 rows × 22 columns</p>\n",
       "</div>"
      ],
      "text/plain": [
       "   mean_fit_time  std_fit_time  mean_score_time  std_score_time  \\\n",
       "4       0.244063      0.003054         0.007675        0.000342   \n",
       "5       0.238568      0.003791         0.007796        0.000179   \n",
       "\n",
       "  param_max_depth param_max_features  \\\n",
       "4               8               auto   \n",
       "5               8               sqrt   \n",
       "\n",
       "                                     params  split0_test_score  \\\n",
       "4  {'max_depth': 8, 'max_features': 'auto'}           0.789947   \n",
       "5  {'max_depth': 8, 'max_features': 'sqrt'}           0.789947   \n",
       "\n",
       "   split1_test_score  split2_test_score  ...  mean_test_score  std_test_score  \\\n",
       "4           0.786736           0.757696  ...         0.775052        0.015329   \n",
       "5           0.786736           0.757696  ...         0.775052        0.015329   \n",
       "\n",
       "   rank_test_score  split0_train_score  split1_train_score  \\\n",
       "4                1             0.81879            0.818052   \n",
       "5                1             0.81879            0.818052   \n",
       "\n",
       "   split2_train_score  split3_train_score  split4_train_score  \\\n",
       "4            0.824448            0.825586            0.818812   \n",
       "5            0.824448            0.825586            0.818812   \n",
       "\n",
       "   mean_train_score  std_train_score  \n",
       "4          0.821137           0.0032  \n",
       "5          0.821137           0.0032  \n",
       "\n",
       "[2 rows x 22 columns]"
      ]
     },
     "execution_count": 53,
     "metadata": {},
     "output_type": "execute_result"
    }
   ],
   "source": [
    "# Extract and print the row that had the best mean test score\n",
    "best_row = cv_results_df[cv_results_df[\"rank_test_score\"] == 1]\n",
    "best_row"
   ]
  },
  {
   "cell_type": "markdown",
   "metadata": {},
   "source": [
    "### Analyzing the best results"
   ]
  },
  {
   "cell_type": "markdown",
   "metadata": {},
   "source": [
    "At the end of the day, we primarily care about the best performing 'square' in a grid search. Luckily Scikit Learn's `gridSearchCV` objects have a number of parameters that provide key information on just the best square (or row in `cv_results_`)."
   ]
  },
  {
   "cell_type": "markdown",
   "metadata": {},
   "source": [
    "Three properties you will explore are:\n",
    "\n",
    "* `best_score_` – The score (here ROC_AUC) from the best-performing square.\n",
    "* `best_index_` – The index of the row in `cv_results_` containing information on the best-performing square.\n",
    "* `best_params_` – A dictionary of the parameters that gave the best score, for example `'max_depth': 10`"
   ]
  },
  {
   "cell_type": "code",
   "execution_count": 54,
   "metadata": {
    "ExecuteTime": {
     "end_time": "2020-02-18T06:12:12.055987Z",
     "start_time": "2020-02-18T06:12:12.051755Z"
    }
   },
   "outputs": [
    {
     "data": {
      "text/plain": [
       "0.7750521841317459"
      ]
     },
     "execution_count": 54,
     "metadata": {},
     "output_type": "execute_result"
    }
   ],
   "source": [
    "# Print out the ROC_AUC score from the best-performing square\n",
    "best_score = grid_rf_class.best_score_\n",
    "best_score"
   ]
  },
  {
   "cell_type": "code",
   "execution_count": 55,
   "metadata": {
    "ExecuteTime": {
     "end_time": "2020-02-18T06:12:12.078371Z",
     "start_time": "2020-02-18T06:12:12.057237Z"
    }
   },
   "outputs": [
    {
     "data": {
      "text/html": [
       "<div>\n",
       "<style scoped>\n",
       "    .dataframe tbody tr th:only-of-type {\n",
       "        vertical-align: middle;\n",
       "    }\n",
       "\n",
       "    .dataframe tbody tr th {\n",
       "        vertical-align: top;\n",
       "    }\n",
       "\n",
       "    .dataframe thead th {\n",
       "        text-align: right;\n",
       "    }\n",
       "</style>\n",
       "<table border=\"1\" class=\"dataframe\">\n",
       "  <thead>\n",
       "    <tr style=\"text-align: right;\">\n",
       "      <th></th>\n",
       "      <th>mean_fit_time</th>\n",
       "      <th>std_fit_time</th>\n",
       "      <th>mean_score_time</th>\n",
       "      <th>std_score_time</th>\n",
       "      <th>param_max_depth</th>\n",
       "      <th>param_max_features</th>\n",
       "      <th>params</th>\n",
       "      <th>split0_test_score</th>\n",
       "      <th>split1_test_score</th>\n",
       "      <th>split2_test_score</th>\n",
       "      <th>...</th>\n",
       "      <th>mean_test_score</th>\n",
       "      <th>std_test_score</th>\n",
       "      <th>rank_test_score</th>\n",
       "      <th>split0_train_score</th>\n",
       "      <th>split1_train_score</th>\n",
       "      <th>split2_train_score</th>\n",
       "      <th>split3_train_score</th>\n",
       "      <th>split4_train_score</th>\n",
       "      <th>mean_train_score</th>\n",
       "      <th>std_train_score</th>\n",
       "    </tr>\n",
       "  </thead>\n",
       "  <tbody>\n",
       "    <tr>\n",
       "      <th>4</th>\n",
       "      <td>0.244063</td>\n",
       "      <td>0.003054</td>\n",
       "      <td>0.007675</td>\n",
       "      <td>0.000342</td>\n",
       "      <td>8</td>\n",
       "      <td>auto</td>\n",
       "      <td>{'max_depth': 8, 'max_features': 'auto'}</td>\n",
       "      <td>0.789947</td>\n",
       "      <td>0.786736</td>\n",
       "      <td>0.757696</td>\n",
       "      <td>...</td>\n",
       "      <td>0.775052</td>\n",
       "      <td>0.015329</td>\n",
       "      <td>1</td>\n",
       "      <td>0.81879</td>\n",
       "      <td>0.818052</td>\n",
       "      <td>0.824448</td>\n",
       "      <td>0.825586</td>\n",
       "      <td>0.818812</td>\n",
       "      <td>0.821137</td>\n",
       "      <td>0.0032</td>\n",
       "    </tr>\n",
       "  </tbody>\n",
       "</table>\n",
       "<p>1 rows × 22 columns</p>\n",
       "</div>"
      ],
      "text/plain": [
       "   mean_fit_time  std_fit_time  mean_score_time  std_score_time  \\\n",
       "4       0.244063      0.003054         0.007675        0.000342   \n",
       "\n",
       "  param_max_depth param_max_features  \\\n",
       "4               8               auto   \n",
       "\n",
       "                                     params  split0_test_score  \\\n",
       "4  {'max_depth': 8, 'max_features': 'auto'}           0.789947   \n",
       "\n",
       "   split1_test_score  split2_test_score  ...  mean_test_score  std_test_score  \\\n",
       "4           0.786736           0.757696  ...         0.775052        0.015329   \n",
       "\n",
       "   rank_test_score  split0_train_score  split1_train_score  \\\n",
       "4                1             0.81879            0.818052   \n",
       "\n",
       "   split2_train_score  split3_train_score  split4_train_score  \\\n",
       "4            0.824448            0.825586            0.818812   \n",
       "\n",
       "   mean_train_score  std_train_score  \n",
       "4          0.821137           0.0032  \n",
       "\n",
       "[1 rows x 22 columns]"
      ]
     },
     "execution_count": 55,
     "metadata": {},
     "output_type": "execute_result"
    }
   ],
   "source": [
    "# Create a variable from the row related to the best-performing square\n",
    "cv_results_df = pd.DataFrame(grid_rf_class.cv_results_)\n",
    "best_row = cv_results_df.loc[[grid_rf_class.best_index_]]\n",
    "best_row"
   ]
  },
  {
   "cell_type": "code",
   "execution_count": 56,
   "metadata": {
    "ExecuteTime": {
     "end_time": "2020-02-18T06:12:12.084079Z",
     "start_time": "2020-02-18T06:12:12.080288Z"
    }
   },
   "outputs": [
    {
     "data": {
      "text/plain": [
       "8"
      ]
     },
     "execution_count": 56,
     "metadata": {},
     "output_type": "execute_result"
    }
   ],
   "source": [
    "# Get the max_depth parameter from the best-performing square\n",
    "best_max_depth = grid_rf_class.best_params_[\"max_depth\"]\n",
    "best_max_depth"
   ]
  },
  {
   "cell_type": "markdown",
   "metadata": {},
   "source": [
    "Nice stuff! Being able to quickly find and prioritize the huge volume of information given back from machine learning modeling output is a great skill. Here we had great practice doing that with `cv_results_` by quickly isolating the key information on the best performing square. This will be very important when our grids grow from 12 squares to many more!"
   ]
  },
  {
   "cell_type": "markdown",
   "metadata": {},
   "source": [
    "### Using the best results"
   ]
  },
  {
   "cell_type": "markdown",
   "metadata": {},
   "source": [
    "While it is interesting to analyze the results of our grid search, our final goal is practical in nature; we want to make predictions on our test set using our estimator object."
   ]
  },
  {
   "cell_type": "markdown",
   "metadata": {},
   "source": [
    "We can access this object through the `best_estimator_` property of our grid search object."
   ]
  },
  {
   "cell_type": "markdown",
   "metadata": {},
   "source": [
    "In this exercise we will take a look inside the `best_estimator_` property and then use this to make predictions on our test set for credit card defaults and generate a variety of scores. Remember that we need to use `predict_proba` rather than `predict` since we need probability values rather than class labels for our roc_auc score. We use a slice `[:,1]` to get probabilities of the positive class."
   ]
  },
  {
   "cell_type": "code",
   "execution_count": 57,
   "metadata": {
    "ExecuteTime": {
     "end_time": "2020-02-18T06:12:12.089058Z",
     "start_time": "2020-02-18T06:12:12.085459Z"
    }
   },
   "outputs": [
    {
     "data": {
      "text/plain": [
       "sklearn.ensemble.forest.RandomForestClassifier"
      ]
     },
     "execution_count": 57,
     "metadata": {},
     "output_type": "execute_result"
    }
   ],
   "source": [
    "# See what type of object the best_estimator_ property is\n",
    "type(grid_rf_class.best_estimator_)"
   ]
  },
  {
   "cell_type": "code",
   "execution_count": 58,
   "metadata": {
    "ExecuteTime": {
     "end_time": "2020-02-18T06:12:12.102372Z",
     "start_time": "2020-02-18T06:12:12.090476Z"
    }
   },
   "outputs": [],
   "source": [
    "# Create an array of predictions directly using the best_estimator_ property\n",
    "predictions = grid_rf_class.best_estimator_.predict(X_test)"
   ]
  },
  {
   "cell_type": "code",
   "execution_count": 59,
   "metadata": {
    "ExecuteTime": {
     "end_time": "2020-02-18T06:12:12.108319Z",
     "start_time": "2020-02-18T06:12:12.104136Z"
    }
   },
   "outputs": [
    {
     "data": {
      "text/plain": [
       "array([0, 0, 0, 1, 0])"
      ]
     },
     "execution_count": 59,
     "metadata": {},
     "output_type": "execute_result"
    }
   ],
   "source": [
    "# Take a look to confirm it worked, this should be an array of 1's and 0's\n",
    "predictions[0:5]"
   ]
  },
  {
   "cell_type": "code",
   "execution_count": 60,
   "metadata": {
    "ExecuteTime": {
     "end_time": "2020-02-18T06:12:12.120690Z",
     "start_time": "2020-02-18T06:12:12.110228Z"
    }
   },
   "outputs": [
    {
     "name": "stdout",
     "output_type": "stream",
     "text": [
      "Confusion Matrix \n",
      " [[6660  349]\n",
      " [1307  684]]\n"
     ]
    }
   ],
   "source": [
    "# Now create a confusion matrix \n",
    "print(\"Confusion Matrix \\n\", confusion_matrix(y_test, predictions))"
   ]
  },
  {
   "cell_type": "code",
   "execution_count": 61,
   "metadata": {
    "ExecuteTime": {
     "end_time": "2020-02-18T06:12:12.137100Z",
     "start_time": "2020-02-18T06:12:12.122130Z"
    }
   },
   "outputs": [
    {
     "name": "stdout",
     "output_type": "stream",
     "text": [
      "ROC-AUC Score \n",
      " 0.7704444217841752\n"
     ]
    }
   ],
   "source": [
    "from sklearn.metrics import roc_auc_score\n",
    "\n",
    "# Get the ROC-AUC score\n",
    "predictions_proba = grid_rf_class.best_estimator_.predict_proba(X_test)[:,1]\n",
    "print(\"ROC-AUC Score \\n\", roc_auc_score(y_test, predictions_proba))"
   ]
  },
  {
   "cell_type": "markdown",
   "metadata": {},
   "source": [
    "Nice stuff! The `.best_estimator_` property is a really powerful property to understand for streamlining our machine learning model building process. We now can run a grid search and seamlessly use the best model from that search to make predictions. Piece of cake!"
   ]
  },
  {
   "cell_type": "markdown",
   "metadata": {},
   "source": [
    "# Random Search"
   ]
  },
  {
   "cell_type": "markdown",
   "metadata": {},
   "source": [
    "This chapter introduces another popular automated hyperparameter tuning methodology called Random Search. We will learn what it is, how it works and importantly how it differs from grid search. We will learn some advantages and disadvantages of this method and when to choose this method compared to Grid Search. We will practice undertaking a Random Search with Scikit Learn as well as visualizing & interpreting the output."
   ]
  },
  {
   "cell_type": "markdown",
   "metadata": {},
   "source": [
    "## Introducing Random Search"
   ]
  },
  {
   "cell_type": "markdown",
   "metadata": {},
   "source": [
    "### Randomly Sample Hyperparameters"
   ]
  },
  {
   "cell_type": "markdown",
   "metadata": {},
   "source": [
    "To undertake a random search, we firstly need to undertake a random sampling of our hyperparameter space."
   ]
  },
  {
   "cell_type": "markdown",
   "metadata": {},
   "source": [
    "In this example, we will firstly create some lists of hyperparameters that can be zipped up to a list of lists. Then we will randomly sample hyperparameter combinations preparation for running a random search."
   ]
  },
  {
   "cell_type": "markdown",
   "metadata": {},
   "source": [
    "We will use just the hyperparameters `learning_rate` and `min_samples_leaf` of the GBM algorithm to keep the example illustrative and not overly complicated."
   ]
  },
  {
   "cell_type": "code",
   "execution_count": 62,
   "metadata": {
    "ExecuteTime": {
     "end_time": "2020-02-18T06:12:12.142028Z",
     "start_time": "2020-02-18T06:12:12.138805Z"
    }
   },
   "outputs": [],
   "source": [
    "# Create a list of values for the learning_rate hyperparameter\n",
    "learn_rate_list = list(np.linspace(0.01,1.5,200))"
   ]
  },
  {
   "cell_type": "code",
   "execution_count": 63,
   "metadata": {
    "ExecuteTime": {
     "end_time": "2020-02-18T06:12:12.146517Z",
     "start_time": "2020-02-18T06:12:12.143795Z"
    }
   },
   "outputs": [],
   "source": [
    "# Create a list of values for the min_samples_leaf hyperparameter\n",
    "min_samples_list = list(range(10,41))"
   ]
  },
  {
   "cell_type": "code",
   "execution_count": 64,
   "metadata": {
    "ExecuteTime": {
     "end_time": "2020-02-18T06:12:12.157825Z",
     "start_time": "2020-02-18T06:12:12.152883Z"
    }
   },
   "outputs": [],
   "source": [
    "# Combination list\n",
    "from itertools import product\n",
    "combinations_list = [list(x) for x in product(learn_rate_list, min_samples_list)]"
   ]
  },
  {
   "cell_type": "code",
   "execution_count": 65,
   "metadata": {
    "ExecuteTime": {
     "end_time": "2020-02-18T06:12:12.165017Z",
     "start_time": "2020-02-18T06:12:12.161031Z"
    }
   },
   "outputs": [],
   "source": [
    "# Sample hyperparameter combinations for a random search.\n",
    "random_combinations_index = np.random.choice(range(0, len(combinations_list)), 250, replace=False)\n",
    "combinations_random_chosen = [combinations_list[x] for x in random_combinations_index]"
   ]
  },
  {
   "cell_type": "code",
   "execution_count": 66,
   "metadata": {
    "ExecuteTime": {
     "end_time": "2020-02-18T06:12:12.176489Z",
     "start_time": "2020-02-18T06:12:12.166520Z"
    }
   },
   "outputs": [
    {
     "data": {
      "text/plain": [
       "[[0.7063316582914573, 15],\n",
       " [0.5191457286432161, 28],\n",
       " [1.3577386934673366, 16],\n",
       " [0.9084924623115578, 32],\n",
       " [0.6763819095477387, 33],\n",
       " [1.3876884422110551, 40],\n",
       " [0.7662311557788944, 35],\n",
       " [0.3993467336683417, 15],\n",
       " [1.050753768844221, 33],\n",
       " [0.34693467336683415, 40],\n",
       " [0.14477386934673367, 35],\n",
       " [1.0881909547738693, 14],\n",
       " [0.8860301507537688, 13],\n",
       " [0.5640703517587939, 10],\n",
       " [0.20467336683417087, 27],\n",
       " [1.305326633165829, 16],\n",
       " [1.3951758793969848, 13],\n",
       " [1.0432663316582915, 40],\n",
       " [1.0058291457286432, 37],\n",
       " [0.42180904522613066, 11],\n",
       " [0.8411055276381909, 29],\n",
       " [0.20467336683417087, 28],\n",
       " [1.4251256281407034, 15],\n",
       " [0.4442713567839196, 12],\n",
       " [1.4700502512562814, 30],\n",
       " [0.5865326633165829, 17],\n",
       " [1.4625628140703517, 25],\n",
       " [1.0657286432160804, 27],\n",
       " [1.4775376884422111, 34],\n",
       " [0.2720603015075377, 29],\n",
       " [0.5341206030150754, 31],\n",
       " [0.4891959798994975, 37],\n",
       " [0.3394472361809045, 29],\n",
       " [0.7812060301507537, 38],\n",
       " [1.1705527638190953, 20],\n",
       " [1.3951758793969848, 19],\n",
       " [1.1705527638190953, 10],\n",
       " [1.3352763819095477, 39],\n",
       " [1.4401005025125628, 29],\n",
       " [1.013316582914573, 28],\n",
       " [0.7662311557788944, 37],\n",
       " [0.2720603015075377, 23],\n",
       " [0.03246231155778895, 17],\n",
       " [0.5191457286432161, 14],\n",
       " [0.15226130653266332, 15],\n",
       " [0.40683417085427137, 37],\n",
       " [1.372713567839196, 29],\n",
       " [0.27954773869346733, 13],\n",
       " [1.372713567839196, 38],\n",
       " [0.33195979899497485, 34],\n",
       " [1.2154773869346733, 37],\n",
       " [0.2720603015075377, 26],\n",
       " [0.6464321608040201, 24],\n",
       " [1.305326633165829, 18],\n",
       " [1.2304522613065327, 40],\n",
       " [0.5116582914572865, 28],\n",
       " [1.1705527638190953, 26],\n",
       " [0.8785427135678392, 15],\n",
       " [0.287035175879397, 13],\n",
       " [0.287035175879397, 14],\n",
       " [0.2570854271356784, 29],\n",
       " [0.6464321608040201, 19],\n",
       " [0.8560804020100502, 37],\n",
       " [0.30201005025125627, 39],\n",
       " [0.1672361809045226, 28],\n",
       " [0.42180904522613066, 40],\n",
       " [1.2154773869346733, 38],\n",
       " [0.5565829145728644, 15],\n",
       " [1.1705527638190953, 22],\n",
       " [0.8036683417085427, 11],\n",
       " [0.46673366834170854, 38],\n",
       " [0.8635678391959799, 31],\n",
       " [0.7362814070351759, 23],\n",
       " [0.017487437185929648, 17],\n",
       " [0.3993467336683417, 13],\n",
       " [1.2079899497487436, 20],\n",
       " [1.1406030150753768, 10],\n",
       " [0.017487437185929648, 33],\n",
       " [0.1822110552763819, 25],\n",
       " [0.5715577889447236, 26],\n",
       " [1.1331155778894473, 26],\n",
       " [0.017487437185929648, 23],\n",
       " [0.4966834170854271, 30],\n",
       " [0.9833668341708542, 17],\n",
       " [0.6539195979899497, 40],\n",
       " [1.178040201005025, 26],\n",
       " [0.8935175879396985, 26],\n",
       " [1.455075376884422, 17],\n",
       " [0.7886934673366834, 30],\n",
       " [0.968391959798995, 29],\n",
       " [0.6539195979899497, 25],\n",
       " [0.06989949748743718, 28],\n",
       " [0.8560804020100502, 19],\n",
       " [0.4891959798994975, 40],\n",
       " [1.2604020100502513, 12],\n",
       " [0.46673366834170854, 40],\n",
       " [0.5490954773869346, 36],\n",
       " [0.414321608040201, 13],\n",
       " [0.8560804020100502, 14],\n",
       " [0.6838693467336683, 25],\n",
       " [1.327788944723618, 32],\n",
       " [1.4326130653266331, 34],\n",
       " [1.2529145728643216, 16],\n",
       " [0.48170854271356783, 38],\n",
       " [1.050753768844221, 10],\n",
       " [0.18969849246231157, 39],\n",
       " [1.0282914572864321, 38],\n",
       " [0.2720603015075377, 25],\n",
       " [0.31698492462311556, 19],\n",
       " [0.818643216080402, 21],\n",
       " [0.4966834170854271, 36],\n",
       " [0.7287939698492463, 37],\n",
       " [0.8261306532663316, 11],\n",
       " [0.2570854271356784, 19],\n",
       " [0.31698492462311556, 22],\n",
       " [1.2379396984924622, 28],\n",
       " [1.2154773869346733, 28],\n",
       " [0.17472361809045225, 36],\n",
       " [1.327788944723618, 14],\n",
       " [1.1705527638190953, 24],\n",
       " [0.36190954773869344, 32],\n",
       " [0.5715577889447236, 23],\n",
       " [0.7587437185929649, 31],\n",
       " [1.0282914572864321, 16],\n",
       " [1.3203015075376885, 14],\n",
       " [1.1480904522613065, 37],\n",
       " [1.4475879396984925, 11],\n",
       " [1.013316582914573, 23],\n",
       " [0.09236180904522612, 23],\n",
       " [0.2421105527638191, 18],\n",
       " [0.14477386934673367, 19],\n",
       " [0.12979899497487438, 25],\n",
       " [0.2421105527638191, 10],\n",
       " [1.050753768844221, 23],\n",
       " [0.40683417085427137, 33],\n",
       " [0.9234673366834171, 37],\n",
       " [0.8635678391959799, 20],\n",
       " [0.6239698492462311, 18],\n",
       " [1.455075376884422, 20],\n",
       " [0.38437185929648243, 31],\n",
       " [0.01, 30],\n",
       " [0.04743718592964824, 40],\n",
       " [1.0208040201005024, 39],\n",
       " [0.09984924623115578, 24],\n",
       " [1.245427135678392, 40],\n",
       " [0.36939698492462314, 18],\n",
       " [1.3128140703517588, 31],\n",
       " [1.4850251256281406, 37],\n",
       " [0.8485929648241206, 21],\n",
       " [1.4775376884422111, 39],\n",
       " [1.1331155778894473, 16],\n",
       " [0.9384422110552764, 32],\n",
       " [0.14477386934673367, 29],\n",
       " [1.2529145728643216, 23],\n",
       " [1.3427638190954774, 20],\n",
       " [1.4775376884422111, 36],\n",
       " [0.6988442211055276, 34],\n",
       " [0.43678391959798996, 21],\n",
       " [1.2379396984924622, 14],\n",
       " [0.5116582914572865, 40],\n",
       " [1.4326130653266331, 33],\n",
       " [0.6164824120603015, 40],\n",
       " [1.4475879396984925, 33],\n",
       " [0.45175879396984925, 11],\n",
       " [0.9609045226130652, 32],\n",
       " [0.3918592964824121, 12],\n",
       " [0.2121608040201005, 14],\n",
       " [0.5116582914572865, 35],\n",
       " [0.19718592964824122, 40],\n",
       " [0.9609045226130652, 13],\n",
       " [0.21964824120603016, 28],\n",
       " [0.7662311557788944, 21],\n",
       " [1.0432663316582915, 31],\n",
       " [0.6089949748743718, 13],\n",
       " [0.5565829145728644, 36],\n",
       " [1.3876884422110551, 13],\n",
       " [1.4700502512562814, 19],\n",
       " [1.1480904522613065, 35],\n",
       " [0.668894472361809, 35],\n",
       " [0.4742211055276382, 12],\n",
       " [1.4700502512562814, 17],\n",
       " [1.372713567839196, 20],\n",
       " [0.4891959798994975, 18],\n",
       " [1.3652261306532663, 16],\n",
       " [0.9534170854271357, 31],\n",
       " [1.3128140703517588, 34],\n",
       " [0.43678391959798996, 37],\n",
       " [0.7587437185929649, 26],\n",
       " [0.36190954773869344, 17],\n",
       " [1.1331155778894473, 13],\n",
       " [1.3951758793969848, 21],\n",
       " [1.4101507537688442, 22],\n",
       " [0.6389447236180904, 26],\n",
       " [0.5640703517587939, 18],\n",
       " [0.3918592964824121, 22],\n",
       " [1.0807035175879396, 31],\n",
       " [0.31698492462311556, 18],\n",
       " [0.2570854271356784, 40],\n",
       " [0.48170854271356783, 22],\n",
       " [0.6164824120603015, 21],\n",
       " [0.9010050251256281, 10],\n",
       " [1.3427638190954774, 29],\n",
       " [1.2828643216080402, 38],\n",
       " [1.350251256281407, 20],\n",
       " [1.4775376884422111, 25],\n",
       " [0.6164824120603015, 10],\n",
       " [0.6239698492462311, 22],\n",
       " [0.15226130653266332, 33],\n",
       " [0.5790452261306532, 21],\n",
       " [0.5565829145728644, 32],\n",
       " [0.039949748743718594, 12],\n",
       " [1.4925125628140703, 39],\n",
       " [0.6389447236180904, 22],\n",
       " [0.30201005025125627, 40],\n",
       " [1.1106532663316582, 26],\n",
       " [0.4966834170854271, 12],\n",
       " [0.3394472361809045, 32],\n",
       " [0.38437185929648243, 26],\n",
       " [0.6539195979899497, 22],\n",
       " [1.200502512562814, 34],\n",
       " [0.8860301507537688, 29],\n",
       " [1.1480904522613065, 23],\n",
       " [1.013316582914573, 29],\n",
       " [0.36190954773869344, 39],\n",
       " [0.8710552763819095, 25],\n",
       " [1.3577386934673366, 11],\n",
       " [1.3652261306532663, 17],\n",
       " [0.33195979899497485, 13],\n",
       " [0.17472361809045225, 24],\n",
       " [0.21964824120603016, 19],\n",
       " [1.5, 27],\n",
       " [0.38437185929648243, 36],\n",
       " [1.2529145728643216, 10],\n",
       " [0.6089949748743718, 40],\n",
       " [1.4401005025125628, 34],\n",
       " [0.31698492462311556, 25],\n",
       " [0.7437688442211056, 31],\n",
       " [1.0432663316582915, 36],\n",
       " [0.4966834170854271, 35],\n",
       " [0.12231155778894472, 29],\n",
       " [0.06989949748743718, 16],\n",
       " [0.36939698492462314, 23],\n",
       " [1.0807035175879396, 34],\n",
       " [0.26457286432160804, 27],\n",
       " [0.7512562814070352, 16],\n",
       " [0.4592462311557789, 22],\n",
       " [0.15226130653266332, 16],\n",
       " [0.7512562814070352, 15],\n",
       " [0.5640703517587939, 22],\n",
       " [0.7512562814070352, 39]]"
      ]
     },
     "execution_count": 66,
     "metadata": {},
     "output_type": "execute_result"
    }
   ],
   "source": [
    "# Print the result\n",
    "combinations_random_chosen"
   ]
  },
  {
   "cell_type": "markdown",
   "metadata": {},
   "source": [
    "Excellent! We generated some hyperparameter combinations and randomly sampled in that space. The output was not too nice though, in the next example we will use a much more efficient method for this. In a future example we will also make this output look much nicer!"
   ]
  },
  {
   "cell_type": "markdown",
   "metadata": {},
   "source": [
    "### Randomly Search with Random Forest"
   ]
  },
  {
   "cell_type": "markdown",
   "metadata": {},
   "source": [
    "To solidify our knowledge of random sampling, let's try a similar exercise but using different hyperparameters and a different algorithm."
   ]
  },
  {
   "cell_type": "markdown",
   "metadata": {},
   "source": [
    "As before, we create some lists of hyperparameters that can be zipped up to a list of lists. We will use the hyperparameters `criterion`, `max_depth` and `max_features` of the random forest algorithm. Then we will randomly sample hyperparameter combinations in preparation for running a random search."
   ]
  },
  {
   "cell_type": "markdown",
   "metadata": {},
   "source": [
    "We will use a slightly different package for sampling in this task, `random.sample()`."
   ]
  },
  {
   "cell_type": "code",
   "execution_count": 67,
   "metadata": {
    "ExecuteTime": {
     "end_time": "2020-02-18T06:12:12.180514Z",
     "start_time": "2020-02-18T06:12:12.178008Z"
    }
   },
   "outputs": [],
   "source": [
    "# Create lists for criterion and max_features\n",
    "criterion_list = [\"gini\", \"entropy\"]\n",
    "max_feature_list = [\"auto\", \"sqrt\", \"log2\", None]"
   ]
  },
  {
   "cell_type": "code",
   "execution_count": 68,
   "metadata": {
    "ExecuteTime": {
     "end_time": "2020-02-18T06:12:12.184449Z",
     "start_time": "2020-02-18T06:12:12.182101Z"
    }
   },
   "outputs": [],
   "source": [
    "# Create a list of values for the max_depth hyperparameter\n",
    "max_depth_list = list(range(3,56))"
   ]
  },
  {
   "cell_type": "code",
   "execution_count": 69,
   "metadata": {
    "ExecuteTime": {
     "end_time": "2020-02-18T06:12:12.189402Z",
     "start_time": "2020-02-18T06:12:12.185963Z"
    }
   },
   "outputs": [],
   "source": [
    "# Combination list\n",
    "combinations_list = [list(x) for x in product(criterion_list, max_feature_list, max_depth_list)]"
   ]
  },
  {
   "cell_type": "code",
   "execution_count": 70,
   "metadata": {
    "ExecuteTime": {
     "end_time": "2020-02-18T06:12:12.193607Z",
     "start_time": "2020-02-18T06:12:12.190740Z"
    }
   },
   "outputs": [],
   "source": [
    "import random\n",
    "\n",
    "# Sample hyperparameter combinations for a random search\n",
    "combinations_random_chosen = random.sample(combinations_list, 150)"
   ]
  },
  {
   "cell_type": "code",
   "execution_count": 71,
   "metadata": {
    "ExecuteTime": {
     "end_time": "2020-02-18T06:12:12.205716Z",
     "start_time": "2020-02-18T06:12:12.195441Z"
    }
   },
   "outputs": [
    {
     "data": {
      "text/plain": [
       "[['entropy', None, 9],\n",
       " ['gini', None, 41],\n",
       " ['entropy', None, 51],\n",
       " ['entropy', 'auto', 27],\n",
       " ['entropy', None, 42],\n",
       " ['entropy', 'auto', 52],\n",
       " ['entropy', 'log2', 25],\n",
       " ['entropy', None, 33],\n",
       " ['gini', 'auto', 35],\n",
       " ['gini', None, 33],\n",
       " ['gini', 'sqrt', 29],\n",
       " ['entropy', None, 11],\n",
       " ['gini', 'sqrt', 31],\n",
       " ['gini', 'sqrt', 50],\n",
       " ['gini', 'sqrt', 49],\n",
       " ['gini', None, 12],\n",
       " ['gini', 'auto', 23],\n",
       " ['gini', 'log2', 51],\n",
       " ['gini', None, 43],\n",
       " ['entropy', 'auto', 26],\n",
       " ['gini', 'auto', 34],\n",
       " ['entropy', 'auto', 41],\n",
       " ['entropy', 'log2', 4],\n",
       " ['entropy', 'log2', 14],\n",
       " ['gini', 'sqrt', 9],\n",
       " ['entropy', 'auto', 32],\n",
       " ['gini', 'log2', 44],\n",
       " ['entropy', 'auto', 3],\n",
       " ['gini', 'auto', 30],\n",
       " ['gini', 'auto', 48],\n",
       " ['entropy', None, 48],\n",
       " ['gini', None, 20],\n",
       " ['gini', None, 40],\n",
       " ['gini', 'auto', 7],\n",
       " ['entropy', 'auto', 39],\n",
       " ['entropy', None, 21],\n",
       " ['entropy', None, 8],\n",
       " ['entropy', 'sqrt', 17],\n",
       " ['entropy', 'log2', 27],\n",
       " ['gini', None, 31],\n",
       " ['entropy', 'auto', 50],\n",
       " ['gini', 'log2', 45],\n",
       " ['gini', 'log2', 21],\n",
       " ['gini', 'sqrt', 19],\n",
       " ['entropy', 'auto', 44],\n",
       " ['gini', 'sqrt', 5],\n",
       " ['gini', 'auto', 3],\n",
       " ['gini', 'auto', 9],\n",
       " ['gini', 'auto', 51],\n",
       " ['gini', 'auto', 10],\n",
       " ['entropy', 'sqrt', 53],\n",
       " ['gini', 'auto', 11],\n",
       " ['entropy', 'log2', 6],\n",
       " ['entropy', 'log2', 39],\n",
       " ['gini', None, 11],\n",
       " ['entropy', 'log2', 9],\n",
       " ['gini', 'auto', 54],\n",
       " ['gini', 'log2', 55],\n",
       " ['entropy', 'sqrt', 41],\n",
       " ['gini', 'log2', 18],\n",
       " ['gini', None, 6],\n",
       " ['gini', 'sqrt', 26],\n",
       " ['entropy', 'log2', 22],\n",
       " ['gini', 'auto', 24],\n",
       " ['gini', 'log2', 43],\n",
       " ['entropy', 'auto', 29],\n",
       " ['entropy', 'auto', 5],\n",
       " ['gini', 'sqrt', 48],\n",
       " ['entropy', 'log2', 21],\n",
       " ['entropy', 'log2', 34],\n",
       " ['entropy', 'sqrt', 4],\n",
       " ['entropy', 'log2', 53],\n",
       " ['gini', None, 23],\n",
       " ['gini', 'log2', 47],\n",
       " ['gini', 'sqrt', 7],\n",
       " ['entropy', None, 15],\n",
       " ['gini', None, 46],\n",
       " ['entropy', 'auto', 48],\n",
       " ['gini', 'sqrt', 32],\n",
       " ['gini', None, 5],\n",
       " ['entropy', 'log2', 55],\n",
       " ['entropy', 'log2', 26],\n",
       " ['gini', None, 8],\n",
       " ['entropy', None, 24],\n",
       " ['gini', 'auto', 36],\n",
       " ['gini', 'sqrt', 12],\n",
       " ['gini', 'auto', 26],\n",
       " ['gini', 'sqrt', 14],\n",
       " ['gini', 'sqrt', 45],\n",
       " ['entropy', 'auto', 23],\n",
       " ['entropy', 'sqrt', 8],\n",
       " ['entropy', 'sqrt', 51],\n",
       " ['entropy', None, 34],\n",
       " ['entropy', 'auto', 28],\n",
       " ['entropy', 'auto', 51],\n",
       " ['gini', 'sqrt', 53],\n",
       " ['entropy', None, 52],\n",
       " ['entropy', 'sqrt', 26],\n",
       " ['gini', 'auto', 6],\n",
       " ['gini', None, 22],\n",
       " ['entropy', None, 12],\n",
       " ['entropy', None, 28],\n",
       " ['entropy', None, 27],\n",
       " ['gini', 'auto', 55],\n",
       " ['gini', 'log2', 14],\n",
       " ['entropy', 'sqrt', 20],\n",
       " ['gini', 'log2', 12],\n",
       " ['gini', 'auto', 22],\n",
       " ['gini', None, 10],\n",
       " ['gini', 'sqrt', 35],\n",
       " ['gini', 'auto', 40],\n",
       " ['entropy', 'sqrt', 52],\n",
       " ['entropy', None, 4],\n",
       " ['gini', None, 38],\n",
       " ['entropy', None, 32],\n",
       " ['entropy', None, 10],\n",
       " ['gini', None, 49],\n",
       " ['gini', None, 19],\n",
       " ['gini', 'log2', 37],\n",
       " ['entropy', 'auto', 31],\n",
       " ['entropy', 'log2', 8],\n",
       " ['gini', 'log2', 28],\n",
       " ['entropy', 'log2', 37],\n",
       " ['gini', 'log2', 30],\n",
       " ['gini', None, 52],\n",
       " ['gini', 'sqrt', 40],\n",
       " ['gini', 'auto', 53],\n",
       " ['entropy', 'sqrt', 15],\n",
       " ['entropy', 'log2', 45],\n",
       " ['entropy', 'sqrt', 49],\n",
       " ['entropy', 'sqrt', 27],\n",
       " ['entropy', 'sqrt', 50],\n",
       " ['entropy', 'sqrt', 19],\n",
       " ['entropy', None, 26],\n",
       " ['entropy', 'log2', 40],\n",
       " ['gini', None, 44],\n",
       " ['gini', 'sqrt', 51],\n",
       " ['gini', None, 30],\n",
       " ['gini', 'sqrt', 27],\n",
       " ['entropy', 'log2', 33],\n",
       " ['gini', 'log2', 26],\n",
       " ['entropy', 'auto', 13],\n",
       " ['entropy', 'sqrt', 33],\n",
       " ['gini', 'sqrt', 46],\n",
       " ['entropy', 'auto', 17],\n",
       " ['entropy', None, 18],\n",
       " ['entropy', 'auto', 25],\n",
       " ['gini', 'log2', 6],\n",
       " ['entropy', 'log2', 50],\n",
       " ['gini', 'sqrt', 28]]"
      ]
     },
     "execution_count": 71,
     "metadata": {},
     "output_type": "execute_result"
    }
   ],
   "source": [
    "# Print the result\n",
    "combinations_random_chosen"
   ]
  },
  {
   "cell_type": "markdown",
   "metadata": {},
   "source": [
    "### Visualizing a Random Search"
   ]
  },
  {
   "cell_type": "markdown",
   "metadata": {},
   "source": [
    "Visualizing the search space of random search allows us to easily see the coverage of this technique and therefore allows us to see the effect of our sampling on the search space."
   ]
  },
  {
   "cell_type": "markdown",
   "metadata": {},
   "source": [
    "In this example we will use several different samples of hyperparameter combinations and produce visualizations of the search space."
   ]
  },
  {
   "cell_type": "code",
   "execution_count": 72,
   "metadata": {
    "ExecuteTime": {
     "end_time": "2020-02-18T06:12:12.211259Z",
     "start_time": "2020-02-18T06:12:12.207267Z"
    }
   },
   "outputs": [],
   "source": [
    "def sample_hyperparameters(n_samples):\n",
    "    global combinations_random_chosen\n",
    "\n",
    "    if n_samples == len(combinations_list):\n",
    "        combinations_random_chosen = combinations_list\n",
    "        return\n",
    "\n",
    "    combinations_random_chosen = []\n",
    "    random_combinations_index = np.random.choice(range(0, len(combinations_list)), n_samples, replace=False)\n",
    "    combinations_random_chosen = [combinations_list[x] for x in random_combinations_index]\n",
    "    return"
   ]
  },
  {
   "cell_type": "code",
   "execution_count": 73,
   "metadata": {
    "ExecuteTime": {
     "end_time": "2020-02-18T06:12:12.217888Z",
     "start_time": "2020-02-18T06:12:12.212898Z"
    }
   },
   "outputs": [],
   "source": [
    "def visualize_search():\n",
    "    rand_y, rand_x = [x[0] for x in combinations_random_chosen], [x[1] for x in combinations_random_chosen]\n",
    "\n",
    "    # Plot all together\n",
    "    plt.clf() \n",
    "    plt.scatter(rand_y, rand_x, c=['blue']*len(combinations_random_chosen))\n",
    "    plt.gca().set(xlabel='learn_rate', ylabel='min_samples_leaf', title='Random Search Hyperparameters')\n",
    "    plt.gca().set_xlim([0.01, 1.5])\n",
    "    plt.gca().set_ylim([10, 29])\n",
    "    plt.show()"
   ]
  },
  {
   "cell_type": "code",
   "execution_count": 74,
   "metadata": {
    "ExecuteTime": {
     "end_time": "2020-02-18T06:12:12.222045Z",
     "start_time": "2020-02-18T06:12:12.219231Z"
    }
   },
   "outputs": [],
   "source": [
    "# Create a list of values for the learning_rate hyperparameter\n",
    "learn_rate_list = list(np.linspace(0.01,1.5,200))"
   ]
  },
  {
   "cell_type": "code",
   "execution_count": 75,
   "metadata": {
    "ExecuteTime": {
     "end_time": "2020-02-18T06:12:12.226903Z",
     "start_time": "2020-02-18T06:12:12.223640Z"
    }
   },
   "outputs": [],
   "source": [
    "# Create a list of values for the min_samples_leaf hyperparameter\n",
    "min_samples_list = list(range(10,41))"
   ]
  },
  {
   "cell_type": "code",
   "execution_count": 76,
   "metadata": {
    "ExecuteTime": {
     "end_time": "2020-02-18T06:12:12.232822Z",
     "start_time": "2020-02-18T06:12:12.228591Z"
    }
   },
   "outputs": [],
   "source": [
    "# Combination list\n",
    "combinations_list = [list(x) for x in product(learn_rate_list, min_samples_list)]"
   ]
  },
  {
   "cell_type": "code",
   "execution_count": 77,
   "metadata": {
    "ExecuteTime": {
     "end_time": "2020-02-18T06:12:12.237833Z",
     "start_time": "2020-02-18T06:12:12.234327Z"
    }
   },
   "outputs": [
    {
     "data": {
      "text/plain": [
       "6200"
      ]
     },
     "execution_count": 77,
     "metadata": {},
     "output_type": "execute_result"
    }
   ],
   "source": [
    "# Confirm how hyperparameter combinations & print\n",
    "number_combs = len(combinations_list)\n",
    "number_combs"
   ]
  },
  {
   "cell_type": "code",
   "execution_count": 78,
   "metadata": {
    "ExecuteTime": {
     "end_time": "2020-02-18T06:12:13.144777Z",
     "start_time": "2020-02-18T06:12:12.239339Z"
    }
   },
   "outputs": [
    {
     "data": {
      "image/png": "[encoded data removed]",
      "text/plain": [
       "<Figure size 1440x720 with 1 Axes>"
      ]
     },
     "metadata": {
      "needs_background": "light"
     },
     "output_type": "display_data"
    },
    {
     "data": {
      "image/png": "[encoded data removed]",
      "text/plain": [
       "<Figure size 1440x720 with 1 Axes>"
      ]
     },
     "metadata": {
      "needs_background": "light"
     },
     "output_type": "display_data"
    },
    {
     "data": {
      "image/png": "[encoded data removed]",
      "text/plain": [
       "<Figure size 1440x720 with 1 Axes>"
      ]
     },
     "metadata": {
      "needs_background": "light"
     },
     "output_type": "display_data"
    }
   ],
   "source": [
    "# Sample and visualise combinations\n",
    "for x in [250, 1500, 5000]:\n",
    "    sample_hyperparameters(x)\n",
    "    visualize_search()"
   ]
  },
  {
   "cell_type": "markdown",
   "metadata": {},
   "source": [
    "Notice how the bigger our sample space of a random search the more it looks like a grid search? In a later example we will look closer at comparing these two methods side by side."
   ]
  },
  {
   "cell_type": "markdown",
   "metadata": {},
   "source": [
    "## Random Search in Scikit Learn"
   ]
  },
  {
   "cell_type": "markdown",
   "metadata": {},
   "source": [
    "### The RandomizedSeachCV Class"
   ]
  },
  {
   "cell_type": "markdown",
   "metadata": {},
   "source": [
    "Just like the `GridSearchCV` library from Scikit Learn, `RandomizedSearchCV` provides many useful features to assist with efficiently undertaking a random search. We're going to create a `RandomizedSearchCV` object, making the small adjustment needed from the `GridSearchCV` object."
   ]
  },
  {
   "cell_type": "markdown",
   "metadata": {},
   "source": [
    "The desired options are:\n",
    "\n",
    "* A default Gradient Boosting Classifier Estimator\n",
    "* 5-fold cross validation\n",
    "* Use accuracy to score the models\n",
    "* Use 4 cores for processing in parallel\n",
    "* Ensure you refit the best model and return training scores\n",
    "* Randomly sample 10 models"
   ]
  },
  {
   "cell_type": "markdown",
   "metadata": {},
   "source": [
    "The hyperparameter grid should be for `learning_rate` (150 values between 0.1 and 2) and `min_samples_leaf` (all values between 20 and 65)."
   ]
  },
  {
   "cell_type": "code",
   "execution_count": 79,
   "metadata": {
    "ExecuteTime": {
     "end_time": "2020-02-18T06:12:13.149266Z",
     "start_time": "2020-02-18T06:12:13.146404Z"
    }
   },
   "outputs": [],
   "source": [
    "# Create the parameter grid\n",
    "param_grid = {'learning_rate': np.linspace(0.1, 2, 150), 'min_samples_leaf': list(range(20, 65))} "
   ]
  },
  {
   "cell_type": "code",
   "execution_count": 80,
   "metadata": {
    "ExecuteTime": {
     "end_time": "2020-02-18T06:12:13.154069Z",
     "start_time": "2020-02-18T06:12:13.150798Z"
    }
   },
   "outputs": [],
   "source": [
    "from sklearn.model_selection import RandomizedSearchCV\n",
    "\n",
    "# Create a random search object\n",
    "random_GBM_class = RandomizedSearchCV(\n",
    "    estimator = GradientBoostingClassifier(random_state=42),\n",
    "    param_distributions = param_grid,\n",
    "    n_iter = 10,\n",
    "    scoring='accuracy', n_jobs=4, cv = 5, refit=True, return_train_score = True)"
   ]
  },
  {
   "cell_type": "code",
   "execution_count": 81,
   "metadata": {
    "ExecuteTime": {
     "end_time": "2020-02-18T06:12:48.386064Z",
     "start_time": "2020-02-18T06:12:13.155745Z"
    }
   },
   "outputs": [
    {
     "data": {
      "text/plain": [
       "RandomizedSearchCV(cv=5, error_score='raise-deprecating',\n",
       "                   estimator=GradientBoostingClassifier(criterion='friedman_mse',\n",
       "                                                        init=None,\n",
       "                                                        learning_rate=0.1,\n",
       "                                                        loss='deviance',\n",
       "                                                        max_depth=3,\n",
       "                                                        max_features=None,\n",
       "                                                        max_leaf_nodes=None,\n",
       "                                                        min_impurity_decrease=0.0,\n",
       "                                                        min_impurity_split=None,\n",
       "                                                        min_samples_leaf=1,\n",
       "                                                        min_samples_split=2,\n",
       "                                                        min_weight_fraction_leaf=0.0,\n",
       "                                                        n_estimators=100,\n",
       "                                                        n_i...\n",
       "       1.82147651, 1.83422819, 1.84697987, 1.85973154, 1.87248322,\n",
       "       1.8852349 , 1.89798658, 1.91073826, 1.92348993, 1.93624161,\n",
       "       1.94899329, 1.96174497, 1.97449664, 1.98724832, 2.        ]),\n",
       "                                        'min_samples_leaf': [20, 21, 22, 23, 24,\n",
       "                                                             25, 26, 27, 28, 29,\n",
       "                                                             30, 31, 32, 33, 34,\n",
       "                                                             35, 36, 37, 38, 39,\n",
       "                                                             40, 41, 42, 43, 44,\n",
       "                                                             45, 46, 47, 48, 49, ...]},\n",
       "                   pre_dispatch='2*n_jobs', random_state=None, refit=True,\n",
       "                   return_train_score=True, scoring='accuracy', verbose=0)"
      ]
     },
     "execution_count": 81,
     "metadata": {},
     "output_type": "execute_result"
    }
   ],
   "source": [
    "# Fit to the training data\n",
    "random_GBM_class.fit(X_train, y_train)"
   ]
  },
  {
   "cell_type": "code",
   "execution_count": 82,
   "metadata": {
    "ExecuteTime": {
     "end_time": "2020-02-18T06:12:48.392314Z",
     "start_time": "2020-02-18T06:12:48.387648Z"
    }
   },
   "outputs": [
    {
     "name": "stdout",
     "output_type": "stream",
     "text": [
      "[0.16375838926174496 1.1201342281879194 0.5718120805369128\n",
      " 0.8395973154362416 0.9543624161073825 0.30402684563758386\n",
      " 0.17651006711409395 0.5590604026845637 1.7577181208053692\n",
      " 0.5208053691275167]\n",
      "[45 64 55 22 47 29 48 58 57 43]\n"
     ]
    }
   ],
   "source": [
    "# Print the values used for both hyperparameters\n",
    "print(random_GBM_class.cv_results_['param_learning_rate'])\n",
    "print(random_GBM_class.cv_results_['param_min_samples_leaf'])"
   ]
  },
  {
   "cell_type": "markdown",
   "metadata": {},
   "source": [
    "### RandomSearchCV in Scikit Learn"
   ]
  },
  {
   "cell_type": "markdown",
   "metadata": {},
   "source": [
    "Let's practice building a RandomizedSearchCV object using Scikit Learn."
   ]
  },
  {
   "cell_type": "markdown",
   "metadata": {},
   "source": [
    "The desired options are:\n",
    "\n",
    "* A RandomForestClassifier Estimator with default 80 estimators\n",
    "* 3-fold cross validation\n",
    "* Use AUC to score the models\n",
    "* Use 4 cores for processing in parallel\n",
    "* Ensure you refit the best model and return training scores\n",
    "* Randomly sample 5 models for processing efficiency"
   ]
  },
  {
   "cell_type": "markdown",
   "metadata": {},
   "source": [
    "The hyperparameter grid should be for `max_depth` (all values between and including 5 and 25) and `max_features` ('auto' and 'sqrt')."
   ]
  },
  {
   "cell_type": "code",
   "execution_count": 83,
   "metadata": {
    "ExecuteTime": {
     "end_time": "2020-02-18T06:12:48.397965Z",
     "start_time": "2020-02-18T06:12:48.394442Z"
    }
   },
   "outputs": [],
   "source": [
    "# Create the parameter grid\n",
    "param_grid = {'max_depth': list(range(5,26)), 'max_features': ['auto' , 'sqrt']} "
   ]
  },
  {
   "cell_type": "code",
   "execution_count": 84,
   "metadata": {
    "ExecuteTime": {
     "end_time": "2020-02-18T06:12:48.404479Z",
     "start_time": "2020-02-18T06:12:48.400020Z"
    }
   },
   "outputs": [],
   "source": [
    "# Create a random search object\n",
    "random_rf_class = RandomizedSearchCV(\n",
    "    estimator = RandomForestClassifier(n_estimators=80, random_state=42),\n",
    "    param_distributions = param_grid, n_iter = 5,\n",
    "    scoring='roc_auc', n_jobs=4, cv = 3, refit=True, return_train_score = True)"
   ]
  },
  {
   "cell_type": "code",
   "execution_count": 85,
   "metadata": {
    "ExecuteTime": {
     "end_time": "2020-02-18T06:13:01.251461Z",
     "start_time": "2020-02-18T06:12:48.406678Z"
    }
   },
   "outputs": [
    {
     "data": {
      "text/plain": [
       "RandomizedSearchCV(cv=3, error_score='raise-deprecating',\n",
       "                   estimator=RandomForestClassifier(bootstrap=True,\n",
       "                                                    class_weight=None,\n",
       "                                                    criterion='gini',\n",
       "                                                    max_depth=None,\n",
       "                                                    max_features='auto',\n",
       "                                                    max_leaf_nodes=None,\n",
       "                                                    min_impurity_decrease=0.0,\n",
       "                                                    min_impurity_split=None,\n",
       "                                                    min_samples_leaf=1,\n",
       "                                                    min_samples_split=2,\n",
       "                                                    min_weight_fraction_leaf=0.0,\n",
       "                                                    n_estimators=80,\n",
       "                                                    n_jobs=None,\n",
       "                                                    oob_score=False,\n",
       "                                                    random_state=42, verbose=0,\n",
       "                                                    warm_start=False),\n",
       "                   iid='warn', n_iter=5, n_jobs=4,\n",
       "                   param_distributions={'max_depth': [5, 6, 7, 8, 9, 10, 11, 12,\n",
       "                                                      13, 14, 15, 16, 17, 18,\n",
       "                                                      19, 20, 21, 22, 23, 24,\n",
       "                                                      25],\n",
       "                                        'max_features': ['auto', 'sqrt']},\n",
       "                   pre_dispatch='2*n_jobs', random_state=None, refit=True,\n",
       "                   return_train_score=True, scoring='roc_auc', verbose=0)"
      ]
     },
     "execution_count": 85,
     "metadata": {},
     "output_type": "execute_result"
    }
   ],
   "source": [
    "# Fit to the training data\n",
    "random_rf_class.fit(X_train, y_train)"
   ]
  },
  {
   "cell_type": "code",
   "execution_count": 86,
   "metadata": {
    "ExecuteTime": {
     "end_time": "2020-02-18T06:13:01.257831Z",
     "start_time": "2020-02-18T06:13:01.253288Z"
    }
   },
   "outputs": [
    {
     "name": "stdout",
     "output_type": "stream",
     "text": [
      "[24 11 6 18 13]\n",
      "['sqrt' 'auto' 'sqrt' 'auto' 'sqrt']\n"
     ]
    }
   ],
   "source": [
    "# Print the values used for both hyperparameters\n",
    "print(random_rf_class.cv_results_['param_max_depth'])\n",
    "print(random_rf_class.cv_results_['param_max_features'])"
   ]
  },
  {
   "cell_type": "markdown",
   "metadata": {},
   "source": [
    "## Comparing Grid and Random Search"
   ]
  },
  {
   "cell_type": "markdown",
   "metadata": {},
   "source": [
    "### Grid and Random Search Side by Side"
   ]
  },
  {
   "cell_type": "markdown",
   "metadata": {},
   "source": [
    "Visualizing the search space of random and grid search together allows us to easily see the coverage that each technique has and therefore brings to life their specific advantages and disadvantages."
   ]
  },
  {
   "cell_type": "markdown",
   "metadata": {},
   "source": [
    "In this example, we will sample hyperparameter combinations in a grid search way as well as a random search way, then plot these to see the difference."
   ]
  },
  {
   "cell_type": "code",
   "execution_count": 87,
   "metadata": {
    "ExecuteTime": {
     "end_time": "2020-02-18T06:13:01.262212Z",
     "start_time": "2020-02-18T06:13:01.259433Z"
    }
   },
   "outputs": [],
   "source": [
    "# Sample grid coordinates\n",
    "grid_combinations_chosen = combinations_list[0:300]"
   ]
  },
  {
   "cell_type": "code",
   "execution_count": 88,
   "metadata": {
    "ExecuteTime": {
     "end_time": "2020-02-18T06:13:01.280324Z",
     "start_time": "2020-02-18T06:13:01.263749Z"
    }
   },
   "outputs": [
    {
     "data": {
      "text/plain": [
       "[[0.01, 10],\n",
       " [0.01, 11],\n",
       " [0.01, 12],\n",
       " [0.01, 13],\n",
       " [0.01, 14],\n",
       " [0.01, 15],\n",
       " [0.01, 16],\n",
       " [0.01, 17],\n",
       " [0.01, 18],\n",
       " [0.01, 19],\n",
       " [0.01, 20],\n",
       " [0.01, 21],\n",
       " [0.01, 22],\n",
       " [0.01, 23],\n",
       " [0.01, 24],\n",
       " [0.01, 25],\n",
       " [0.01, 26],\n",
       " [0.01, 27],\n",
       " [0.01, 28],\n",
       " [0.01, 29],\n",
       " [0.01, 30],\n",
       " [0.01, 31],\n",
       " [0.01, 32],\n",
       " [0.01, 33],\n",
       " [0.01, 34],\n",
       " [0.01, 35],\n",
       " [0.01, 36],\n",
       " [0.01, 37],\n",
       " [0.01, 38],\n",
       " [0.01, 39],\n",
       " [0.01, 40],\n",
       " [0.017487437185929648, 10],\n",
       " [0.017487437185929648, 11],\n",
       " [0.017487437185929648, 12],\n",
       " [0.017487437185929648, 13],\n",
       " [0.017487437185929648, 14],\n",
       " [0.017487437185929648, 15],\n",
       " [0.017487437185929648, 16],\n",
       " [0.017487437185929648, 17],\n",
       " [0.017487437185929648, 18],\n",
       " [0.017487437185929648, 19],\n",
       " [0.017487437185929648, 20],\n",
       " [0.017487437185929648, 21],\n",
       " [0.017487437185929648, 22],\n",
       " [0.017487437185929648, 23],\n",
       " [0.017487437185929648, 24],\n",
       " [0.017487437185929648, 25],\n",
       " [0.017487437185929648, 26],\n",
       " [0.017487437185929648, 27],\n",
       " [0.017487437185929648, 28],\n",
       " [0.017487437185929648, 29],\n",
       " [0.017487437185929648, 30],\n",
       " [0.017487437185929648, 31],\n",
       " [0.017487437185929648, 32],\n",
       " [0.017487437185929648, 33],\n",
       " [0.017487437185929648, 34],\n",
       " [0.017487437185929648, 35],\n",
       " [0.017487437185929648, 36],\n",
       " [0.017487437185929648, 37],\n",
       " [0.017487437185929648, 38],\n",
       " [0.017487437185929648, 39],\n",
       " [0.017487437185929648, 40],\n",
       " [0.024974874371859294, 10],\n",
       " [0.024974874371859294, 11],\n",
       " [0.024974874371859294, 12],\n",
       " [0.024974874371859294, 13],\n",
       " [0.024974874371859294, 14],\n",
       " [0.024974874371859294, 15],\n",
       " [0.024974874371859294, 16],\n",
       " [0.024974874371859294, 17],\n",
       " [0.024974874371859294, 18],\n",
       " [0.024974874371859294, 19],\n",
       " [0.024974874371859294, 20],\n",
       " [0.024974874371859294, 21],\n",
       " [0.024974874371859294, 22],\n",
       " [0.024974874371859294, 23],\n",
       " [0.024974874371859294, 24],\n",
       " [0.024974874371859294, 25],\n",
       " [0.024974874371859294, 26],\n",
       " [0.024974874371859294, 27],\n",
       " [0.024974874371859294, 28],\n",
       " [0.024974874371859294, 29],\n",
       " [0.024974874371859294, 30],\n",
       " [0.024974874371859294, 31],\n",
       " [0.024974874371859294, 32],\n",
       " [0.024974874371859294, 33],\n",
       " [0.024974874371859294, 34],\n",
       " [0.024974874371859294, 35],\n",
       " [0.024974874371859294, 36],\n",
       " [0.024974874371859294, 37],\n",
       " [0.024974874371859294, 38],\n",
       " [0.024974874371859294, 39],\n",
       " [0.024974874371859294, 40],\n",
       " [0.03246231155778895, 10],\n",
       " [0.03246231155778895, 11],\n",
       " [0.03246231155778895, 12],\n",
       " [0.03246231155778895, 13],\n",
       " [0.03246231155778895, 14],\n",
       " [0.03246231155778895, 15],\n",
       " [0.03246231155778895, 16],\n",
       " [0.03246231155778895, 17],\n",
       " [0.03246231155778895, 18],\n",
       " [0.03246231155778895, 19],\n",
       " [0.03246231155778895, 20],\n",
       " [0.03246231155778895, 21],\n",
       " [0.03246231155778895, 22],\n",
       " [0.03246231155778895, 23],\n",
       " [0.03246231155778895, 24],\n",
       " [0.03246231155778895, 25],\n",
       " [0.03246231155778895, 26],\n",
       " [0.03246231155778895, 27],\n",
       " [0.03246231155778895, 28],\n",
       " [0.03246231155778895, 29],\n",
       " [0.03246231155778895, 30],\n",
       " [0.03246231155778895, 31],\n",
       " [0.03246231155778895, 32],\n",
       " [0.03246231155778895, 33],\n",
       " [0.03246231155778895, 34],\n",
       " [0.03246231155778895, 35],\n",
       " [0.03246231155778895, 36],\n",
       " [0.03246231155778895, 37],\n",
       " [0.03246231155778895, 38],\n",
       " [0.03246231155778895, 39],\n",
       " [0.03246231155778895, 40],\n",
       " [0.039949748743718594, 10],\n",
       " [0.039949748743718594, 11],\n",
       " [0.039949748743718594, 12],\n",
       " [0.039949748743718594, 13],\n",
       " [0.039949748743718594, 14],\n",
       " [0.039949748743718594, 15],\n",
       " [0.039949748743718594, 16],\n",
       " [0.039949748743718594, 17],\n",
       " [0.039949748743718594, 18],\n",
       " [0.039949748743718594, 19],\n",
       " [0.039949748743718594, 20],\n",
       " [0.039949748743718594, 21],\n",
       " [0.039949748743718594, 22],\n",
       " [0.039949748743718594, 23],\n",
       " [0.039949748743718594, 24],\n",
       " [0.039949748743718594, 25],\n",
       " [0.039949748743718594, 26],\n",
       " [0.039949748743718594, 27],\n",
       " [0.039949748743718594, 28],\n",
       " [0.039949748743718594, 29],\n",
       " [0.039949748743718594, 30],\n",
       " [0.039949748743718594, 31],\n",
       " [0.039949748743718594, 32],\n",
       " [0.039949748743718594, 33],\n",
       " [0.039949748743718594, 34],\n",
       " [0.039949748743718594, 35],\n",
       " [0.039949748743718594, 36],\n",
       " [0.039949748743718594, 37],\n",
       " [0.039949748743718594, 38],\n",
       " [0.039949748743718594, 39],\n",
       " [0.039949748743718594, 40],\n",
       " [0.04743718592964824, 10],\n",
       " [0.04743718592964824, 11],\n",
       " [0.04743718592964824, 12],\n",
       " [0.04743718592964824, 13],\n",
       " [0.04743718592964824, 14],\n",
       " [0.04743718592964824, 15],\n",
       " [0.04743718592964824, 16],\n",
       " [0.04743718592964824, 17],\n",
       " [0.04743718592964824, 18],\n",
       " [0.04743718592964824, 19],\n",
       " [0.04743718592964824, 20],\n",
       " [0.04743718592964824, 21],\n",
       " [0.04743718592964824, 22],\n",
       " [0.04743718592964824, 23],\n",
       " [0.04743718592964824, 24],\n",
       " [0.04743718592964824, 25],\n",
       " [0.04743718592964824, 26],\n",
       " [0.04743718592964824, 27],\n",
       " [0.04743718592964824, 28],\n",
       " [0.04743718592964824, 29],\n",
       " [0.04743718592964824, 30],\n",
       " [0.04743718592964824, 31],\n",
       " [0.04743718592964824, 32],\n",
       " [0.04743718592964824, 33],\n",
       " [0.04743718592964824, 34],\n",
       " [0.04743718592964824, 35],\n",
       " [0.04743718592964824, 36],\n",
       " [0.04743718592964824, 37],\n",
       " [0.04743718592964824, 38],\n",
       " [0.04743718592964824, 39],\n",
       " [0.04743718592964824, 40],\n",
       " [0.05492462311557789, 10],\n",
       " [0.05492462311557789, 11],\n",
       " [0.05492462311557789, 12],\n",
       " [0.05492462311557789, 13],\n",
       " [0.05492462311557789, 14],\n",
       " [0.05492462311557789, 15],\n",
       " [0.05492462311557789, 16],\n",
       " [0.05492462311557789, 17],\n",
       " [0.05492462311557789, 18],\n",
       " [0.05492462311557789, 19],\n",
       " [0.05492462311557789, 20],\n",
       " [0.05492462311557789, 21],\n",
       " [0.05492462311557789, 22],\n",
       " [0.05492462311557789, 23],\n",
       " [0.05492462311557789, 24],\n",
       " [0.05492462311557789, 25],\n",
       " [0.05492462311557789, 26],\n",
       " [0.05492462311557789, 27],\n",
       " [0.05492462311557789, 28],\n",
       " [0.05492462311557789, 29],\n",
       " [0.05492462311557789, 30],\n",
       " [0.05492462311557789, 31],\n",
       " [0.05492462311557789, 32],\n",
       " [0.05492462311557789, 33],\n",
       " [0.05492462311557789, 34],\n",
       " [0.05492462311557789, 35],\n",
       " [0.05492462311557789, 36],\n",
       " [0.05492462311557789, 37],\n",
       " [0.05492462311557789, 38],\n",
       " [0.05492462311557789, 39],\n",
       " [0.05492462311557789, 40],\n",
       " [0.06241206030150754, 10],\n",
       " [0.06241206030150754, 11],\n",
       " [0.06241206030150754, 12],\n",
       " [0.06241206030150754, 13],\n",
       " [0.06241206030150754, 14],\n",
       " [0.06241206030150754, 15],\n",
       " [0.06241206030150754, 16],\n",
       " [0.06241206030150754, 17],\n",
       " [0.06241206030150754, 18],\n",
       " [0.06241206030150754, 19],\n",
       " [0.06241206030150754, 20],\n",
       " [0.06241206030150754, 21],\n",
       " [0.06241206030150754, 22],\n",
       " [0.06241206030150754, 23],\n",
       " [0.06241206030150754, 24],\n",
       " [0.06241206030150754, 25],\n",
       " [0.06241206030150754, 26],\n",
       " [0.06241206030150754, 27],\n",
       " [0.06241206030150754, 28],\n",
       " [0.06241206030150754, 29],\n",
       " [0.06241206030150754, 30],\n",
       " [0.06241206030150754, 31],\n",
       " [0.06241206030150754, 32],\n",
       " [0.06241206030150754, 33],\n",
       " [0.06241206030150754, 34],\n",
       " [0.06241206030150754, 35],\n",
       " [0.06241206030150754, 36],\n",
       " [0.06241206030150754, 37],\n",
       " [0.06241206030150754, 38],\n",
       " [0.06241206030150754, 39],\n",
       " [0.06241206030150754, 40],\n",
       " [0.06989949748743718, 10],\n",
       " [0.06989949748743718, 11],\n",
       " [0.06989949748743718, 12],\n",
       " [0.06989949748743718, 13],\n",
       " [0.06989949748743718, 14],\n",
       " [0.06989949748743718, 15],\n",
       " [0.06989949748743718, 16],\n",
       " [0.06989949748743718, 17],\n",
       " [0.06989949748743718, 18],\n",
       " [0.06989949748743718, 19],\n",
       " [0.06989949748743718, 20],\n",
       " [0.06989949748743718, 21],\n",
       " [0.06989949748743718, 22],\n",
       " [0.06989949748743718, 23],\n",
       " [0.06989949748743718, 24],\n",
       " [0.06989949748743718, 25],\n",
       " [0.06989949748743718, 26],\n",
       " [0.06989949748743718, 27],\n",
       " [0.06989949748743718, 28],\n",
       " [0.06989949748743718, 29],\n",
       " [0.06989949748743718, 30],\n",
       " [0.06989949748743718, 31],\n",
       " [0.06989949748743718, 32],\n",
       " [0.06989949748743718, 33],\n",
       " [0.06989949748743718, 34],\n",
       " [0.06989949748743718, 35],\n",
       " [0.06989949748743718, 36],\n",
       " [0.06989949748743718, 37],\n",
       " [0.06989949748743718, 38],\n",
       " [0.06989949748743718, 39],\n",
       " [0.06989949748743718, 40],\n",
       " [0.07738693467336683, 10],\n",
       " [0.07738693467336683, 11],\n",
       " [0.07738693467336683, 12],\n",
       " [0.07738693467336683, 13],\n",
       " [0.07738693467336683, 14],\n",
       " [0.07738693467336683, 15],\n",
       " [0.07738693467336683, 16],\n",
       " [0.07738693467336683, 17],\n",
       " [0.07738693467336683, 18],\n",
       " [0.07738693467336683, 19],\n",
       " [0.07738693467336683, 20],\n",
       " [0.07738693467336683, 21],\n",
       " [0.07738693467336683, 22],\n",
       " [0.07738693467336683, 23],\n",
       " [0.07738693467336683, 24],\n",
       " [0.07738693467336683, 25],\n",
       " [0.07738693467336683, 26],\n",
       " [0.07738693467336683, 27],\n",
       " [0.07738693467336683, 28],\n",
       " [0.07738693467336683, 29],\n",
       " [0.07738693467336683, 30]]"
      ]
     },
     "execution_count": 88,
     "metadata": {},
     "output_type": "execute_result"
    }
   ],
   "source": [
    "# Print result\n",
    "grid_combinations_chosen"
   ]
  },
  {
   "cell_type": "code",
   "execution_count": 89,
   "metadata": {
    "ExecuteTime": {
     "end_time": "2020-02-18T06:13:01.284853Z",
     "start_time": "2020-02-18T06:13:01.282287Z"
    }
   },
   "outputs": [],
   "source": [
    "# Create a list of sample indexes\n",
    "sample_indexes = list(range(0,len(combinations_list)))"
   ]
  },
  {
   "cell_type": "code",
   "execution_count": 90,
   "metadata": {
    "ExecuteTime": {
     "end_time": "2020-02-18T06:13:01.291133Z",
     "start_time": "2020-02-18T06:13:01.286771Z"
    }
   },
   "outputs": [],
   "source": [
    "# Randomly sample 300 indexes\n",
    "random_indexes = np.random.choice(sample_indexes, 300, replace=False)"
   ]
  },
  {
   "cell_type": "code",
   "execution_count": 91,
   "metadata": {
    "ExecuteTime": {
     "end_time": "2020-02-18T06:13:01.296423Z",
     "start_time": "2020-02-18T06:13:01.292896Z"
    }
   },
   "outputs": [],
   "source": [
    "# Use indexes to create random sample\n",
    "random_combinations_chosen = [combinations_list[index] for index in random_indexes]"
   ]
  },
  {
   "cell_type": "code",
   "execution_count": 92,
   "metadata": {
    "ExecuteTime": {
     "end_time": "2020-02-18T06:13:01.306406Z",
     "start_time": "2020-02-18T06:13:01.298338Z"
    }
   },
   "outputs": [],
   "source": [
    "def visualize_search(grid_combinations_chosen, random_combinations_chosen):\n",
    "    grid_y, grid_x = [x[0] for x in grid_combinations_chosen], [x[1] for x in grid_combinations_chosen]\n",
    "    rand_y, rand_x = [x[0] for x in random_combinations_chosen], [x[1] for x in random_combinations_chosen]\n",
    "\n",
    "    # Plot all together\n",
    "    plt.scatter(grid_y + rand_y, grid_x + rand_x, c=['red']*300 + ['blue']*300)\n",
    "    plt.gca().set(xlabel='learn_rate', ylabel='min_samples_leaf', title='Grid and Random Search Hyperparameters')\n",
    "    plt.gca().set_xlim([0.01, 3.0])\n",
    "    plt.gca().set_ylim([5, 24])\n",
    "    plt.show()"
   ]
  },
  {
   "cell_type": "code",
   "execution_count": 93,
   "metadata": {
    "ExecuteTime": {
     "end_time": "2020-02-18T06:13:01.535383Z",
     "start_time": "2020-02-18T06:13:01.307932Z"
    }
   },
   "outputs": [
    {
     "data": {
      "image/png": "[encoded data removed]",
      "text/plain": [
       "<Figure size 1440x720 with 1 Axes>"
      ]
     },
     "metadata": {
      "needs_background": "light"
     },
     "output_type": "display_data"
    }
   ],
   "source": [
    "# Call the function to produce the visualization\n",
    "visualize_search(grid_combinations_chosen, random_combinations_chosen)"
   ]
  },
  {
   "cell_type": "markdown",
   "metadata": {},
   "source": [
    "We can really see how a grid search will cover a small area completely whilst random search will cover a much larger area but not completely."
   ]
  },
  {
   "cell_type": "markdown",
   "metadata": {},
   "source": [
    "# Informed Search"
   ]
  },
  {
   "cell_type": "markdown",
   "metadata": {},
   "source": [
    "This final chapter gives a taste of more advanced hyperparameter tuning methodologies known as `informed search`. This includes a methodology known as Coarse To Fine as well as Bayesian & Genetic hyperparameter tuning algorithms. We will learn how informed search differs from uninformed search and gain practical skills with each of the mentioned methodologies, comparing and contrasting them as you go."
   ]
  },
  {
   "cell_type": "markdown",
   "metadata": {},
   "source": [
    "## Informed Search: Coarse to Fine"
   ]
  },
  {
   "cell_type": "markdown",
   "metadata": {},
   "source": [
    "### Visualizing Coarse to Fine"
   ]
  },
  {
   "cell_type": "markdown",
   "metadata": {},
   "source": [
    "We're going to undertake the first part of a Coarse to Fine search. This involves analyzing the results of an initial random search that took place over a large search space, then deciding what would be the next logical step to make your hyperparameter search finer."
   ]
  },
  {
   "cell_type": "code",
   "execution_count": 94,
   "metadata": {
    "ExecuteTime": {
     "end_time": "2020-02-18T06:13:01.543115Z",
     "start_time": "2020-02-18T06:13:01.537371Z"
    }
   },
   "outputs": [],
   "source": [
    "def visualize_hyperparameter(name):\n",
    "    plt.clf()\n",
    "    plt.scatter(results_df[name],results_df['accuracy'], c=['blue']*500)\n",
    "    plt.gca().set(xlabel='{}'.format(name), ylabel='accuracy', title='Accuracy for different {}s'.format(name))\n",
    "    plt.gca().set_ylim([0,100])\n",
    "    plt.show()"
   ]
  },
  {
   "cell_type": "code",
   "execution_count": 95,
   "metadata": {
    "ExecuteTime": {
     "end_time": "2020-02-18T06:13:01.549472Z",
     "start_time": "2020-02-18T06:13:01.545404Z"
    }
   },
   "outputs": [],
   "source": [
    "# Create the parameter grid\n",
    "param_grid = {'max_depth': list(range(5,26)), 'min_samples_leaf': list(range(20, 65)), 'learning_rate': np.linspace(0.1, 2, 150)} "
   ]
  },
  {
   "cell_type": "code",
   "execution_count": 96,
   "metadata": {
    "ExecuteTime": {
     "end_time": "2020-02-18T06:13:01.556540Z",
     "start_time": "2020-02-18T06:13:01.552330Z"
    }
   },
   "outputs": [],
   "source": [
    "# Create a random search object\n",
    "random_GBM_class = RandomizedSearchCV(\n",
    "    estimator = GradientBoostingClassifier(random_state=42),\n",
    "    param_distributions = param_grid,\n",
    "    n_iter = 10,\n",
    "    scoring='accuracy', n_jobs=4, cv = 5, refit=True, return_train_score = True)"
   ]
  },
  {
   "cell_type": "code",
   "execution_count": 97,
   "metadata": {
    "ExecuteTime": {
     "end_time": "2020-02-18T06:17:05.111402Z",
     "start_time": "2020-02-18T06:13:01.558993Z"
    }
   },
   "outputs": [
    {
     "data": {
      "text/plain": [
       "RandomizedSearchCV(cv=5, error_score='raise-deprecating',\n",
       "                   estimator=GradientBoostingClassifier(criterion='friedman_mse',\n",
       "                                                        init=None,\n",
       "                                                        learning_rate=0.1,\n",
       "                                                        loss='deviance',\n",
       "                                                        max_depth=3,\n",
       "                                                        max_features=None,\n",
       "                                                        max_leaf_nodes=None,\n",
       "                                                        min_impurity_decrease=0.0,\n",
       "                                                        min_impurity_split=None,\n",
       "                                                        min_samples_leaf=1,\n",
       "                                                        min_samples_split=2,\n",
       "                                                        min_weight_fraction_leaf=0.0,\n",
       "                                                        n_estimators=100,\n",
       "                                                        n_i...\n",
       "       1.8852349 , 1.89798658, 1.91073826, 1.92348993, 1.93624161,\n",
       "       1.94899329, 1.96174497, 1.97449664, 1.98724832, 2.        ]),\n",
       "                                        'max_depth': [5, 6, 7, 8, 9, 10, 11, 12,\n",
       "                                                      13, 14, 15, 16, 17, 18,\n",
       "                                                      19, 20, 21, 22, 23, 24,\n",
       "                                                      25],\n",
       "                                        'min_samples_leaf': [20, 21, 22, 23, 24,\n",
       "                                                             25, 26, 27, 28, 29,\n",
       "                                                             30, 31, 32, 33, 34,\n",
       "                                                             35, 36, 37, 38, 39,\n",
       "                                                             40, 41, 42, 43, 44,\n",
       "                                                             45, 46, 47, 48, 49, ...]},\n",
       "                   pre_dispatch='2*n_jobs', random_state=None, refit=True,\n",
       "                   return_train_score=True, scoring='accuracy', verbose=0)"
      ]
     },
     "execution_count": 97,
     "metadata": {},
     "output_type": "execute_result"
    }
   ],
   "source": [
    "# Fit to the training data\n",
    "random_GBM_class.fit(X_train, y_train)"
   ]
  },
  {
   "cell_type": "code",
   "execution_count": 98,
   "metadata": {
    "ExecuteTime": {
     "end_time": "2020-02-18T06:17:05.118221Z",
     "start_time": "2020-02-18T06:17:05.113156Z"
    }
   },
   "outputs": [
    {
     "name": "stdout",
     "output_type": "stream",
     "text": [
      "[12 5 12 10 17 17 14 20 7 18]\n",
      "[54 53 21 57 62 64 61 43 21 23]\n",
      "[1.3879194630872485 1.4516778523489933 1.8724832214765101\n",
      " 1.1456375838926176 0.6610738255033557 0.5335570469798657\n",
      " 0.2785234899328859 0.31677852348993285 0.5208053691275167\n",
      " 1.5791946308724834]\n"
     ]
    }
   ],
   "source": [
    "# Extract and print the values used for hyperparameters\n",
    "max_depth_list = random_GBM_class.cv_results_['param_max_depth']\n",
    "min_samples_list = random_GBM_class.cv_results_['param_min_samples_leaf']\n",
    "learn_rate_list = random_GBM_class.cv_results_['param_learning_rate']\n",
    "\n",
    "print(max_depth_list)\n",
    "print(min_samples_list)\n",
    "print(learn_rate_list)"
   ]
  },
  {
   "cell_type": "code",
   "execution_count": 99,
   "metadata": {
    "ExecuteTime": {
     "end_time": "2020-02-18T06:17:05.123287Z",
     "start_time": "2020-02-18T06:17:05.119913Z"
    }
   },
   "outputs": [],
   "source": [
    "# Combination list\n",
    "combinations_list = [list(x) for x in product(max_depth_list, min_samples_list, learn_rate_list)]"
   ]
  },
  {
   "cell_type": "code",
   "execution_count": 100,
   "metadata": {
    "ExecuteTime": {
     "end_time": "2020-02-18T06:17:05.128654Z",
     "start_time": "2020-02-18T06:17:05.125006Z"
    }
   },
   "outputs": [
    {
     "data": {
      "text/plain": [
       "1000"
      ]
     },
     "execution_count": 100,
     "metadata": {},
     "output_type": "execute_result"
    }
   ],
   "source": [
    "# Confirm the size of the combinations_list\n",
    "len(combinations_list)"
   ]
  },
  {
   "cell_type": "code",
   "execution_count": 101,
   "metadata": {
    "ExecuteTime": {
     "end_time": "2020-02-18T06:17:05.137070Z",
     "start_time": "2020-02-18T06:17:05.130339Z"
    }
   },
   "outputs": [
    {
     "data": {
      "text/html": [
       "<div>\n",
       "<style scoped>\n",
       "    .dataframe tbody tr th:only-of-type {\n",
       "        vertical-align: middle;\n",
       "    }\n",
       "\n",
       "    .dataframe tbody tr th {\n",
       "        vertical-align: top;\n",
       "    }\n",
       "\n",
       "    .dataframe thead th {\n",
       "        text-align: right;\n",
       "    }\n",
       "</style>\n",
       "<table border=\"1\" class=\"dataframe\">\n",
       "  <thead>\n",
       "    <tr style=\"text-align: right;\">\n",
       "      <th></th>\n",
       "      <th>learning_rate</th>\n",
       "      <th>accuracy</th>\n",
       "    </tr>\n",
       "  </thead>\n",
       "  <tbody>\n",
       "    <tr>\n",
       "      <th>2</th>\n",
       "      <td>0.050</td>\n",
       "      <td>0.817889</td>\n",
       "    </tr>\n",
       "    <tr>\n",
       "      <th>1</th>\n",
       "      <td>0.010</td>\n",
       "      <td>0.817556</td>\n",
       "    </tr>\n",
       "    <tr>\n",
       "      <th>3</th>\n",
       "      <td>0.100</td>\n",
       "      <td>0.817000</td>\n",
       "    </tr>\n",
       "    <tr>\n",
       "      <th>4</th>\n",
       "      <td>0.200</td>\n",
       "      <td>0.815667</td>\n",
       "    </tr>\n",
       "    <tr>\n",
       "      <th>5</th>\n",
       "      <td>0.500</td>\n",
       "      <td>0.811111</td>\n",
       "    </tr>\n",
       "    <tr>\n",
       "      <th>0</th>\n",
       "      <td>0.001</td>\n",
       "      <td>0.778778</td>\n",
       "    </tr>\n",
       "  </tbody>\n",
       "</table>\n",
       "</div>"
      ],
      "text/plain": [
       "   learning_rate  accuracy\n",
       "2          0.050  0.817889\n",
       "1          0.010  0.817556\n",
       "3          0.100  0.817000\n",
       "4          0.200  0.815667\n",
       "5          0.500  0.811111\n",
       "0          0.001  0.778778"
      ]
     },
     "execution_count": 101,
     "metadata": {},
     "output_type": "execute_result"
    }
   ],
   "source": [
    "# Sort the results_df by accuracy and print the top 10 rows\n",
    "results_df.sort_values(by='accuracy', ascending=False).head(10)"
   ]
  },
  {
   "cell_type": "code",
   "execution_count": 102,
   "metadata": {
    "ExecuteTime": {
     "end_time": "2020-02-18T06:17:05.144128Z",
     "start_time": "2020-02-18T06:17:05.139125Z"
    }
   },
   "outputs": [
    {
     "data": {
      "text/plain": [
       "Index(['learning_rate', 'accuracy'], dtype='object')"
      ]
     },
     "execution_count": 102,
     "metadata": {},
     "output_type": "execute_result"
    }
   ],
   "source": [
    "# Confirm which hyperparameters were used in this search\n",
    "results_df.columns"
   ]
  },
  {
   "cell_type": "markdown",
   "metadata": {},
   "source": [
    "### Coarse to Fine Iterations"
   ]
  },
  {
   "cell_type": "markdown",
   "metadata": {},
   "source": [
    "## Informed Search: Bayesian Statistics"
   ]
  },
  {
   "cell_type": "markdown",
   "metadata": {},
   "source": [
    "### Bayes Rule in Python"
   ]
  },
  {
   "cell_type": "markdown",
   "metadata": {},
   "source": [
    "### Bayesian Hyperparameter tuning with Hyperopt"
   ]
  },
  {
   "cell_type": "markdown",
   "metadata": {},
   "source": [
    "## Informed Search: Genetic Algorithms"
   ]
  },
  {
   "cell_type": "markdown",
   "metadata": {},
   "source": [
    "### Genetic Hyperparameter Tuning with TPOT"
   ]
  },
  {
   "cell_type": "markdown",
   "metadata": {},
   "source": [
    "### Analyzing TPOT's stability"
   ]
  },
  {
   "cell_type": "markdown",
   "metadata": {},
   "source": [
    "## Congratulations!"
   ]
  },
  {
   "cell_type": "code",
   "execution_count": null,
   "metadata": {},
   "outputs": [],
   "source": []
  }
 ],
 "metadata": {
  "kernelspec": {
   "display_name": "Python 3",
   "language": "python",
   "name": "python3"
  },
  "language_info": {
   "codemirror_mode": {
    "name": "ipython",
    "version": 3
   },
   "file_extension": ".py",
   "mimetype": "text/x-python",
   "name": "python",
   "nbconvert_exporter": "python",
   "pygments_lexer": "ipython3",
   "version": "3.7.4"
  },
  "toc": {
   "base_numbering": 1,
   "nav_menu": {},
   "number_sections": true,
   "sideBar": true,
   "skip_h1_title": false,
   "title_cell": "Table of Contents",
   "title_sidebar": "Contents",
   "toc_cell": false,
   "toc_position": {},
   "toc_section_display": true,
   "toc_window_display": true
  },
  "varInspector": {
   "cols": {
    "lenName": 16,
    "lenType": 16,
    "lenVar": 40
   },
   "kernels_config": {
    "python": {
     "delete_cmd_postfix": "",
     "delete_cmd_prefix": "del ",
     "library": "var_list.py",
     "varRefreshCmd": "print(var_dic_list())"
    },
    "r": {
     "delete_cmd_postfix": ") ",
     "delete_cmd_prefix": "rm(",
     "library": "var_list.r",
     "varRefreshCmd": "cat(var_dic_list()) "
    }
   },
   "types_to_exclude": [
    "module",
    "function",
    "builtin_function_or_method",
    "instance",
    "_Feature"
   ],
   "window_display": false
  }
 },
 "nbformat": 4,
 "nbformat_minor": 4
}
