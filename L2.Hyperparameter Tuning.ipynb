{
 "cells": [
  {
   "cell_type": "markdown",
   "metadata": {},
   "source": [
    "<a href=\"https://colab.research.google.com/github/ML-Challenge/week5-preprocessing-and-tunning/blob/master/L2.Hyperparameter%20Tuning.ipynb\" target=\"_parent\"><img src=\"https://colab.research.google.com/assets/colab-badge.svg\" /></a>"
   ]
  },
  {
   "cell_type": "markdown",
   "metadata": {},
   "source": [
    "Building powerful machine learning models depends heavily on the set of hyperparameters used. But with increasingly complex models with lots of options, how do we efficiently find the best settings for our particular problem? In this lesson we will get practical experience in using some common methodologies for automated hyperparameter tuning in Python using Scikit Learn. These include Grid Search, Random Search & advanced optimization methodologies including Bayesian & Genetic algorithms. We will use a dataset predicting credit card defaults as we build skills to dramatically increase the efficiency and effectiveness of our machine learning model building."
   ]
  },
  {
   "cell_type": "markdown",
   "metadata": {
    "heading_collapsed": true
   },
   "source": [
    "# Setup"
   ]
  },
  {
   "cell_type": "code",
   "execution_count": 1,
   "metadata": {
    "ExecuteTime": {
     "end_time": "2020-02-19T18:49:26.585604Z",
     "start_time": "2020-02-19T18:49:26.571604Z"
    },
    "hidden": true
   },
   "outputs": [],
   "source": [
    "# Download lesson datasets\n",
    "# Required if you're using Google Colab\n",
    "#!wget \"https://github.com/ML-Challenge/week5-preprocessing-and-tunning/raw/master/datasets.zip\"\n",
    "#!unzip -o datasets.zip"
   ]
  },
  {
   "cell_type": "code",
   "execution_count": 2,
   "metadata": {
    "ExecuteTime": {
     "end_time": "2020-02-19T18:49:27.179977Z",
     "start_time": "2020-02-19T18:49:26.587602Z"
    },
    "hidden": true
   },
   "outputs": [],
   "source": [
    "# Import utils\n",
    "# We'll be using this module throughout the lesson\n",
    "import utils"
   ]
  },
  {
   "cell_type": "code",
   "execution_count": 3,
   "metadata": {
    "ExecuteTime": {
     "end_time": "2020-02-19T18:49:27.837220Z",
     "start_time": "2020-02-19T18:49:27.182969Z"
    },
    "hidden": true
   },
   "outputs": [],
   "source": [
    "# Import dependencies\n",
    "import pandas as pd\n",
    "import numpy as np\n",
    "\n",
    "import matplotlib.pyplot as plt\n",
    "# and setting the size of all plots.\n",
    "plt.rcParams['figure.figsize'] = [20, 10]\n",
    "\n",
    "from sklearn.model_selection import train_test_split"
   ]
  },
  {
   "cell_type": "markdown",
   "metadata": {},
   "source": [
    "# Hyperparameters and Parameters"
   ]
  },
  {
   "cell_type": "markdown",
   "metadata": {},
   "source": [
    "In this introductory chapter we will learn the difference between hyperparameters and parameters. We will practice extracting and analyzing parameters, setting hyperparameter values for several popular machine learning algorithms. Along the way we will learn some best practice tips & tricks for choosing which hyperparameters to tune and what values to set & build learning curves to analyze your hyperparameter choices."
   ]
  },
  {
   "cell_type": "markdown",
   "metadata": {},
   "source": [
    "## Introduction & 'Parameters'"
   ]
  },
  {
   "cell_type": "markdown",
   "metadata": {},
   "source": [
    "### Parameters in Logistic Regression"
   ]
  },
  {
   "cell_type": "markdown",
   "metadata": {},
   "source": [
    "Now that we have had a chance to explore what a parameter is, let us apply this knowledge. It is important to be able to review any new algorithm and identify which elements are parameters and hyperparameters.\n",
    "\n",
    "Which of the following is a parameter for the Scikit Learn logistic regression model?\n",
    "\n",
    "**Possible Answers**\n",
    "\n",
    "1. `n_jobs`\n",
    "2. `coef_`\n",
    "3. `class_weight`\n",
    "4. `LogisticRegression()`"
   ]
  },
  {
   "cell_type": "code",
   "execution_count": 4,
   "metadata": {
    "ExecuteTime": {
     "end_time": "2020-02-19T18:49:27.853179Z",
     "start_time": "2020-02-19T18:49:27.840210Z"
    }
   },
   "outputs": [
    {
     "name": "stdout",
     "output_type": "stream",
     "text": [
      "Enter 1, 2, 3 or 4 as the answer\n"
     ]
    }
   ],
   "source": [
    "# Pass 1,2,3 or 4 as argument\n",
    "utils.which_is_param()"
   ]
  },
  {
   "cell_type": "markdown",
   "metadata": {},
   "source": [
    "### Extracting a Logistic Regression parameter"
   ]
  },
  {
   "cell_type": "markdown",
   "metadata": {},
   "source": [
    "We are now going to practice extracting an important parameter of the logistic regression model. The logistic regression has a few other parameters you will not explore here but you can review them in the **scikit-learn.org** documentation for the `LogisticRegression()` module under 'Attributes'."
   ]
  },
  {
   "cell_type": "markdown",
   "metadata": {},
   "source": [
    "This parameter is important for understanding the direction and magnitude of the effect the variables have on the target."
   ]
  },
  {
   "cell_type": "markdown",
   "metadata": {},
   "source": [
    "In this example we will extract the coefficient parameter (found in the `coef_` attribute), zip it up with the original column names, and see which variables had the largest positive effect on the target variable."
   ]
  },
  {
   "cell_type": "code",
   "execution_count": 5,
   "metadata": {
    "ExecuteTime": {
     "end_time": "2020-02-19T18:49:27.884094Z",
     "start_time": "2020-02-19T18:49:27.857165Z"
    }
   },
   "outputs": [
    {
     "data": {
      "text/html": [
       "<div>\n",
       "<style scoped>\n",
       "    .dataframe tbody tr th:only-of-type {\n",
       "        vertical-align: middle;\n",
       "    }\n",
       "\n",
       "    .dataframe tbody tr th {\n",
       "        vertical-align: top;\n",
       "    }\n",
       "\n",
       "    .dataframe thead th {\n",
       "        text-align: right;\n",
       "    }\n",
       "</style>\n",
       "<table border=\"1\" class=\"dataframe\">\n",
       "  <thead>\n",
       "    <tr style=\"text-align: right;\">\n",
       "      <th></th>\n",
       "      <th>LIMIT_BAL</th>\n",
       "      <th>AGE</th>\n",
       "      <th>PAY_0</th>\n",
       "      <th>PAY_2</th>\n",
       "      <th>PAY_3</th>\n",
       "      <th>PAY_4</th>\n",
       "      <th>PAY_5</th>\n",
       "      <th>PAY_6</th>\n",
       "      <th>BILL_AMT1</th>\n",
       "      <th>BILL_AMT2</th>\n",
       "      <th>...</th>\n",
       "      <th>SEX_2</th>\n",
       "      <th>EDUCATION_1</th>\n",
       "      <th>EDUCATION_2</th>\n",
       "      <th>EDUCATION_3</th>\n",
       "      <th>EDUCATION_4</th>\n",
       "      <th>EDUCATION_5</th>\n",
       "      <th>EDUCATION_6</th>\n",
       "      <th>MARRIAGE_1</th>\n",
       "      <th>MARRIAGE_2</th>\n",
       "      <th>MARRIAGE_3</th>\n",
       "    </tr>\n",
       "    <tr>\n",
       "      <th>ID</th>\n",
       "      <th></th>\n",
       "      <th></th>\n",
       "      <th></th>\n",
       "      <th></th>\n",
       "      <th></th>\n",
       "      <th></th>\n",
       "      <th></th>\n",
       "      <th></th>\n",
       "      <th></th>\n",
       "      <th></th>\n",
       "      <th></th>\n",
       "      <th></th>\n",
       "      <th></th>\n",
       "      <th></th>\n",
       "      <th></th>\n",
       "      <th></th>\n",
       "      <th></th>\n",
       "      <th></th>\n",
       "      <th></th>\n",
       "      <th></th>\n",
       "      <th></th>\n",
       "    </tr>\n",
       "  </thead>\n",
       "  <tbody>\n",
       "    <tr>\n",
       "      <th>1</th>\n",
       "      <td>20000</td>\n",
       "      <td>24</td>\n",
       "      <td>2</td>\n",
       "      <td>2</td>\n",
       "      <td>-1</td>\n",
       "      <td>-1</td>\n",
       "      <td>-2</td>\n",
       "      <td>-2</td>\n",
       "      <td>3913</td>\n",
       "      <td>3102</td>\n",
       "      <td>...</td>\n",
       "      <td>1</td>\n",
       "      <td>0</td>\n",
       "      <td>1</td>\n",
       "      <td>0</td>\n",
       "      <td>0</td>\n",
       "      <td>0</td>\n",
       "      <td>0</td>\n",
       "      <td>1</td>\n",
       "      <td>0</td>\n",
       "      <td>0</td>\n",
       "    </tr>\n",
       "    <tr>\n",
       "      <th>2</th>\n",
       "      <td>120000</td>\n",
       "      <td>26</td>\n",
       "      <td>-1</td>\n",
       "      <td>2</td>\n",
       "      <td>0</td>\n",
       "      <td>0</td>\n",
       "      <td>0</td>\n",
       "      <td>2</td>\n",
       "      <td>2682</td>\n",
       "      <td>1725</td>\n",
       "      <td>...</td>\n",
       "      <td>1</td>\n",
       "      <td>0</td>\n",
       "      <td>1</td>\n",
       "      <td>0</td>\n",
       "      <td>0</td>\n",
       "      <td>0</td>\n",
       "      <td>0</td>\n",
       "      <td>0</td>\n",
       "      <td>1</td>\n",
       "      <td>0</td>\n",
       "    </tr>\n",
       "    <tr>\n",
       "      <th>3</th>\n",
       "      <td>90000</td>\n",
       "      <td>34</td>\n",
       "      <td>0</td>\n",
       "      <td>0</td>\n",
       "      <td>0</td>\n",
       "      <td>0</td>\n",
       "      <td>0</td>\n",
       "      <td>0</td>\n",
       "      <td>29239</td>\n",
       "      <td>14027</td>\n",
       "      <td>...</td>\n",
       "      <td>1</td>\n",
       "      <td>0</td>\n",
       "      <td>1</td>\n",
       "      <td>0</td>\n",
       "      <td>0</td>\n",
       "      <td>0</td>\n",
       "      <td>0</td>\n",
       "      <td>0</td>\n",
       "      <td>1</td>\n",
       "      <td>0</td>\n",
       "    </tr>\n",
       "    <tr>\n",
       "      <th>4</th>\n",
       "      <td>50000</td>\n",
       "      <td>37</td>\n",
       "      <td>0</td>\n",
       "      <td>0</td>\n",
       "      <td>0</td>\n",
       "      <td>0</td>\n",
       "      <td>0</td>\n",
       "      <td>0</td>\n",
       "      <td>46990</td>\n",
       "      <td>48233</td>\n",
       "      <td>...</td>\n",
       "      <td>1</td>\n",
       "      <td>0</td>\n",
       "      <td>1</td>\n",
       "      <td>0</td>\n",
       "      <td>0</td>\n",
       "      <td>0</td>\n",
       "      <td>0</td>\n",
       "      <td>1</td>\n",
       "      <td>0</td>\n",
       "      <td>0</td>\n",
       "    </tr>\n",
       "    <tr>\n",
       "      <th>5</th>\n",
       "      <td>50000</td>\n",
       "      <td>57</td>\n",
       "      <td>-1</td>\n",
       "      <td>0</td>\n",
       "      <td>-1</td>\n",
       "      <td>0</td>\n",
       "      <td>0</td>\n",
       "      <td>0</td>\n",
       "      <td>8617</td>\n",
       "      <td>5670</td>\n",
       "      <td>...</td>\n",
       "      <td>0</td>\n",
       "      <td>0</td>\n",
       "      <td>1</td>\n",
       "      <td>0</td>\n",
       "      <td>0</td>\n",
       "      <td>0</td>\n",
       "      <td>0</td>\n",
       "      <td>1</td>\n",
       "      <td>0</td>\n",
       "      <td>0</td>\n",
       "    </tr>\n",
       "  </tbody>\n",
       "</table>\n",
       "<p>5 rows × 31 columns</p>\n",
       "</div>"
      ],
      "text/plain": [
       "    LIMIT_BAL  AGE  PAY_0  PAY_2  PAY_3  PAY_4  PAY_5  PAY_6  BILL_AMT1  \\\n",
       "ID                                                                        \n",
       "1       20000   24      2      2     -1     -1     -2     -2       3913   \n",
       "2      120000   26     -1      2      0      0      0      2       2682   \n",
       "3       90000   34      0      0      0      0      0      0      29239   \n",
       "4       50000   37      0      0      0      0      0      0      46990   \n",
       "5       50000   57     -1      0     -1      0      0      0       8617   \n",
       "\n",
       "    BILL_AMT2  ...  SEX_2  EDUCATION_1  EDUCATION_2  EDUCATION_3  EDUCATION_4  \\\n",
       "ID             ...                                                              \n",
       "1        3102  ...      1            0            1            0            0   \n",
       "2        1725  ...      1            0            1            0            0   \n",
       "3       14027  ...      1            0            1            0            0   \n",
       "4       48233  ...      1            0            1            0            0   \n",
       "5        5670  ...      0            0            1            0            0   \n",
       "\n",
       "    EDUCATION_5  EDUCATION_6  MARRIAGE_1  MARRIAGE_2  MARRIAGE_3  \n",
       "ID                                                                \n",
       "1             0            0           1           0           0  \n",
       "2             0            0           0           1           0  \n",
       "3             0            0           0           1           0  \n",
       "4             0            0           1           0           0  \n",
       "5             0            0           1           0           0  \n",
       "\n",
       "[5 rows x 31 columns]"
      ]
     },
     "execution_count": 5,
     "metadata": {},
     "output_type": "execute_result"
    }
   ],
   "source": [
    "utils.credit_card.head()"
   ]
  },
  {
   "cell_type": "code",
   "execution_count": 6,
   "metadata": {
    "ExecuteTime": {
     "end_time": "2020-02-19T18:49:27.915035Z",
     "start_time": "2020-02-19T18:49:27.890078Z"
    }
   },
   "outputs": [],
   "source": [
    "X = utils.credit_card.drop('default payment next month', axis=1)\n",
    "y = utils.credit_card['default payment next month']"
   ]
  },
  {
   "cell_type": "code",
   "execution_count": 7,
   "metadata": {
    "ExecuteTime": {
     "end_time": "2020-02-19T18:49:27.946924Z",
     "start_time": "2020-02-19T18:49:27.918004Z"
    }
   },
   "outputs": [],
   "source": [
    "X_train, X_test, y_train, y_test = train_test_split(X, y, test_size=0.3, stratify=y, random_state=42)"
   ]
  },
  {
   "cell_type": "code",
   "execution_count": 8,
   "metadata": {
    "ExecuteTime": {
     "end_time": "2020-02-19T18:49:27.977843Z",
     "start_time": "2020-02-19T18:49:27.949916Z"
    }
   },
   "outputs": [
    {
     "data": {
      "text/plain": [
       "LIMIT_BAL      1.683949e+10\n",
       "AGE            8.436027e+01\n",
       "PAY_0          1.262163e+00\n",
       "PAY_2          1.439627e+00\n",
       "PAY_3          1.426575e+00\n",
       "PAY_4          1.349935e+00\n",
       "PAY_5          1.263298e+00\n",
       "PAY_6          1.312433e+00\n",
       "BILL_AMT1      5.421963e+09\n",
       "BILL_AMT2      5.064130e+09\n",
       "BILL_AMT3      4.723364e+09\n",
       "BILL_AMT4      4.151106e+09\n",
       "BILL_AMT5      3.722083e+09\n",
       "BILL_AMT6      3.546589e+09\n",
       "PAY_AMT1       2.697796e+08\n",
       "PAY_AMT2       4.285847e+08\n",
       "PAY_AMT3       3.245948e+08\n",
       "PAY_AMT4       2.389826e+08\n",
       "PAY_AMT5       2.297050e+08\n",
       "PAY_AMT6       3.115320e+08\n",
       "SEX_2          2.392844e-01\n",
       "EDUCATION_1    2.279232e-01\n",
       "EDUCATION_2    2.490030e-01\n",
       "EDUCATION_3    1.369825e-01\n",
       "EDUCATION_4    4.173115e-03\n",
       "EDUCATION_5    9.947138e-03\n",
       "EDUCATION_6    1.758884e-03\n",
       "MARRIAGE_1     2.478606e-01\n",
       "MARRIAGE_2     2.488752e-01\n",
       "MARRIAGE_3     1.064659e-02\n",
       "dtype: float64"
      ]
     },
     "execution_count": 8,
     "metadata": {},
     "output_type": "execute_result"
    }
   ],
   "source": [
    "X_train.var()"
   ]
  },
  {
   "cell_type": "code",
   "execution_count": 9,
   "metadata": {
    "ExecuteTime": {
     "end_time": "2020-02-19T18:49:28.023720Z",
     "start_time": "2020-02-19T18:49:27.979839Z"
    }
   },
   "outputs": [],
   "source": [
    "from sklearn.linear_model import LogisticRegression\n",
    "\n",
    "log_reg_clf = LogisticRegression(solver='liblinear', random_state=42)"
   ]
  },
  {
   "cell_type": "code",
   "execution_count": 10,
   "metadata": {
    "ExecuteTime": {
     "end_time": "2020-02-19T18:49:28.818596Z",
     "start_time": "2020-02-19T18:49:28.025714Z"
    }
   },
   "outputs": [
    {
     "data": {
      "text/plain": [
       "LogisticRegression(C=1.0, class_weight=None, dual=False, fit_intercept=True,\n",
       "                   intercept_scaling=1, l1_ratio=None, max_iter=100,\n",
       "                   multi_class='auto', n_jobs=None, penalty='l2',\n",
       "                   random_state=42, solver='liblinear', tol=0.0001, verbose=0,\n",
       "                   warm_start=False)"
      ]
     },
     "execution_count": 10,
     "metadata": {},
     "output_type": "execute_result"
    }
   ],
   "source": [
    "log_reg_clf.fit(X_train, y_train)"
   ]
  },
  {
   "cell_type": "code",
   "execution_count": 11,
   "metadata": {
    "ExecuteTime": {
     "end_time": "2020-02-19T18:49:28.834552Z",
     "start_time": "2020-02-19T18:49:28.820590Z"
    }
   },
   "outputs": [],
   "source": [
    "# Create a list of original variable names from the training DataFrame\n",
    "original_variables = X_train.columns"
   ]
  },
  {
   "cell_type": "code",
   "execution_count": 12,
   "metadata": {
    "ExecuteTime": {
     "end_time": "2020-02-19T18:49:28.850509Z",
     "start_time": "2020-02-19T18:49:28.837543Z"
    }
   },
   "outputs": [],
   "source": [
    "# Extract the coefficients of the logistic regression estimator\n",
    "model_coefficients = log_reg_clf.coef_[0]"
   ]
  },
  {
   "cell_type": "code",
   "execution_count": 13,
   "metadata": {
    "ExecuteTime": {
     "end_time": "2020-02-19T18:49:28.881426Z",
     "start_time": "2020-02-19T18:49:28.853500Z"
    }
   },
   "outputs": [
    {
     "data": {
      "text/html": [
       "<div>\n",
       "<style scoped>\n",
       "    .dataframe tbody tr th:only-of-type {\n",
       "        vertical-align: middle;\n",
       "    }\n",
       "\n",
       "    .dataframe tbody tr th {\n",
       "        vertical-align: top;\n",
       "    }\n",
       "\n",
       "    .dataframe thead th {\n",
       "        text-align: right;\n",
       "    }\n",
       "</style>\n",
       "<table border=\"1\" class=\"dataframe\">\n",
       "  <thead>\n",
       "    <tr style=\"text-align: right;\">\n",
       "      <th></th>\n",
       "      <th>Variable</th>\n",
       "      <th>Coefficient</th>\n",
       "    </tr>\n",
       "  </thead>\n",
       "  <tbody>\n",
       "    <tr>\n",
       "      <th>0</th>\n",
       "      <td>LIMIT_BAL</td>\n",
       "      <td>-3.396766e-06</td>\n",
       "    </tr>\n",
       "    <tr>\n",
       "      <th>1</th>\n",
       "      <td>AGE</td>\n",
       "      <td>-1.525863e-02</td>\n",
       "    </tr>\n",
       "    <tr>\n",
       "      <th>2</th>\n",
       "      <td>PAY_0</td>\n",
       "      <td>2.466191e-03</td>\n",
       "    </tr>\n",
       "    <tr>\n",
       "      <th>3</th>\n",
       "      <td>PAY_2</td>\n",
       "      <td>1.940756e-03</td>\n",
       "    </tr>\n",
       "    <tr>\n",
       "      <th>4</th>\n",
       "      <td>PAY_3</td>\n",
       "      <td>1.685138e-03</td>\n",
       "    </tr>\n",
       "    <tr>\n",
       "      <th>5</th>\n",
       "      <td>PAY_4</td>\n",
       "      <td>1.580371e-03</td>\n",
       "    </tr>\n",
       "    <tr>\n",
       "      <th>6</th>\n",
       "      <td>PAY_5</td>\n",
       "      <td>1.419231e-03</td>\n",
       "    </tr>\n",
       "    <tr>\n",
       "      <th>7</th>\n",
       "      <td>PAY_6</td>\n",
       "      <td>1.343744e-03</td>\n",
       "    </tr>\n",
       "    <tr>\n",
       "      <th>8</th>\n",
       "      <td>BILL_AMT1</td>\n",
       "      <td>-7.438273e-06</td>\n",
       "    </tr>\n",
       "    <tr>\n",
       "      <th>9</th>\n",
       "      <td>BILL_AMT2</td>\n",
       "      <td>2.658064e-06</td>\n",
       "    </tr>\n",
       "    <tr>\n",
       "      <th>10</th>\n",
       "      <td>BILL_AMT3</td>\n",
       "      <td>2.404072e-06</td>\n",
       "    </tr>\n",
       "    <tr>\n",
       "      <th>11</th>\n",
       "      <td>BILL_AMT4</td>\n",
       "      <td>1.373177e-06</td>\n",
       "    </tr>\n",
       "    <tr>\n",
       "      <th>12</th>\n",
       "      <td>BILL_AMT5</td>\n",
       "      <td>2.716208e-06</td>\n",
       "    </tr>\n",
       "    <tr>\n",
       "      <th>13</th>\n",
       "      <td>BILL_AMT6</td>\n",
       "      <td>2.598202e-06</td>\n",
       "    </tr>\n",
       "    <tr>\n",
       "      <th>14</th>\n",
       "      <td>PAY_AMT1</td>\n",
       "      <td>-2.314603e-05</td>\n",
       "    </tr>\n",
       "    <tr>\n",
       "      <th>15</th>\n",
       "      <td>PAY_AMT2</td>\n",
       "      <td>-2.426525e-05</td>\n",
       "    </tr>\n",
       "    <tr>\n",
       "      <th>16</th>\n",
       "      <td>PAY_AMT3</td>\n",
       "      <td>-7.082061e-06</td>\n",
       "    </tr>\n",
       "    <tr>\n",
       "      <th>17</th>\n",
       "      <td>PAY_AMT4</td>\n",
       "      <td>-7.783859e-06</td>\n",
       "    </tr>\n",
       "    <tr>\n",
       "      <th>18</th>\n",
       "      <td>PAY_AMT5</td>\n",
       "      <td>-4.074512e-06</td>\n",
       "    </tr>\n",
       "    <tr>\n",
       "      <th>19</th>\n",
       "      <td>PAY_AMT6</td>\n",
       "      <td>-2.157789e-06</td>\n",
       "    </tr>\n",
       "    <tr>\n",
       "      <th>20</th>\n",
       "      <td>SEX_2</td>\n",
       "      <td>-5.340300e-04</td>\n",
       "    </tr>\n",
       "    <tr>\n",
       "      <th>21</th>\n",
       "      <td>EDUCATION_1</td>\n",
       "      <td>-1.422671e-04</td>\n",
       "    </tr>\n",
       "    <tr>\n",
       "      <th>22</th>\n",
       "      <td>EDUCATION_2</td>\n",
       "      <td>-3.253729e-04</td>\n",
       "    </tr>\n",
       "    <tr>\n",
       "      <th>23</th>\n",
       "      <td>EDUCATION_3</td>\n",
       "      <td>-8.780019e-05</td>\n",
       "    </tr>\n",
       "    <tr>\n",
       "      <th>24</th>\n",
       "      <td>EDUCATION_4</td>\n",
       "      <td>-1.268683e-05</td>\n",
       "    </tr>\n",
       "    <tr>\n",
       "      <th>25</th>\n",
       "      <td>EDUCATION_5</td>\n",
       "      <td>-3.807727e-05</td>\n",
       "    </tr>\n",
       "    <tr>\n",
       "      <th>26</th>\n",
       "      <td>EDUCATION_6</td>\n",
       "      <td>-2.659332e-06</td>\n",
       "    </tr>\n",
       "    <tr>\n",
       "      <th>27</th>\n",
       "      <td>MARRIAGE_1</td>\n",
       "      <td>2.637080e-05</td>\n",
       "    </tr>\n",
       "    <tr>\n",
       "      <th>28</th>\n",
       "      <td>MARRIAGE_2</td>\n",
       "      <td>-6.309069e-04</td>\n",
       "    </tr>\n",
       "    <tr>\n",
       "      <th>29</th>\n",
       "      <td>MARRIAGE_3</td>\n",
       "      <td>2.897253e-07</td>\n",
       "    </tr>\n",
       "  </tbody>\n",
       "</table>\n",
       "</div>"
      ],
      "text/plain": [
       "       Variable   Coefficient\n",
       "0     LIMIT_BAL -3.396766e-06\n",
       "1           AGE -1.525863e-02\n",
       "2         PAY_0  2.466191e-03\n",
       "3         PAY_2  1.940756e-03\n",
       "4         PAY_3  1.685138e-03\n",
       "5         PAY_4  1.580371e-03\n",
       "6         PAY_5  1.419231e-03\n",
       "7         PAY_6  1.343744e-03\n",
       "8     BILL_AMT1 -7.438273e-06\n",
       "9     BILL_AMT2  2.658064e-06\n",
       "10    BILL_AMT3  2.404072e-06\n",
       "11    BILL_AMT4  1.373177e-06\n",
       "12    BILL_AMT5  2.716208e-06\n",
       "13    BILL_AMT6  2.598202e-06\n",
       "14     PAY_AMT1 -2.314603e-05\n",
       "15     PAY_AMT2 -2.426525e-05\n",
       "16     PAY_AMT3 -7.082061e-06\n",
       "17     PAY_AMT4 -7.783859e-06\n",
       "18     PAY_AMT5 -4.074512e-06\n",
       "19     PAY_AMT6 -2.157789e-06\n",
       "20        SEX_2 -5.340300e-04\n",
       "21  EDUCATION_1 -1.422671e-04\n",
       "22  EDUCATION_2 -3.253729e-04\n",
       "23  EDUCATION_3 -8.780019e-05\n",
       "24  EDUCATION_4 -1.268683e-05\n",
       "25  EDUCATION_5 -3.807727e-05\n",
       "26  EDUCATION_6 -2.659332e-06\n",
       "27   MARRIAGE_1  2.637080e-05\n",
       "28   MARRIAGE_2 -6.309069e-04\n",
       "29   MARRIAGE_3  2.897253e-07"
      ]
     },
     "execution_count": 13,
     "metadata": {},
     "output_type": "execute_result"
    }
   ],
   "source": [
    "# Create a dataframe of the variables and coefficients & print it out\n",
    "coefficient_df = pd.DataFrame({\"Variable\" : original_variables, \"Coefficient\": model_coefficients})\n",
    "coefficient_df"
   ]
  },
  {
   "cell_type": "code",
   "execution_count": 14,
   "metadata": {
    "ExecuteTime": {
     "end_time": "2020-02-19T18:49:28.896416Z",
     "start_time": "2020-02-19T18:49:28.883420Z"
    }
   },
   "outputs": [
    {
     "data": {
      "text/html": [
       "<div>\n",
       "<style scoped>\n",
       "    .dataframe tbody tr th:only-of-type {\n",
       "        vertical-align: middle;\n",
       "    }\n",
       "\n",
       "    .dataframe tbody tr th {\n",
       "        vertical-align: top;\n",
       "    }\n",
       "\n",
       "    .dataframe thead th {\n",
       "        text-align: right;\n",
       "    }\n",
       "</style>\n",
       "<table border=\"1\" class=\"dataframe\">\n",
       "  <thead>\n",
       "    <tr style=\"text-align: right;\">\n",
       "      <th></th>\n",
       "      <th>Variable</th>\n",
       "      <th>Coefficient</th>\n",
       "    </tr>\n",
       "  </thead>\n",
       "  <tbody>\n",
       "    <tr>\n",
       "      <th>2</th>\n",
       "      <td>PAY_0</td>\n",
       "      <td>0.002466</td>\n",
       "    </tr>\n",
       "    <tr>\n",
       "      <th>3</th>\n",
       "      <td>PAY_2</td>\n",
       "      <td>0.001941</td>\n",
       "    </tr>\n",
       "    <tr>\n",
       "      <th>4</th>\n",
       "      <td>PAY_3</td>\n",
       "      <td>0.001685</td>\n",
       "    </tr>\n",
       "  </tbody>\n",
       "</table>\n",
       "</div>"
      ],
      "text/plain": [
       "  Variable  Coefficient\n",
       "2    PAY_0     0.002466\n",
       "3    PAY_2     0.001941\n",
       "4    PAY_3     0.001685"
      ]
     },
     "execution_count": 14,
     "metadata": {},
     "output_type": "execute_result"
    }
   ],
   "source": [
    "# Print out the top 3 positive variables\n",
    "top_three_df = coefficient_df.sort_values(by=\"Coefficient\", axis=0, ascending=False)[0:3]\n",
    "top_three_df"
   ]
  },
  {
   "cell_type": "markdown",
   "metadata": {},
   "source": [
    "Nice! We have succesfully extracted and reviewed a very important parameter for the Logistic Regression Model. The coefficients of the model allow you to see which variables are having a larger or smaller impact on the outcome. Additionally the sign lets you know if it is a positive or negative relationship."
   ]
  },
  {
   "cell_type": "markdown",
   "metadata": {},
   "source": [
    "### Extracting a Random Forest parameter"
   ]
  },
  {
   "cell_type": "markdown",
   "metadata": {},
   "source": [
    "We will now translate the work previously undertaken on the logistic regression model to a random forest model. A parameter of this model is, for a given tree, how it decided to split at each level."
   ]
  },
  {
   "cell_type": "markdown",
   "metadata": {},
   "source": [
    "This analysis is not as useful as the coefficients of logistic regression as we will be unlikely to ever explore every split and every tree in a random forest model. However, it is a very useful exercise to peak under the hood at what the model is doing."
   ]
  },
  {
   "cell_type": "markdown",
   "metadata": {},
   "source": [
    "In this example we will extract a single tree from our random forest model, visualize it and programmatically extract one of the splits."
   ]
  },
  {
   "cell_type": "code",
   "execution_count": 15,
   "metadata": {
    "ExecuteTime": {
     "end_time": "2020-02-19T18:49:28.972183Z",
     "start_time": "2020-02-19T18:49:28.899380Z"
    }
   },
   "outputs": [],
   "source": [
    "from sklearn.ensemble import RandomForestClassifier\n",
    "\n",
    "rf_clf = RandomForestClassifier(max_depth=4, random_state=42)"
   ]
  },
  {
   "cell_type": "code",
   "execution_count": 16,
   "metadata": {
    "ExecuteTime": {
     "end_time": "2020-02-19T18:49:30.448269Z",
     "start_time": "2020-02-19T18:49:28.976175Z"
    }
   },
   "outputs": [
    {
     "data": {
      "text/plain": [
       "RandomForestClassifier(bootstrap=True, ccp_alpha=0.0, class_weight=None,\n",
       "                       criterion='gini', max_depth=4, max_features='auto',\n",
       "                       max_leaf_nodes=None, max_samples=None,\n",
       "                       min_impurity_decrease=0.0, min_impurity_split=None,\n",
       "                       min_samples_leaf=1, min_samples_split=2,\n",
       "                       min_weight_fraction_leaf=0.0, n_estimators=100,\n",
       "                       n_jobs=None, oob_score=False, random_state=42, verbose=0,\n",
       "                       warm_start=False)"
      ]
     },
     "execution_count": 16,
     "metadata": {},
     "output_type": "execute_result"
    }
   ],
   "source": [
    "rf_clf.fit(X_train, y_train)"
   ]
  },
  {
   "cell_type": "code",
   "execution_count": 17,
   "metadata": {
    "ExecuteTime": {
     "end_time": "2020-02-19T18:49:30.464227Z",
     "start_time": "2020-02-19T18:49:30.450264Z"
    }
   },
   "outputs": [],
   "source": [
    "# Extract the 7th (index 6) tree from the random forest\n",
    "chosen_tree = rf_clf.estimators_[6]"
   ]
  },
  {
   "cell_type": "code",
   "execution_count": 18,
   "metadata": {
    "ExecuteTime": {
     "end_time": "2020-02-19T18:49:30.480184Z",
     "start_time": "2020-02-19T18:49:30.467219Z"
    },
    "scrolled": true
   },
   "outputs": [],
   "source": [
    "# Visualize the graph using Graphviz\n",
    "\n",
    "#from sklearn.tree import export_graphviz\n",
    "\n",
    "#export_graphviz(chosen_tree, out_file='assets/tree.dot', \n",
    "#                feature_names = original_variables, class_names = True,\n",
    "#                rounded = True, proportion = False, precision = 2, filled = True)\n",
    "\n",
    "# Convert to png using system command \n",
    "#from subprocess import call\n",
    "#call(['dot', '-Tpng', 'assets/tree.dot', '-o', 'assets/tree.png', '-Gdpi=600'])\n",
    "\n",
    "# Display in jupyter notebook\n",
    "#from IPython.display import Image\n",
    "#Image(filename = 'assets/tree.png')"
   ]
  },
  {
   "cell_type": "code",
   "execution_count": 19,
   "metadata": {
    "ExecuteTime": {
     "end_time": "2020-02-19T18:49:31.385452Z",
     "start_time": "2020-02-19T18:49:30.482179Z"
    }
   },
   "outputs": [
    {
     "data": {
      "text/plain": [
       "[Text(558.0, 489.24, 'PAY_2 <= 1.5\\ngini = 0.34\\nsamples = 13248\\nvalue = [16357, 4643]\\nclass = y[0]'),\n",
       " Text(279.0, 380.52000000000004, 'PAY_AMT4 <= 1877.5\\ngini = 0.28\\nsamples = 11329\\nvalue = [14985, 2961]\\nclass = y[0]'),\n",
       " Text(139.5, 271.8, 'PAY_3 <= 1.0\\ngini = 0.33\\nsamples = 5894\\nvalue = [7451, 1931]\\nclass = y[0]'),\n",
       " Text(69.75, 163.08000000000004, 'PAY_0 <= 1.5\\ngini = 0.32\\nsamples = 5565\\nvalue = [7082, 1765]\\nclass = y[0]'),\n",
       " Text(34.875, 54.360000000000014, 'gini = 0.29\\nsamples = 5312\\nvalue = [6965, 1483]\\nclass = y[0]'),\n",
       " Text(104.625, 54.360000000000014, 'gini = 0.41\\nsamples = 253\\nvalue = [117, 282]\\nclass = y[1]'),\n",
       " Text(209.25, 163.08000000000004, 'BILL_AMT2 <= 26573.0\\ngini = 0.43\\nsamples = 329\\nvalue = [369, 166]\\nclass = y[0]'),\n",
       " Text(174.375, 54.360000000000014, 'gini = 0.45\\nsamples = 240\\nvalue = [251, 135]\\nclass = y[0]'),\n",
       " Text(244.125, 54.360000000000014, 'gini = 0.33\\nsamples = 89\\nvalue = [118, 31]\\nclass = y[0]'),\n",
       " Text(418.5, 271.8, 'PAY_6 <= 1.0\\ngini = 0.21\\nsamples = 5435\\nvalue = [7534, 1030]\\nclass = y[0]'),\n",
       " Text(348.75, 163.08000000000004, 'PAY_3 <= 1.5\\ngini = 0.19\\nsamples = 5110\\nvalue = [7155, 868]\\nclass = y[0]'),\n",
       " Text(313.875, 54.360000000000014, 'gini = 0.19\\nsamples = 4936\\nvalue = [6943, 814]\\nclass = y[0]'),\n",
       " Text(383.625, 54.360000000000014, 'gini = 0.32\\nsamples = 174\\nvalue = [212, 54]\\nclass = y[0]'),\n",
       " Text(488.25, 163.08000000000004, 'PAY_0 <= 1.5\\ngini = 0.42\\nsamples = 325\\nvalue = [379, 162]\\nclass = y[0]'),\n",
       " Text(453.375, 54.360000000000014, 'gini = 0.37\\nsamples = 285\\nvalue = [365, 117]\\nclass = y[0]'),\n",
       " Text(523.125, 54.360000000000014, 'gini = 0.36\\nsamples = 40\\nvalue = [14, 45]\\nclass = y[1]'),\n",
       " Text(837.0, 380.52000000000004, 'PAY_5 <= 1.0\\ngini = 0.49\\nsamples = 1919\\nvalue = [1372, 1682]\\nclass = y[1]'),\n",
       " Text(697.5, 271.8, 'LIMIT_BAL <= 275000.0\\ngini = 0.5\\nsamples = 1090\\nvalue = [922, 813]\\nclass = y[0]'),\n",
       " Text(627.75, 163.08000000000004, 'PAY_3 <= 1.0\\ngini = 0.5\\nsamples = 1003\\nvalue = [814, 776]\\nclass = y[0]'),\n",
       " Text(592.875, 54.360000000000014, 'gini = 0.49\\nsamples = 487\\nvalue = [436, 328]\\nclass = y[0]'),\n",
       " Text(662.625, 54.360000000000014, 'gini = 0.5\\nsamples = 516\\nvalue = [378, 448]\\nclass = y[1]'),\n",
       " Text(767.25, 163.08000000000004, 'PAY_AMT2 <= 99.0\\ngini = 0.38\\nsamples = 87\\nvalue = [108, 37]\\nclass = y[0]'),\n",
       " Text(732.375, 54.360000000000014, 'gini = 0.49\\nsamples = 25\\nvalue = [25, 20]\\nclass = y[0]'),\n",
       " Text(802.125, 54.360000000000014, 'gini = 0.28\\nsamples = 62\\nvalue = [83, 17]\\nclass = y[0]'),\n",
       " Text(976.5, 271.8, 'BILL_AMT2 <= 7224.0\\ngini = 0.45\\nsamples = 829\\nvalue = [450, 869]\\nclass = y[1]'),\n",
       " Text(906.75, 163.08000000000004, 'PAY_AMT3 <= 2362.0\\ngini = 0.36\\nsamples = 122\\nvalue = [46, 152]\\nclass = y[1]'),\n",
       " Text(871.875, 54.360000000000014, 'gini = 0.32\\nsamples = 118\\nvalue = [39, 152]\\nclass = y[1]'),\n",
       " Text(941.625, 54.360000000000014, 'gini = 0.0\\nsamples = 4\\nvalue = [7, 0]\\nclass = y[0]'),\n",
       " Text(1046.25, 163.08000000000004, 'BILL_AMT5 <= 45333.5\\ngini = 0.46\\nsamples = 707\\nvalue = [404, 717]\\nclass = y[1]'),\n",
       " Text(1011.375, 54.360000000000014, 'gini = 0.48\\nsamples = 395\\nvalue = [247, 375]\\nclass = y[1]'),\n",
       " Text(1081.125, 54.360000000000014, 'gini = 0.43\\nsamples = 312\\nvalue = [157, 342]\\nclass = y[1]')]"
      ]
     },
     "execution_count": 19,
     "metadata": {},
     "output_type": "execute_result"
    },
    {
     "data": {
      "image/png": "[encoded data removed]",
      "text/plain": [
       "<Figure size 1440x720 with 1 Axes>"
      ]
     },
     "metadata": {
      "needs_background": "light"
     },
     "output_type": "display_data"
    }
   ],
   "source": [
    "from sklearn.tree import plot_tree\n",
    "\n",
    "plot_tree(chosen_tree,feature_names = original_variables, class_names = True,\n",
    "                rounded = True, proportion = False, precision = 2, filled = True, fontsize=10)"
   ]
  },
  {
   "cell_type": "markdown",
   "metadata": {},
   "source": [
    "## Introducing Hyperparameters"
   ]
  },
  {
   "cell_type": "markdown",
   "metadata": {},
   "source": [
    "### Hyperparameters in Random Forests"
   ]
  },
  {
   "cell_type": "markdown",
   "metadata": {},
   "source": [
    "As you saw, there are many different hyperparameters available in a Random Forest model using Scikit Learn. Here you can remind yourself how to differentiate between a hyperparameter and a parameter, and easily check whether something is a hyperparameter."
   ]
  },
  {
   "cell_type": "markdown",
   "metadata": {},
   "source": [
    "We can create a random forest estimator from the imported Scikit Learn package. Then print this estimator out to see the hyperparameters and their values."
   ]
  },
  {
   "cell_type": "markdown",
   "metadata": {
    "ExecuteTime": {
     "end_time": "2020-02-17T09:33:20.376425Z",
     "start_time": "2020-02-17T09:33:20.366452Z"
    }
   },
   "source": [
    "Which of the following is a hyperparameter for the Scikit Learn random forest model?"
   ]
  },
  {
   "cell_type": "code",
   "execution_count": 20,
   "metadata": {
    "ExecuteTime": {
     "end_time": "2020-02-19T18:49:31.400412Z",
     "start_time": "2020-02-19T18:49:31.387446Z"
    }
   },
   "outputs": [
    {
     "data": {
      "text/plain": [
       "RandomForestClassifier(bootstrap=True, ccp_alpha=0.0, class_weight=None,\n",
       "                       criterion='gini', max_depth=4, max_features='auto',\n",
       "                       max_leaf_nodes=None, max_samples=None,\n",
       "                       min_impurity_decrease=0.0, min_impurity_split=None,\n",
       "                       min_samples_leaf=1, min_samples_split=2,\n",
       "                       min_weight_fraction_leaf=0.0, n_estimators=100,\n",
       "                       n_jobs=None, oob_score=False, random_state=42, verbose=0,\n",
       "                       warm_start=False)"
      ]
     },
     "execution_count": 20,
     "metadata": {},
     "output_type": "execute_result"
    }
   ],
   "source": [
    "rf_clf"
   ]
  },
  {
   "cell_type": "markdown",
   "metadata": {},
   "source": [
    "**Possible Answers**\n",
    "\n",
    "1. `oob_score`\n",
    "2. `classes_`\n",
    "3. `trees`\n",
    "4. `random_level`"
   ]
  },
  {
   "cell_type": "code",
   "execution_count": 21,
   "metadata": {
    "ExecuteTime": {
     "end_time": "2020-02-19T18:49:31.416390Z",
     "start_time": "2020-02-19T18:49:31.402409Z"
    }
   },
   "outputs": [
    {
     "name": "stdout",
     "output_type": "stream",
     "text": [
      "Enter 1, 2, 3 or 4 as the answer\n"
     ]
    }
   ],
   "source": [
    "# Pass 1,2,3 or 4 as argument\n",
    "utils.which_is_hyperparam()"
   ]
  },
  {
   "cell_type": "markdown",
   "metadata": {},
   "source": [
    "### Exploring Random Forest Hyperparameters"
   ]
  },
  {
   "cell_type": "markdown",
   "metadata": {},
   "source": [
    "Understanding what hyperparameters are available and the impact of different hyperparameters is a core skill for any data scientist. As models become more complex, there are many different settings we can set, but only some will have a large impact on your model."
   ]
  },
  {
   "cell_type": "markdown",
   "metadata": {},
   "source": [
    "We will now assess an existing random forest model (it has some bad choices for hyperparameters!) and then make better choices for a new random forest model and assess its performance."
   ]
  },
  {
   "cell_type": "code",
   "execution_count": 22,
   "metadata": {
    "ExecuteTime": {
     "end_time": "2020-02-19T18:49:31.696129Z",
     "start_time": "2020-02-19T18:49:31.420359Z"
    }
   },
   "outputs": [],
   "source": [
    "rf_clf_bad = RandomForestClassifier(n_estimators=5, random_state=42)\n",
    "rf_clf_bad.fit(X_train, y_train)\n",
    "rf_bad_predictions = rf_clf_bad.predict(X_test)"
   ]
  },
  {
   "cell_type": "code",
   "execution_count": 23,
   "metadata": {
    "ExecuteTime": {
     "end_time": "2020-02-19T18:49:31.726048Z",
     "start_time": "2020-02-19T18:49:31.701140Z"
    }
   },
   "outputs": [
    {
     "name": "stdout",
     "output_type": "stream",
     "text": [
      "Confusion Matrix: \n",
      "\n",
      " [[6340  669]\n",
      " [1260  731]] \n",
      " Accuracy Score: \n",
      "\n",
      " 0.7856666666666666\n"
     ]
    }
   ],
   "source": [
    "from sklearn.metrics import accuracy_score, confusion_matrix\n",
    "\n",
    "# Get confusion matrix & accuracy for the bad rf_model\n",
    "print(f'Confusion Matrix: \\n\\n {confusion_matrix(y_test, rf_bad_predictions)} \\n Accuracy Score: \\n\\n {accuracy_score(y_test, rf_bad_predictions)}')"
   ]
  },
  {
   "cell_type": "code",
   "execution_count": 24,
   "metadata": {
    "ExecuteTime": {
     "end_time": "2020-02-19T18:49:31.742007Z",
     "start_time": "2020-02-19T18:49:31.728043Z"
    }
   },
   "outputs": [],
   "source": [
    "# Create a new random forest classifier with better hyperparamaters\n",
    "rf_clf_new = RandomForestClassifier(n_estimators=500, random_state=42)"
   ]
  },
  {
   "cell_type": "code",
   "execution_count": 25,
   "metadata": {
    "ExecuteTime": {
     "end_time": "2020-02-19T18:49:57.119753Z",
     "start_time": "2020-02-19T18:49:31.744000Z"
    }
   },
   "outputs": [],
   "source": [
    "# Fit this to the data and obtain predictions\n",
    "rf_new_predictions = rf_clf_new.fit(X_train, y_train).predict(X_test)"
   ]
  },
  {
   "cell_type": "code",
   "execution_count": 26,
   "metadata": {
    "ExecuteTime": {
     "end_time": "2020-02-19T18:49:57.135713Z",
     "start_time": "2020-02-19T18:49:57.121747Z"
    }
   },
   "outputs": [
    {
     "name": "stdout",
     "output_type": "stream",
     "text": [
      "Confusion Matrix: \n",
      "\n",
      " [[6601  408]\n",
      " [1253  738]] \n",
      " Accuracy Score: \n",
      "\n",
      " 0.8154444444444444\n"
     ]
    }
   ],
   "source": [
    "# Get confusion matrix & accuracy for the new rf_model\n",
    "print(f'Confusion Matrix: \\n\\n {confusion_matrix(y_test, rf_new_predictions)} \\n Accuracy Score: \\n\\n {accuracy_score(y_test, rf_new_predictions)}')"
   ]
  },
  {
   "cell_type": "markdown",
   "metadata": {},
   "source": [
    "Nice! We got a nice 3% accuracy boost just from changing the `n_estimators`. We have had our first taste of hyperparameter tuning for a random forest model."
   ]
  },
  {
   "cell_type": "markdown",
   "metadata": {},
   "source": [
    "### Hyperparameters of KNN"
   ]
  },
  {
   "cell_type": "markdown",
   "metadata": {},
   "source": [
    "To apply the concepts learned in the prior exercise, it is good practice to try out learnings on a new algorithm. The k-nearest-neighbors algorithm is not as popular as it used to be but can still be an excellent choice for data that has groups of data that behave similarly. Could this be the case for our credit card users?"
   ]
  },
  {
   "cell_type": "markdown",
   "metadata": {},
   "source": [
    "In this case we will try out several different values for one of the core hyperparameters for the knn algorithm and compare performance."
   ]
  },
  {
   "cell_type": "code",
   "execution_count": 27,
   "metadata": {
    "ExecuteTime": {
     "end_time": "2020-02-19T18:49:57.151671Z",
     "start_time": "2020-02-19T18:49:57.137707Z"
    }
   },
   "outputs": [],
   "source": [
    "from sklearn.neighbors import KNeighborsClassifier\n",
    "\n",
    "# Build a knn estimator for each value of n_neighbours\n",
    "knn_5 = KNeighborsClassifier(n_neighbors=5)\n",
    "knn_10 = KNeighborsClassifier(n_neighbors=10)\n",
    "knn_20 = KNeighborsClassifier(n_neighbors=20)"
   ]
  },
  {
   "cell_type": "code",
   "execution_count": 28,
   "metadata": {
    "ExecuteTime": {
     "end_time": "2020-02-19T18:50:01.810208Z",
     "start_time": "2020-02-19T18:49:57.154661Z"
    }
   },
   "outputs": [],
   "source": [
    "# Fit each to the training data & produce predictions\n",
    "knn_5_predictions = knn_5.fit(X_train, y_train).predict(X_test)\n",
    "knn_10_predictions = knn_10.fit(X_train, y_train).predict(X_test)\n",
    "knn_20_predictions = knn_20.fit(X_train, y_train).predict(X_test)"
   ]
  },
  {
   "cell_type": "code",
   "execution_count": 29,
   "metadata": {
    "ExecuteTime": {
     "end_time": "2020-02-19T18:50:01.825171Z",
     "start_time": "2020-02-19T18:50:01.812203Z"
    }
   },
   "outputs": [
    {
     "name": "stdout",
     "output_type": "stream",
     "text": [
      "The accuracy of 5, 10, 20 neighbours was 0.7527777777777778, 0.7741111111111111, 0.7774444444444445\n"
     ]
    }
   ],
   "source": [
    "# Get an accuracy score for each of the models\n",
    "knn_5_accuracy = accuracy_score(y_test, knn_5_predictions)\n",
    "knn_10_accuracy = accuracy_score(y_test, knn_10_predictions)\n",
    "knn_20_accuracy = accuracy_score(y_test, knn_20_predictions)\n",
    "\n",
    "print(f\"The accuracy of 5, 10, 20 neighbours was {knn_5_accuracy}, {knn_10_accuracy}, {knn_20_accuracy}\")"
   ]
  },
  {
   "cell_type": "markdown",
   "metadata": {},
   "source": [
    "Phew! We succesfully tested 3 different options for 1 hyperparameter, but it was pretty exhausting. Next, we will try to find a way to make this easier."
   ]
  },
  {
   "cell_type": "markdown",
   "metadata": {},
   "source": [
    "## Setting & Analyzing Hyperparameter Values"
   ]
  },
  {
   "cell_type": "markdown",
   "metadata": {},
   "source": [
    "### Automating Hyperparameter Choice"
   ]
  },
  {
   "cell_type": "markdown",
   "metadata": {},
   "source": [
    "Finding the best hyperparameter of interest without writing hundreds of lines of code for hundreds of models is an important efficiency gain that will greatly assist your future machine learning model building."
   ]
  },
  {
   "cell_type": "markdown",
   "metadata": {},
   "source": [
    "An important hyperparameter for the GBM algorithm is the learning rate. But which learning rate is best for this problem? By writing a loop to search through a number of possibilities, collating these and viewing them we can find the best one."
   ]
  },
  {
   "cell_type": "markdown",
   "metadata": {},
   "source": [
    "Possible learning rates to try include 0.001, 0.01, 0.05, 0.1, 0.2 and 0.5"
   ]
  },
  {
   "cell_type": "code",
   "execution_count": 30,
   "metadata": {
    "ExecuteTime": {
     "end_time": "2020-02-19T18:50:01.840130Z",
     "start_time": "2020-02-19T18:50:01.829157Z"
    }
   },
   "outputs": [],
   "source": [
    "from sklearn.ensemble import GradientBoostingClassifier"
   ]
  },
  {
   "cell_type": "code",
   "execution_count": 31,
   "metadata": {
    "ExecuteTime": {
     "end_time": "2020-02-19T18:50:01.855089Z",
     "start_time": "2020-02-19T18:50:01.842125Z"
    }
   },
   "outputs": [],
   "source": [
    "# Set the learning rates & results storage\n",
    "learning_rates = [0.001, 0.01, 0.05, 0.1, 0.2, 0.5]\n",
    "results_list = []"
   ]
  },
  {
   "cell_type": "code",
   "execution_count": 32,
   "metadata": {
    "ExecuteTime": {
     "end_time": "2020-02-19T18:50:43.360578Z",
     "start_time": "2020-02-19T18:50:01.858082Z"
    }
   },
   "outputs": [],
   "source": [
    "# Create the for loop to evaluate model predictions for each learning rate\n",
    "for learning_rate in learning_rates:\n",
    "    model = GradientBoostingClassifier(learning_rate=learning_rate, random_state=42)\n",
    "    predictions = model.fit(X_train, y_train).predict(X_test)\n",
    "    # Save the learning rate and accuracy score\n",
    "    results_list.append([learning_rate, accuracy_score(y_test, predictions)])"
   ]
  },
  {
   "cell_type": "code",
   "execution_count": 33,
   "metadata": {
    "ExecuteTime": {
     "end_time": "2020-02-19T18:50:43.375538Z",
     "start_time": "2020-02-19T18:50:43.362573Z"
    }
   },
   "outputs": [
    {
     "name": "stdout",
     "output_type": "stream",
     "text": [
      "   learning_rate  accuracy\n",
      "0          0.001  0.778778\n",
      "1          0.010  0.817556\n",
      "2          0.050  0.817889\n",
      "3          0.100  0.817000\n",
      "4          0.200  0.815667\n",
      "5          0.500  0.811111\n"
     ]
    }
   ],
   "source": [
    "# Gather everything into a DataFrame\n",
    "results_df = pd.DataFrame(results_list, columns=['learning_rate', 'accuracy'])\n",
    "print(results_df)"
   ]
  },
  {
   "cell_type": "markdown",
   "metadata": {},
   "source": [
    "Nice! We efficiently tested a few different values for a single hyperparameter and can easily see which learning rate value was the best. Here, it seems that a learning rate of 0.05 yields the best accuracy."
   ]
  },
  {
   "cell_type": "markdown",
   "metadata": {},
   "source": [
    "### Building Learning Curves"
   ]
  },
  {
   "cell_type": "markdown",
   "metadata": {},
   "source": [
    "If we want to test many different values for a single hyperparameter it can be difficult to easily view that in the form of a DataFrame. Previously we learned about a nice trick to analyze this. A graph called a 'learning curve' can nicely demonstrate the effect of increasing or decreasing a particular hyperparameter on the final result."
   ]
  },
  {
   "cell_type": "markdown",
   "metadata": {},
   "source": [
    "Instead of testing only a few values for the learning rate, we will test many to easily see the effect of this hyperparameter across a large range of values. A useful function from NumPy is `np.linspace(start, end, num)` which allows us to create a number of values (`num`) evenly spread within an interval (`start`, `end`) that we specify."
   ]
  },
  {
   "cell_type": "code",
   "execution_count": 34,
   "metadata": {
    "ExecuteTime": {
     "end_time": "2020-02-19T18:50:43.391495Z",
     "start_time": "2020-02-19T18:50:43.379528Z"
    }
   },
   "outputs": [],
   "source": [
    "# Set the learning rates & accuracies list\n",
    "learn_rates = np.linspace(0.01, 2, num=30)\n",
    "accuracies = []"
   ]
  },
  {
   "cell_type": "code",
   "execution_count": 35,
   "metadata": {
    "ExecuteTime": {
     "end_time": "2020-02-19T18:54:05.080909Z",
     "start_time": "2020-02-19T18:50:43.394487Z"
    }
   },
   "outputs": [],
   "source": [
    "# Create the for loop\n",
    "for learn_rate in learn_rates:\n",
    "    # Create the model, predictions & save the accuracies as before\n",
    "    model = GradientBoostingClassifier(learning_rate=learn_rate, random_state=42)\n",
    "    predictions = model.fit(X_train, y_train).predict(X_test)\n",
    "    accuracies.append(accuracy_score(y_test, predictions))"
   ]
  },
  {
   "cell_type": "code",
   "execution_count": 36,
   "metadata": {
    "ExecuteTime": {
     "end_time": "2020-02-19T18:54:05.328196Z",
     "start_time": "2020-02-19T18:54:05.082850Z"
    }
   },
   "outputs": [
    {
     "data": {
      "image/png": "[encoded data removed]",
      "text/plain": [
       "<Figure size 1440x720 with 1 Axes>"
      ]
     },
     "metadata": {
      "needs_background": "light"
     },
     "output_type": "display_data"
    }
   ],
   "source": [
    "# Plot results    \n",
    "plt.plot(learn_rates, accuracies)\n",
    "plt.gca().set(xlabel='learning_rate', ylabel='Accuracy', title='Accuracy for different learning_rates')\n",
    "plt.show() "
   ]
  },
  {
   "cell_type": "markdown",
   "metadata": {},
   "source": [
    "We can see that for low values, you get a pretty good accuracy. However once the learning rate pushes much above 1.5, the accuracy starts to drop. We have learned and practiced a useful skill for visualizing large amounts of results for a single hyperparameter."
   ]
  },
  {
   "cell_type": "markdown",
   "metadata": {},
   "source": [
    "# Grid search"
   ]
  },
  {
   "cell_type": "markdown",
   "metadata": {},
   "source": [
    "This chapter introduces a popular automated hyperparameter tuning methodology called Grid Search. We will learn what it is, how it works and practice undertaking a Grid Search using Scikit Learn. We will then learn how to analyze the output of a Grid Search & gain practical experience doing this."
   ]
  },
  {
   "cell_type": "markdown",
   "metadata": {},
   "source": [
    "## Introducing Grid Search"
   ]
  },
  {
   "cell_type": "markdown",
   "metadata": {},
   "source": [
    "### Build Grid Search functions"
   ]
  },
  {
   "cell_type": "markdown",
   "metadata": {},
   "source": [
    "In data science it is a great idea to try building algorithms, models and processes 'from scratch' so you can really understand what is happening at a deeper level. Of course there are great packages and libraries for this work (and we will get to that very soon!) but building from scratch will give you a great edge in your data science work."
   ]
  },
  {
   "cell_type": "markdown",
   "metadata": {},
   "source": [
    "In this example, we will create a function to take in 2 hyperparameters, build models and return results. We will use this function in a future example."
   ]
  },
  {
   "cell_type": "code",
   "execution_count": 37,
   "metadata": {
    "ExecuteTime": {
     "end_time": "2020-02-19T18:54:05.343154Z",
     "start_time": "2020-02-19T18:54:05.330189Z"
    }
   },
   "outputs": [],
   "source": [
    "# Create the function\n",
    "def gbm_grid_search(learn_rate, max_depth, random_state=42):\n",
    "\n",
    "    # Create the model\n",
    "    model = GradientBoostingClassifier(learning_rate=learn_rate, max_depth=max_depth, random_state=random_state)\n",
    "    \n",
    "    # Use the model to make predictions\n",
    "    predictions = model.fit(X_train, y_train).predict(X_test)\n",
    "    \n",
    "    # Return the hyperparameters and score\n",
    "    return([learn_rate, max_depth, accuracy_score(y_test, predictions)])"
   ]
  },
  {
   "cell_type": "markdown",
   "metadata": {},
   "source": [
    "### Iteratively tune multiple hyperparameters"
   ]
  },
  {
   "cell_type": "markdown",
   "metadata": {},
   "source": [
    "In this example, we will build on the function you previously created to take in 2 hyperparameters, build a model and return the results. We will now use that to loop through some values and then extend this function and loop with another hyperparameter."
   ]
  },
  {
   "cell_type": "code",
   "execution_count": 38,
   "metadata": {
    "ExecuteTime": {
     "end_time": "2020-02-19T18:54:05.358113Z",
     "start_time": "2020-02-19T18:54:05.344151Z"
    }
   },
   "outputs": [],
   "source": [
    "# Create the relevant lists\n",
    "results_list = []\n",
    "learn_rate_list = [0.01, 0.1, 0.5]\n",
    "max_depth_list = [2,4,6]"
   ]
  },
  {
   "cell_type": "code",
   "execution_count": 39,
   "metadata": {
    "ExecuteTime": {
     "end_time": "2020-02-19T18:55:25.042572Z",
     "start_time": "2020-02-19T18:54:05.360108Z"
    }
   },
   "outputs": [],
   "source": [
    "# Create the for loop\n",
    "for learn_rate in learn_rate_list:\n",
    "    for max_depth in max_depth_list:\n",
    "        results_list.append(gbm_grid_search(learn_rate,max_depth))"
   ]
  },
  {
   "cell_type": "code",
   "execution_count": 40,
   "metadata": {
    "ExecuteTime": {
     "end_time": "2020-02-19T18:55:25.058530Z",
     "start_time": "2020-02-19T18:55:25.044567Z"
    }
   },
   "outputs": [
    {
     "data": {
      "text/plain": [
       "[[0.01, 2, 0.8172222222222222],\n",
       " [0.01, 4, 0.8171111111111111],\n",
       " [0.01, 6, 0.8157777777777778],\n",
       " [0.1, 2, 0.8167777777777778],\n",
       " [0.1, 4, 0.8174444444444444],\n",
       " [0.1, 6, 0.8154444444444444],\n",
       " [0.5, 2, 0.814],\n",
       " [0.5, 4, 0.7991111111111111],\n",
       " [0.5, 6, 0.7863333333333333]]"
      ]
     },
     "execution_count": 40,
     "metadata": {},
     "output_type": "execute_result"
    }
   ],
   "source": [
    "# Print the results\n",
    "results_list"
   ]
  },
  {
   "cell_type": "code",
   "execution_count": 41,
   "metadata": {
    "ExecuteTime": {
     "end_time": "2020-02-19T18:55:25.074519Z",
     "start_time": "2020-02-19T18:55:25.062520Z"
    }
   },
   "outputs": [],
   "source": [
    "# Extend the function input\n",
    "def gbm_grid_search_extended(learn_rate, max_depth, subsample, random_state=42):\n",
    "\n",
    "    # Extend the model creation section\n",
    "    model = GradientBoostingClassifier(learning_rate=learn_rate, max_depth=max_depth, subsample=subsample, random_state=42)\n",
    "    \n",
    "    predictions = model.fit(X_train, y_train).predict(X_test)\n",
    "    \n",
    "    # Extend the return part\n",
    "    return([learn_rate, max_depth, subsample, accuracy_score(y_test, predictions)])"
   ]
  },
  {
   "cell_type": "code",
   "execution_count": 42,
   "metadata": {
    "ExecuteTime": {
     "end_time": "2020-02-19T18:55:25.090444Z",
     "start_time": "2020-02-19T18:55:25.078477Z"
    }
   },
   "outputs": [],
   "source": [
    "results_list = []\n",
    "\n",
    "# Create the new list to test\n",
    "subsample_list = [0.4, 0.6]"
   ]
  },
  {
   "cell_type": "code",
   "execution_count": 43,
   "metadata": {
    "ExecuteTime": {
     "end_time": "2020-02-19T18:56:51.075867Z",
     "start_time": "2020-02-19T18:55:25.092467Z"
    }
   },
   "outputs": [],
   "source": [
    "for learn_rate in learn_rate_list:\n",
    "    for max_depth in max_depth_list:\n",
    "        # Extend the for loop\n",
    "        for subsample in subsample_list:\n",
    "            # Extend the results to include the new hyperparameter\n",
    "            results_list.append(gbm_grid_search_extended(learn_rate, max_depth, subsample))"
   ]
  },
  {
   "cell_type": "code",
   "execution_count": 44,
   "metadata": {
    "ExecuteTime": {
     "end_time": "2020-02-19T18:56:51.091085Z",
     "start_time": "2020-02-19T18:56:51.078159Z"
    }
   },
   "outputs": [
    {
     "data": {
      "text/plain": [
       "[[0.01, 2, 0.4, 0.8171111111111111],\n",
       " [0.01, 2, 0.6, 0.817],\n",
       " [0.01, 4, 0.4, 0.8174444444444444],\n",
       " [0.01, 4, 0.6, 0.8164444444444444],\n",
       " [0.01, 6, 0.4, 0.8155555555555556],\n",
       " [0.01, 6, 0.6, 0.8163333333333334],\n",
       " [0.1, 2, 0.4, 0.8162222222222222],\n",
       " [0.1, 2, 0.6, 0.817],\n",
       " [0.1, 4, 0.4, 0.814],\n",
       " [0.1, 4, 0.6, 0.8148888888888889],\n",
       " [0.1, 6, 0.4, 0.8106666666666666],\n",
       " [0.1, 6, 0.6, 0.8136666666666666],\n",
       " [0.5, 2, 0.4, 0.815],\n",
       " [0.5, 2, 0.6, 0.8144444444444444],\n",
       " [0.5, 4, 0.4, 0.792],\n",
       " [0.5, 4, 0.6, 0.7938888888888889],\n",
       " [0.5, 6, 0.4, 0.7725555555555556],\n",
       " [0.5, 6, 0.6, 0.7742222222222223]]"
      ]
     },
     "execution_count": 44,
     "metadata": {},
     "output_type": "execute_result"
    }
   ],
   "source": [
    "# Print results\n",
    "results_list"
   ]
  },
  {
   "cell_type": "markdown",
   "metadata": {},
   "source": [
    "We have effectively built our own grid search! You went from 2 to 3 hyperparameters and can see how we could extend that to even more values and hyperparameters. That was a lot of effort though. Be warned - we are now entering a world that can get very computationally expensive very fast!"
   ]
  },
  {
   "cell_type": "markdown",
   "metadata": {},
   "source": [
    "### How Many Models?"
   ]
  },
  {
   "cell_type": "markdown",
   "metadata": {},
   "source": [
    "Adding more hyperparameters or values, we increase the amount of models created but the increases is not linear it is proportional to how many values and hyperparameters we already have.\n",
    "\n",
    "How many models would be created when running a grid search over the following hyperparameters and values for a GBM algorithm?\n",
    "\n",
    "* learning_rate = [0.001, 0.01, 0.05, 0.1, 0.2, 0.3, 0.5, 1, 2]\n",
    "* max_depth = [4,6,8,10,12,14,16,18, 20]\n",
    "* subsample = [0.4, 0.6, 0.7, 0.8, 0.9]\n",
    "* max_features = ['auto', 'sqrt', 'log2']"
   ]
  },
  {
   "cell_type": "markdown",
   "metadata": {},
   "source": [
    "**Possible Answers**\n",
    "\n",
    "1. 26\n",
    "2. 9 of one model, 9 of another\n",
    "3. 1 large model\n",
    "4. 1215"
   ]
  },
  {
   "cell_type": "code",
   "execution_count": 45,
   "metadata": {
    "ExecuteTime": {
     "end_time": "2020-02-19T18:56:51.107041Z",
     "start_time": "2020-02-19T18:56:51.094075Z"
    }
   },
   "outputs": [
    {
     "name": "stdout",
     "output_type": "stream",
     "text": [
      "Enter 1, 2, 3 or 4 as the answer\n"
     ]
    }
   ],
   "source": [
    "# Enter 1, 2, 3 or 4 as the answer\n",
    "utils.how_many_models()"
   ]
  },
  {
   "cell_type": "markdown",
   "metadata": {},
   "source": [
    "## Grid Search with Scikit Learn"
   ]
  },
  {
   "cell_type": "markdown",
   "metadata": {},
   "source": [
    "### GridSearchCV inputs"
   ]
  },
  {
   "cell_type": "markdown",
   "metadata": {},
   "source": [
    "Let's test our knowledge of GridSeachCV inputs by answering the question below."
   ]
  },
  {
   "cell_type": "markdown",
   "metadata": {},
   "source": [
    "Three GridSearchCV objects are available below. Note that there is no data available to fit these models. Instead, you must answer by looking at their construct.\n",
    "\n",
    "```\n",
    "Model #1:\n",
    " GridSearchCV(cv=5, error_score='raise-deprecating',\n",
    "       estimator=RandomForestClassifier(bootstrap=True, class_weight=None, criterion='gini',\n",
    "            max_depth=None, max_features='auto', max_leaf_nodes=None,\n",
    "            min_impurity_decrease=0.0, min_impurity_split=None,\n",
    "            min_samples_leaf=1, min_samples_split=2,\n",
    "            min_weight_fraction_leaf=0.0, n_estimators='warn', n_jobs=None,\n",
    "            oob_score=False, random_state=None, verbose=0,\n",
    "            warm_start=False),\n",
    "       fit_params=None, iid='warn', n_jobs=4,\n",
    "       param_grid={'max_depth': [2, 4, 8, 15], 'max_features': ['auto', 'sqrt']},\n",
    "       pre_dispatch='2*n_jobs', refit=True, return_train_score=True,\n",
    "       scoring='roc_auc', verbose=0) \n",
    "\n",
    "\n",
    "Model #2:\n",
    " GridSearchCV(cv=10, error_score='raise-deprecating',\n",
    "       estimator=KNeighborsClassifier(algorithm='auto', leaf_size=30, metric='minkowski',\n",
    "           metric_params=None, n_jobs=None, n_neighbors=5, p=2,\n",
    "           weights='uniform'),\n",
    "       fit_params=None, iid='warn', n_jobs=8,\n",
    "       param_grid={'n_neighbors': [5, 10, 20], 'algorithm': ['ball_tree', 'brute']},\n",
    "       pre_dispatch='2*n_jobs', refit=False, return_train_score='warn',\n",
    "       scoring='accuracy', verbose=0) \n",
    "\n",
    "\n",
    "Model #3:\n",
    " GridSearchCV(cv=7, error_score='raise-deprecating',\n",
    "       estimator=GradientBoostingClassifier(criterion='friedman_mse', init=None,\n",
    "              learning_rate=0.1, loss='deviance', max_depth=3,\n",
    "              max_features=None, max_leaf_nodes=None,\n",
    "              min_impurity_decrease=0.0, min_impurity_split=None,\n",
    "              min_samples_leaf=1, min_sampl...      subsample=1.0, tol=0.0001, validation_fraction=0.1,\n",
    "              verbose=0, warm_start=False),\n",
    "       fit_params=None, iid='warn', n_jobs=2,\n",
    "       param_grid={'number_attempts': [2, 4, 6], 'max_depth': [3, 6, 9, 12]},\n",
    "       pre_dispatch='2*n_jobs', refit=True, return_train_score='warn',\n",
    "       scoring='accuracy', verbose=0)\n",
    "```\n",
    "\n",
    "Which of these GridSearchCV objects would not work when we try to fit it?"
   ]
  },
  {
   "cell_type": "markdown",
   "metadata": {},
   "source": [
    "**Possible Answers**\n",
    "\n",
    "1. `Model #1` would not work when we try to fit it.\n",
    "2. `Model #2` would not work when we try to fit it.\n",
    "3. `Model #3` would not work when we try to fit it.\n",
    "4. None - they will all work when we try to fit them."
   ]
  },
  {
   "cell_type": "code",
   "execution_count": 46,
   "metadata": {
    "ExecuteTime": {
     "end_time": "2020-02-19T18:56:51.122001Z",
     "start_time": "2020-02-19T18:56:51.111028Z"
    }
   },
   "outputs": [
    {
     "name": "stdout",
     "output_type": "stream",
     "text": [
      "Enter 1, 2, 3 or 4 as the answer\n"
     ]
    }
   ],
   "source": [
    "# Enter 1, 2, 3 or 4 as the answer\n",
    "utils.which_grid_search()"
   ]
  },
  {
   "cell_type": "markdown",
   "metadata": {},
   "source": [
    "### GridSearchCV with Scikit Learn"
   ]
  },
  {
   "cell_type": "markdown",
   "metadata": {},
   "source": [
    "The `GridSearchCV` module from Scikit Learn provides many useful features to assist with efficiently undertaking a grid search. We will now put it into practice by creating a GridSearchCV object with certain parameters."
   ]
  },
  {
   "cell_type": "markdown",
   "metadata": {},
   "source": [
    "The desired options are:\n",
    "\n",
    "* A Random Forest Estimator, with the split criterion as 'entropy'\n",
    "* 5-fold cross validation\n",
    "* The hyperparameters `max_depth` (2, 4, 8, 15) and `max_features` ('auto' vs 'sqrt')\n",
    "* Use `roc_auc` to score the models\n",
    "* Use 4 cores for processing in parallel\n",
    "* Ensure we refit the best model and return training scores"
   ]
  },
  {
   "cell_type": "code",
   "execution_count": 47,
   "metadata": {
    "ExecuteTime": {
     "end_time": "2020-02-19T18:56:51.137957Z",
     "start_time": "2020-02-19T18:56:51.123995Z"
    }
   },
   "outputs": [],
   "source": [
    "# Create a Random Forest Classifier with specified criterion\n",
    "rf_class = RandomForestClassifier(criterion='entropy', random_state=42)"
   ]
  },
  {
   "cell_type": "code",
   "execution_count": 48,
   "metadata": {
    "ExecuteTime": {
     "end_time": "2020-02-19T18:56:51.153913Z",
     "start_time": "2020-02-19T18:56:51.139953Z"
    }
   },
   "outputs": [],
   "source": [
    "# Create the parameter grid\n",
    "param_grid = {'max_depth': [2, 4, 8, 15], 'max_features': ['auto', 'sqrt']}"
   ]
  },
  {
   "cell_type": "code",
   "execution_count": 49,
   "metadata": {
    "ExecuteTime": {
     "end_time": "2020-02-19T18:56:51.169873Z",
     "start_time": "2020-02-19T18:56:51.156919Z"
    }
   },
   "outputs": [
    {
     "data": {
      "text/plain": [
       "GridSearchCV(cv=5, error_score=nan,\n",
       "             estimator=RandomForestClassifier(bootstrap=True, ccp_alpha=0.0,\n",
       "                                              class_weight=None,\n",
       "                                              criterion='entropy',\n",
       "                                              max_depth=None,\n",
       "                                              max_features='auto',\n",
       "                                              max_leaf_nodes=None,\n",
       "                                              max_samples=None,\n",
       "                                              min_impurity_decrease=0.0,\n",
       "                                              min_impurity_split=None,\n",
       "                                              min_samples_leaf=1,\n",
       "                                              min_samples_split=2,\n",
       "                                              min_weight_fraction_leaf=0.0,\n",
       "                                              n_estimators=100, n_jobs=None,\n",
       "                                              oob_score=False, random_state=42,\n",
       "                                              verbose=0, warm_start=False),\n",
       "             iid='deprecated', n_jobs=4,\n",
       "             param_grid={'max_depth': [2, 4, 8, 15],\n",
       "                         'max_features': ['auto', 'sqrt']},\n",
       "             pre_dispatch='2*n_jobs', refit=True, return_train_score=True,\n",
       "             scoring='roc_auc', verbose=0)"
      ]
     },
     "execution_count": 49,
     "metadata": {},
     "output_type": "execute_result"
    }
   ],
   "source": [
    "# Create a GridSearchCV object\n",
    "from sklearn.model_selection import GridSearchCV\n",
    "\n",
    "grid_rf_class=GridSearchCV(\n",
    "    estimator=rf_class,\n",
    "    param_grid=param_grid,\n",
    "    scoring='roc_auc',\n",
    "    n_jobs=4,\n",
    "    cv=5,\n",
    "    refit=True, \n",
    "    return_train_score=True)\n",
    "\n",
    "grid_rf_class"
   ]
  },
  {
   "cell_type": "markdown",
   "metadata": {},
   "source": [
    "## Understanding a grid search output"
   ]
  },
  {
   "cell_type": "markdown",
   "metadata": {},
   "source": [
    "### Exploring the grid search results"
   ]
  },
  {
   "cell_type": "markdown",
   "metadata": {},
   "source": [
    "We will now explore the `cv_results_` property of the GridSearchCV object defined above. This is a dictionary that we can read into a pandas DataFrame and contains a lot of useful information about the grid search we just undertook."
   ]
  },
  {
   "cell_type": "markdown",
   "metadata": {},
   "source": [
    "A reminder of the different column types in this property:\n",
    "\n",
    "* `time_` columns\n",
    "* `param_` columns (one for each hyperparameter) and **the** singular `params` column (with all hyperparameter settings)\n",
    "* a `train_score` column for each cv fold including the `mean_train_score` and `std_train_score` columns\n",
    "* a `test_score` column for each cv fold including the `mean_test_score` and `std_test_score` columns\n",
    "* a `rank_test_score` column with a number from 1 to n (number of iterations) ranking the rows based on their `mean_test_score`"
   ]
  },
  {
   "cell_type": "code",
   "execution_count": 50,
   "metadata": {
    "ExecuteTime": {
     "end_time": "2020-02-19T18:57:24.514811Z",
     "start_time": "2020-02-19T18:56:51.172862Z"
    }
   },
   "outputs": [
    {
     "data": {
      "text/plain": [
       "GridSearchCV(cv=5, error_score=nan,\n",
       "             estimator=RandomForestClassifier(bootstrap=True, ccp_alpha=0.0,\n",
       "                                              class_weight=None,\n",
       "                                              criterion='entropy',\n",
       "                                              max_depth=None,\n",
       "                                              max_features='auto',\n",
       "                                              max_leaf_nodes=None,\n",
       "                                              max_samples=None,\n",
       "                                              min_impurity_decrease=0.0,\n",
       "                                              min_impurity_split=None,\n",
       "                                              min_samples_leaf=1,\n",
       "                                              min_samples_split=2,\n",
       "                                              min_weight_fraction_leaf=0.0,\n",
       "                                              n_estimators=100, n_jobs=None,\n",
       "                                              oob_score=False, random_state=42,\n",
       "                                              verbose=0, warm_start=False),\n",
       "             iid='deprecated', n_jobs=4,\n",
       "             param_grid={'max_depth': [2, 4, 8, 15],\n",
       "                         'max_features': ['auto', 'sqrt']},\n",
       "             pre_dispatch='2*n_jobs', refit=True, return_train_score=True,\n",
       "             scoring='roc_auc', verbose=0)"
      ]
     },
     "execution_count": 50,
     "metadata": {},
     "output_type": "execute_result"
    }
   ],
   "source": [
    "# First fit the GridSearchCV\n",
    "grid_rf_class.fit(X_train, y_train)"
   ]
  },
  {
   "cell_type": "code",
   "execution_count": 51,
   "metadata": {
    "ExecuteTime": {
     "end_time": "2020-02-19T18:57:24.560682Z",
     "start_time": "2020-02-19T18:57:24.516773Z"
    }
   },
   "outputs": [
    {
     "data": {
      "text/html": [
       "<div>\n",
       "<style scoped>\n",
       "    .dataframe tbody tr th:only-of-type {\n",
       "        vertical-align: middle;\n",
       "    }\n",
       "\n",
       "    .dataframe tbody tr th {\n",
       "        vertical-align: top;\n",
       "    }\n",
       "\n",
       "    .dataframe thead th {\n",
       "        text-align: right;\n",
       "    }\n",
       "</style>\n",
       "<table border=\"1\" class=\"dataframe\">\n",
       "  <thead>\n",
       "    <tr style=\"text-align: right;\">\n",
       "      <th></th>\n",
       "      <th>mean_fit_time</th>\n",
       "      <th>std_fit_time</th>\n",
       "      <th>mean_score_time</th>\n",
       "      <th>std_score_time</th>\n",
       "      <th>param_max_depth</th>\n",
       "      <th>param_max_features</th>\n",
       "      <th>params</th>\n",
       "      <th>split0_test_score</th>\n",
       "      <th>split1_test_score</th>\n",
       "      <th>split2_test_score</th>\n",
       "      <th>...</th>\n",
       "      <th>mean_test_score</th>\n",
       "      <th>std_test_score</th>\n",
       "      <th>rank_test_score</th>\n",
       "      <th>split0_train_score</th>\n",
       "      <th>split1_train_score</th>\n",
       "      <th>split2_train_score</th>\n",
       "      <th>split3_train_score</th>\n",
       "      <th>split4_train_score</th>\n",
       "      <th>mean_train_score</th>\n",
       "      <th>std_train_score</th>\n",
       "    </tr>\n",
       "  </thead>\n",
       "  <tbody>\n",
       "    <tr>\n",
       "      <th>0</th>\n",
       "      <td>0.936229</td>\n",
       "      <td>0.013790</td>\n",
       "      <td>0.033539</td>\n",
       "      <td>0.003046</td>\n",
       "      <td>2</td>\n",
       "      <td>auto</td>\n",
       "      <td>{'max_depth': 2, 'max_features': 'auto'}</td>\n",
       "      <td>0.785047</td>\n",
       "      <td>0.781114</td>\n",
       "      <td>0.756124</td>\n",
       "      <td>...</td>\n",
       "      <td>0.769430</td>\n",
       "      <td>0.016672</td>\n",
       "      <td>7</td>\n",
       "      <td>0.771513</td>\n",
       "      <td>0.768053</td>\n",
       "      <td>0.775149</td>\n",
       "      <td>0.777181</td>\n",
       "      <td>0.771317</td>\n",
       "      <td>0.772643</td>\n",
       "      <td>0.003193</td>\n",
       "    </tr>\n",
       "    <tr>\n",
       "      <th>1</th>\n",
       "      <td>0.904064</td>\n",
       "      <td>0.020556</td>\n",
       "      <td>0.030805</td>\n",
       "      <td>0.002166</td>\n",
       "      <td>2</td>\n",
       "      <td>sqrt</td>\n",
       "      <td>{'max_depth': 2, 'max_features': 'sqrt'}</td>\n",
       "      <td>0.785047</td>\n",
       "      <td>0.781114</td>\n",
       "      <td>0.756124</td>\n",
       "      <td>...</td>\n",
       "      <td>0.769430</td>\n",
       "      <td>0.016672</td>\n",
       "      <td>7</td>\n",
       "      <td>0.771513</td>\n",
       "      <td>0.768053</td>\n",
       "      <td>0.775149</td>\n",
       "      <td>0.777181</td>\n",
       "      <td>0.771317</td>\n",
       "      <td>0.772643</td>\n",
       "      <td>0.003193</td>\n",
       "    </tr>\n",
       "    <tr>\n",
       "      <th>2</th>\n",
       "      <td>1.560012</td>\n",
       "      <td>0.026929</td>\n",
       "      <td>0.035523</td>\n",
       "      <td>0.002155</td>\n",
       "      <td>4</td>\n",
       "      <td>auto</td>\n",
       "      <td>{'max_depth': 4, 'max_features': 'auto'}</td>\n",
       "      <td>0.787020</td>\n",
       "      <td>0.787569</td>\n",
       "      <td>0.761032</td>\n",
       "      <td>...</td>\n",
       "      <td>0.774169</td>\n",
       "      <td>0.016250</td>\n",
       "      <td>5</td>\n",
       "      <td>0.778370</td>\n",
       "      <td>0.777638</td>\n",
       "      <td>0.784004</td>\n",
       "      <td>0.786128</td>\n",
       "      <td>0.779058</td>\n",
       "      <td>0.781040</td>\n",
       "      <td>0.003385</td>\n",
       "    </tr>\n",
       "    <tr>\n",
       "      <th>3</th>\n",
       "      <td>1.588011</td>\n",
       "      <td>0.015391</td>\n",
       "      <td>0.034710</td>\n",
       "      <td>0.000457</td>\n",
       "      <td>4</td>\n",
       "      <td>sqrt</td>\n",
       "      <td>{'max_depth': 4, 'max_features': 'sqrt'}</td>\n",
       "      <td>0.787020</td>\n",
       "      <td>0.787569</td>\n",
       "      <td>0.761032</td>\n",
       "      <td>...</td>\n",
       "      <td>0.774169</td>\n",
       "      <td>0.016250</td>\n",
       "      <td>5</td>\n",
       "      <td>0.778370</td>\n",
       "      <td>0.777638</td>\n",
       "      <td>0.784004</td>\n",
       "      <td>0.786128</td>\n",
       "      <td>0.779058</td>\n",
       "      <td>0.781040</td>\n",
       "      <td>0.003385</td>\n",
       "    </tr>\n",
       "    <tr>\n",
       "      <th>4</th>\n",
       "      <td>2.887103</td>\n",
       "      <td>0.025046</td>\n",
       "      <td>0.049465</td>\n",
       "      <td>0.001958</td>\n",
       "      <td>8</td>\n",
       "      <td>auto</td>\n",
       "      <td>{'max_depth': 8, 'max_features': 'auto'}</td>\n",
       "      <td>0.793212</td>\n",
       "      <td>0.794749</td>\n",
       "      <td>0.766462</td>\n",
       "      <td>...</td>\n",
       "      <td>0.780748</td>\n",
       "      <td>0.015534</td>\n",
       "      <td>1</td>\n",
       "      <td>0.825088</td>\n",
       "      <td>0.829276</td>\n",
       "      <td>0.832937</td>\n",
       "      <td>0.835633</td>\n",
       "      <td>0.828782</td>\n",
       "      <td>0.830343</td>\n",
       "      <td>0.003631</td>\n",
       "    </tr>\n",
       "    <tr>\n",
       "      <th>5</th>\n",
       "      <td>2.872741</td>\n",
       "      <td>0.067820</td>\n",
       "      <td>0.054285</td>\n",
       "      <td>0.006077</td>\n",
       "      <td>8</td>\n",
       "      <td>sqrt</td>\n",
       "      <td>{'max_depth': 8, 'max_features': 'sqrt'}</td>\n",
       "      <td>0.793212</td>\n",
       "      <td>0.794749</td>\n",
       "      <td>0.766462</td>\n",
       "      <td>...</td>\n",
       "      <td>0.780748</td>\n",
       "      <td>0.015534</td>\n",
       "      <td>1</td>\n",
       "      <td>0.825088</td>\n",
       "      <td>0.829276</td>\n",
       "      <td>0.832937</td>\n",
       "      <td>0.835633</td>\n",
       "      <td>0.828782</td>\n",
       "      <td>0.830343</td>\n",
       "      <td>0.003631</td>\n",
       "    </tr>\n",
       "    <tr>\n",
       "      <th>6</th>\n",
       "      <td>4.944217</td>\n",
       "      <td>0.064419</td>\n",
       "      <td>0.076544</td>\n",
       "      <td>0.003426</td>\n",
       "      <td>15</td>\n",
       "      <td>auto</td>\n",
       "      <td>{'max_depth': 15, 'max_features': 'auto'}</td>\n",
       "      <td>0.789223</td>\n",
       "      <td>0.795596</td>\n",
       "      <td>0.766288</td>\n",
       "      <td>...</td>\n",
       "      <td>0.779907</td>\n",
       "      <td>0.014248</td>\n",
       "      <td>3</td>\n",
       "      <td>0.974664</td>\n",
       "      <td>0.975878</td>\n",
       "      <td>0.975543</td>\n",
       "      <td>0.975847</td>\n",
       "      <td>0.974644</td>\n",
       "      <td>0.975315</td>\n",
       "      <td>0.000553</td>\n",
       "    </tr>\n",
       "    <tr>\n",
       "      <th>7</th>\n",
       "      <td>4.699847</td>\n",
       "      <td>0.152817</td>\n",
       "      <td>0.075748</td>\n",
       "      <td>0.002606</td>\n",
       "      <td>15</td>\n",
       "      <td>sqrt</td>\n",
       "      <td>{'max_depth': 15, 'max_features': 'sqrt'}</td>\n",
       "      <td>0.789223</td>\n",
       "      <td>0.795596</td>\n",
       "      <td>0.766288</td>\n",
       "      <td>...</td>\n",
       "      <td>0.779907</td>\n",
       "      <td>0.014248</td>\n",
       "      <td>3</td>\n",
       "      <td>0.974664</td>\n",
       "      <td>0.975878</td>\n",
       "      <td>0.975543</td>\n",
       "      <td>0.975847</td>\n",
       "      <td>0.974644</td>\n",
       "      <td>0.975315</td>\n",
       "      <td>0.000553</td>\n",
       "    </tr>\n",
       "  </tbody>\n",
       "</table>\n",
       "<p>8 rows × 22 columns</p>\n",
       "</div>"
      ],
      "text/plain": [
       "   mean_fit_time  std_fit_time  mean_score_time  std_score_time  \\\n",
       "0       0.936229      0.013790         0.033539        0.003046   \n",
       "1       0.904064      0.020556         0.030805        0.002166   \n",
       "2       1.560012      0.026929         0.035523        0.002155   \n",
       "3       1.588011      0.015391         0.034710        0.000457   \n",
       "4       2.887103      0.025046         0.049465        0.001958   \n",
       "5       2.872741      0.067820         0.054285        0.006077   \n",
       "6       4.944217      0.064419         0.076544        0.003426   \n",
       "7       4.699847      0.152817         0.075748        0.002606   \n",
       "\n",
       "  param_max_depth param_max_features  \\\n",
       "0               2               auto   \n",
       "1               2               sqrt   \n",
       "2               4               auto   \n",
       "3               4               sqrt   \n",
       "4               8               auto   \n",
       "5               8               sqrt   \n",
       "6              15               auto   \n",
       "7              15               sqrt   \n",
       "\n",
       "                                      params  split0_test_score  \\\n",
       "0   {'max_depth': 2, 'max_features': 'auto'}           0.785047   \n",
       "1   {'max_depth': 2, 'max_features': 'sqrt'}           0.785047   \n",
       "2   {'max_depth': 4, 'max_features': 'auto'}           0.787020   \n",
       "3   {'max_depth': 4, 'max_features': 'sqrt'}           0.787020   \n",
       "4   {'max_depth': 8, 'max_features': 'auto'}           0.793212   \n",
       "5   {'max_depth': 8, 'max_features': 'sqrt'}           0.793212   \n",
       "6  {'max_depth': 15, 'max_features': 'auto'}           0.789223   \n",
       "7  {'max_depth': 15, 'max_features': 'sqrt'}           0.789223   \n",
       "\n",
       "   split1_test_score  split2_test_score  ...  mean_test_score  std_test_score  \\\n",
       "0           0.781114           0.756124  ...         0.769430        0.016672   \n",
       "1           0.781114           0.756124  ...         0.769430        0.016672   \n",
       "2           0.787569           0.761032  ...         0.774169        0.016250   \n",
       "3           0.787569           0.761032  ...         0.774169        0.016250   \n",
       "4           0.794749           0.766462  ...         0.780748        0.015534   \n",
       "5           0.794749           0.766462  ...         0.780748        0.015534   \n",
       "6           0.795596           0.766288  ...         0.779907        0.014248   \n",
       "7           0.795596           0.766288  ...         0.779907        0.014248   \n",
       "\n",
       "   rank_test_score  split0_train_score  split1_train_score  \\\n",
       "0                7            0.771513            0.768053   \n",
       "1                7            0.771513            0.768053   \n",
       "2                5            0.778370            0.777638   \n",
       "3                5            0.778370            0.777638   \n",
       "4                1            0.825088            0.829276   \n",
       "5                1            0.825088            0.829276   \n",
       "6                3            0.974664            0.975878   \n",
       "7                3            0.974664            0.975878   \n",
       "\n",
       "   split2_train_score  split3_train_score  split4_train_score  \\\n",
       "0            0.775149            0.777181            0.771317   \n",
       "1            0.775149            0.777181            0.771317   \n",
       "2            0.784004            0.786128            0.779058   \n",
       "3            0.784004            0.786128            0.779058   \n",
       "4            0.832937            0.835633            0.828782   \n",
       "5            0.832937            0.835633            0.828782   \n",
       "6            0.975543            0.975847            0.974644   \n",
       "7            0.975543            0.975847            0.974644   \n",
       "\n",
       "   mean_train_score  std_train_score  \n",
       "0          0.772643         0.003193  \n",
       "1          0.772643         0.003193  \n",
       "2          0.781040         0.003385  \n",
       "3          0.781040         0.003385  \n",
       "4          0.830343         0.003631  \n",
       "5          0.830343         0.003631  \n",
       "6          0.975315         0.000553  \n",
       "7          0.975315         0.000553  \n",
       "\n",
       "[8 rows x 22 columns]"
      ]
     },
     "execution_count": 51,
     "metadata": {},
     "output_type": "execute_result"
    }
   ],
   "source": [
    "# Read the cv_results property into a dataframe & print it out\n",
    "cv_results_df = pd.DataFrame(grid_rf_class.cv_results_)\n",
    "cv_results_df"
   ]
  },
  {
   "cell_type": "code",
   "execution_count": 52,
   "metadata": {
    "ExecuteTime": {
     "end_time": "2020-02-19T18:57:24.591606Z",
     "start_time": "2020-02-19T18:57:24.564647Z"
    }
   },
   "outputs": [
    {
     "data": {
      "text/html": [
       "<div>\n",
       "<style scoped>\n",
       "    .dataframe tbody tr th:only-of-type {\n",
       "        vertical-align: middle;\n",
       "    }\n",
       "\n",
       "    .dataframe tbody tr th {\n",
       "        vertical-align: top;\n",
       "    }\n",
       "\n",
       "    .dataframe thead th {\n",
       "        text-align: right;\n",
       "    }\n",
       "</style>\n",
       "<table border=\"1\" class=\"dataframe\">\n",
       "  <thead>\n",
       "    <tr style=\"text-align: right;\">\n",
       "      <th></th>\n",
       "      <th>params</th>\n",
       "    </tr>\n",
       "  </thead>\n",
       "  <tbody>\n",
       "    <tr>\n",
       "      <th>0</th>\n",
       "      <td>{'max_depth': 2, 'max_features': 'auto'}</td>\n",
       "    </tr>\n",
       "    <tr>\n",
       "      <th>1</th>\n",
       "      <td>{'max_depth': 2, 'max_features': 'sqrt'}</td>\n",
       "    </tr>\n",
       "    <tr>\n",
       "      <th>2</th>\n",
       "      <td>{'max_depth': 4, 'max_features': 'auto'}</td>\n",
       "    </tr>\n",
       "    <tr>\n",
       "      <th>3</th>\n",
       "      <td>{'max_depth': 4, 'max_features': 'sqrt'}</td>\n",
       "    </tr>\n",
       "    <tr>\n",
       "      <th>4</th>\n",
       "      <td>{'max_depth': 8, 'max_features': 'auto'}</td>\n",
       "    </tr>\n",
       "    <tr>\n",
       "      <th>5</th>\n",
       "      <td>{'max_depth': 8, 'max_features': 'sqrt'}</td>\n",
       "    </tr>\n",
       "    <tr>\n",
       "      <th>6</th>\n",
       "      <td>{'max_depth': 15, 'max_features': 'auto'}</td>\n",
       "    </tr>\n",
       "    <tr>\n",
       "      <th>7</th>\n",
       "      <td>{'max_depth': 15, 'max_features': 'sqrt'}</td>\n",
       "    </tr>\n",
       "  </tbody>\n",
       "</table>\n",
       "</div>"
      ],
      "text/plain": [
       "                                      params\n",
       "0   {'max_depth': 2, 'max_features': 'auto'}\n",
       "1   {'max_depth': 2, 'max_features': 'sqrt'}\n",
       "2   {'max_depth': 4, 'max_features': 'auto'}\n",
       "3   {'max_depth': 4, 'max_features': 'sqrt'}\n",
       "4   {'max_depth': 8, 'max_features': 'auto'}\n",
       "5   {'max_depth': 8, 'max_features': 'sqrt'}\n",
       "6  {'max_depth': 15, 'max_features': 'auto'}\n",
       "7  {'max_depth': 15, 'max_features': 'sqrt'}"
      ]
     },
     "execution_count": 52,
     "metadata": {},
     "output_type": "execute_result"
    }
   ],
   "source": [
    "# Extract and print the column with a dictionary of hyperparameters used\n",
    "column = cv_results_df.loc[:, [\"params\"]]\n",
    "column"
   ]
  },
  {
   "cell_type": "code",
   "execution_count": 53,
   "metadata": {
    "ExecuteTime": {
     "end_time": "2020-02-19T18:57:24.623487Z",
     "start_time": "2020-02-19T18:57:24.593569Z"
    }
   },
   "outputs": [
    {
     "data": {
      "text/html": [
       "<div>\n",
       "<style scoped>\n",
       "    .dataframe tbody tr th:only-of-type {\n",
       "        vertical-align: middle;\n",
       "    }\n",
       "\n",
       "    .dataframe tbody tr th {\n",
       "        vertical-align: top;\n",
       "    }\n",
       "\n",
       "    .dataframe thead th {\n",
       "        text-align: right;\n",
       "    }\n",
       "</style>\n",
       "<table border=\"1\" class=\"dataframe\">\n",
       "  <thead>\n",
       "    <tr style=\"text-align: right;\">\n",
       "      <th></th>\n",
       "      <th>mean_fit_time</th>\n",
       "      <th>std_fit_time</th>\n",
       "      <th>mean_score_time</th>\n",
       "      <th>std_score_time</th>\n",
       "      <th>param_max_depth</th>\n",
       "      <th>param_max_features</th>\n",
       "      <th>params</th>\n",
       "      <th>split0_test_score</th>\n",
       "      <th>split1_test_score</th>\n",
       "      <th>split2_test_score</th>\n",
       "      <th>...</th>\n",
       "      <th>mean_test_score</th>\n",
       "      <th>std_test_score</th>\n",
       "      <th>rank_test_score</th>\n",
       "      <th>split0_train_score</th>\n",
       "      <th>split1_train_score</th>\n",
       "      <th>split2_train_score</th>\n",
       "      <th>split3_train_score</th>\n",
       "      <th>split4_train_score</th>\n",
       "      <th>mean_train_score</th>\n",
       "      <th>std_train_score</th>\n",
       "    </tr>\n",
       "  </thead>\n",
       "  <tbody>\n",
       "    <tr>\n",
       "      <th>4</th>\n",
       "      <td>2.887103</td>\n",
       "      <td>0.025046</td>\n",
       "      <td>0.049465</td>\n",
       "      <td>0.001958</td>\n",
       "      <td>8</td>\n",
       "      <td>auto</td>\n",
       "      <td>{'max_depth': 8, 'max_features': 'auto'}</td>\n",
       "      <td>0.793212</td>\n",
       "      <td>0.794749</td>\n",
       "      <td>0.766462</td>\n",
       "      <td>...</td>\n",
       "      <td>0.780748</td>\n",
       "      <td>0.015534</td>\n",
       "      <td>1</td>\n",
       "      <td>0.825088</td>\n",
       "      <td>0.829276</td>\n",
       "      <td>0.832937</td>\n",
       "      <td>0.835633</td>\n",
       "      <td>0.828782</td>\n",
       "      <td>0.830343</td>\n",
       "      <td>0.003631</td>\n",
       "    </tr>\n",
       "    <tr>\n",
       "      <th>5</th>\n",
       "      <td>2.872741</td>\n",
       "      <td>0.067820</td>\n",
       "      <td>0.054285</td>\n",
       "      <td>0.006077</td>\n",
       "      <td>8</td>\n",
       "      <td>sqrt</td>\n",
       "      <td>{'max_depth': 8, 'max_features': 'sqrt'}</td>\n",
       "      <td>0.793212</td>\n",
       "      <td>0.794749</td>\n",
       "      <td>0.766462</td>\n",
       "      <td>...</td>\n",
       "      <td>0.780748</td>\n",
       "      <td>0.015534</td>\n",
       "      <td>1</td>\n",
       "      <td>0.825088</td>\n",
       "      <td>0.829276</td>\n",
       "      <td>0.832937</td>\n",
       "      <td>0.835633</td>\n",
       "      <td>0.828782</td>\n",
       "      <td>0.830343</td>\n",
       "      <td>0.003631</td>\n",
       "    </tr>\n",
       "  </tbody>\n",
       "</table>\n",
       "<p>2 rows × 22 columns</p>\n",
       "</div>"
      ],
      "text/plain": [
       "   mean_fit_time  std_fit_time  mean_score_time  std_score_time  \\\n",
       "4       2.887103      0.025046         0.049465        0.001958   \n",
       "5       2.872741      0.067820         0.054285        0.006077   \n",
       "\n",
       "  param_max_depth param_max_features  \\\n",
       "4               8               auto   \n",
       "5               8               sqrt   \n",
       "\n",
       "                                     params  split0_test_score  \\\n",
       "4  {'max_depth': 8, 'max_features': 'auto'}           0.793212   \n",
       "5  {'max_depth': 8, 'max_features': 'sqrt'}           0.793212   \n",
       "\n",
       "   split1_test_score  split2_test_score  ...  mean_test_score  std_test_score  \\\n",
       "4           0.794749           0.766462  ...         0.780748        0.015534   \n",
       "5           0.794749           0.766462  ...         0.780748        0.015534   \n",
       "\n",
       "   rank_test_score  split0_train_score  split1_train_score  \\\n",
       "4                1            0.825088            0.829276   \n",
       "5                1            0.825088            0.829276   \n",
       "\n",
       "   split2_train_score  split3_train_score  split4_train_score  \\\n",
       "4            0.832937            0.835633            0.828782   \n",
       "5            0.832937            0.835633            0.828782   \n",
       "\n",
       "   mean_train_score  std_train_score  \n",
       "4          0.830343         0.003631  \n",
       "5          0.830343         0.003631  \n",
       "\n",
       "[2 rows x 22 columns]"
      ]
     },
     "execution_count": 53,
     "metadata": {},
     "output_type": "execute_result"
    }
   ],
   "source": [
    "# Extract and print the row that had the best mean test score\n",
    "best_row = cv_results_df[cv_results_df[\"rank_test_score\"] == 1]\n",
    "best_row"
   ]
  },
  {
   "cell_type": "markdown",
   "metadata": {},
   "source": [
    "### Analyzing the best results"
   ]
  },
  {
   "cell_type": "markdown",
   "metadata": {},
   "source": [
    "At the end of the day, we primarily care about the best performing 'square' in a grid search. Luckily Scikit Learn's `gridSearchCV` objects have a number of parameters that provide key information on just the best square (or row in `cv_results_`)."
   ]
  },
  {
   "cell_type": "markdown",
   "metadata": {},
   "source": [
    "Three properties you will explore are:\n",
    "\n",
    "* `best_score_` – The score (here ROC_AUC) from the best-performing square.\n",
    "* `best_index_` – The index of the row in `cv_results_` containing information on the best-performing square.\n",
    "* `best_params_` – A dictionary of the parameters that gave the best score, for example `'max_depth': 10`"
   ]
  },
  {
   "cell_type": "code",
   "execution_count": 54,
   "metadata": {
    "ExecuteTime": {
     "end_time": "2020-02-19T18:57:24.638448Z",
     "start_time": "2020-02-19T18:57:24.625504Z"
    }
   },
   "outputs": [
    {
     "data": {
      "text/plain": [
       "0.7807478974147012"
      ]
     },
     "execution_count": 54,
     "metadata": {},
     "output_type": "execute_result"
    }
   ],
   "source": [
    "# Print out the ROC_AUC score from the best-performing square\n",
    "best_score = grid_rf_class.best_score_\n",
    "best_score"
   ]
  },
  {
   "cell_type": "code",
   "execution_count": 55,
   "metadata": {
    "ExecuteTime": {
     "end_time": "2020-02-19T18:57:24.668368Z",
     "start_time": "2020-02-19T18:57:24.641452Z"
    }
   },
   "outputs": [
    {
     "data": {
      "text/html": [
       "<div>\n",
       "<style scoped>\n",
       "    .dataframe tbody tr th:only-of-type {\n",
       "        vertical-align: middle;\n",
       "    }\n",
       "\n",
       "    .dataframe tbody tr th {\n",
       "        vertical-align: top;\n",
       "    }\n",
       "\n",
       "    .dataframe thead th {\n",
       "        text-align: right;\n",
       "    }\n",
       "</style>\n",
       "<table border=\"1\" class=\"dataframe\">\n",
       "  <thead>\n",
       "    <tr style=\"text-align: right;\">\n",
       "      <th></th>\n",
       "      <th>mean_fit_time</th>\n",
       "      <th>std_fit_time</th>\n",
       "      <th>mean_score_time</th>\n",
       "      <th>std_score_time</th>\n",
       "      <th>param_max_depth</th>\n",
       "      <th>param_max_features</th>\n",
       "      <th>params</th>\n",
       "      <th>split0_test_score</th>\n",
       "      <th>split1_test_score</th>\n",
       "      <th>split2_test_score</th>\n",
       "      <th>...</th>\n",
       "      <th>mean_test_score</th>\n",
       "      <th>std_test_score</th>\n",
       "      <th>rank_test_score</th>\n",
       "      <th>split0_train_score</th>\n",
       "      <th>split1_train_score</th>\n",
       "      <th>split2_train_score</th>\n",
       "      <th>split3_train_score</th>\n",
       "      <th>split4_train_score</th>\n",
       "      <th>mean_train_score</th>\n",
       "      <th>std_train_score</th>\n",
       "    </tr>\n",
       "  </thead>\n",
       "  <tbody>\n",
       "    <tr>\n",
       "      <th>4</th>\n",
       "      <td>2.887103</td>\n",
       "      <td>0.025046</td>\n",
       "      <td>0.049465</td>\n",
       "      <td>0.001958</td>\n",
       "      <td>8</td>\n",
       "      <td>auto</td>\n",
       "      <td>{'max_depth': 8, 'max_features': 'auto'}</td>\n",
       "      <td>0.793212</td>\n",
       "      <td>0.794749</td>\n",
       "      <td>0.766462</td>\n",
       "      <td>...</td>\n",
       "      <td>0.780748</td>\n",
       "      <td>0.015534</td>\n",
       "      <td>1</td>\n",
       "      <td>0.825088</td>\n",
       "      <td>0.829276</td>\n",
       "      <td>0.832937</td>\n",
       "      <td>0.835633</td>\n",
       "      <td>0.828782</td>\n",
       "      <td>0.830343</td>\n",
       "      <td>0.003631</td>\n",
       "    </tr>\n",
       "  </tbody>\n",
       "</table>\n",
       "<p>1 rows × 22 columns</p>\n",
       "</div>"
      ],
      "text/plain": [
       "   mean_fit_time  std_fit_time  mean_score_time  std_score_time  \\\n",
       "4       2.887103      0.025046         0.049465        0.001958   \n",
       "\n",
       "  param_max_depth param_max_features  \\\n",
       "4               8               auto   \n",
       "\n",
       "                                     params  split0_test_score  \\\n",
       "4  {'max_depth': 8, 'max_features': 'auto'}           0.793212   \n",
       "\n",
       "   split1_test_score  split2_test_score  ...  mean_test_score  std_test_score  \\\n",
       "4           0.794749           0.766462  ...         0.780748        0.015534   \n",
       "\n",
       "   rank_test_score  split0_train_score  split1_train_score  \\\n",
       "4                1            0.825088            0.829276   \n",
       "\n",
       "   split2_train_score  split3_train_score  split4_train_score  \\\n",
       "4            0.832937            0.835633            0.828782   \n",
       "\n",
       "   mean_train_score  std_train_score  \n",
       "4          0.830343         0.003631  \n",
       "\n",
       "[1 rows x 22 columns]"
      ]
     },
     "execution_count": 55,
     "metadata": {},
     "output_type": "execute_result"
    }
   ],
   "source": [
    "# Create a variable from the row related to the best-performing square\n",
    "cv_results_df = pd.DataFrame(grid_rf_class.cv_results_)\n",
    "best_row = cv_results_df.loc[[grid_rf_class.best_index_]]\n",
    "best_row"
   ]
  },
  {
   "cell_type": "code",
   "execution_count": 56,
   "metadata": {
    "ExecuteTime": {
     "end_time": "2020-02-19T18:57:24.683353Z",
     "start_time": "2020-02-19T18:57:24.670384Z"
    }
   },
   "outputs": [
    {
     "data": {
      "text/plain": [
       "8"
      ]
     },
     "execution_count": 56,
     "metadata": {},
     "output_type": "execute_result"
    }
   ],
   "source": [
    "# Get the max_depth parameter from the best-performing square\n",
    "best_max_depth = grid_rf_class.best_params_[\"max_depth\"]\n",
    "best_max_depth"
   ]
  },
  {
   "cell_type": "markdown",
   "metadata": {},
   "source": [
    "Nice stuff! Being able to quickly find and prioritize the huge volume of information given back from machine learning modeling output is a great skill. Here we had great practice doing that with `cv_results_` by quickly isolating the key information on the best performing square. This will be very important when our grids grow from 12 squares to many more!"
   ]
  },
  {
   "cell_type": "markdown",
   "metadata": {},
   "source": [
    "### Using the best results"
   ]
  },
  {
   "cell_type": "markdown",
   "metadata": {},
   "source": [
    "While it is interesting to analyze the results of our grid search, our final goal is practical in nature; we want to make predictions on our test set using our estimator object."
   ]
  },
  {
   "cell_type": "markdown",
   "metadata": {},
   "source": [
    "We can access this object through the `best_estimator_` property of our grid search object."
   ]
  },
  {
   "cell_type": "markdown",
   "metadata": {},
   "source": [
    "In this exercise we will take a look inside the `best_estimator_` property and then use this to make predictions on our test set for credit card defaults and generate a variety of scores. Remember that we need to use `predict_proba` rather than `predict` since we need probability values rather than class labels for our roc_auc score. We use a slice `[:,1]` to get probabilities of the positive class."
   ]
  },
  {
   "cell_type": "code",
   "execution_count": 57,
   "metadata": {
    "ExecuteTime": {
     "end_time": "2020-02-19T18:57:24.698289Z",
     "start_time": "2020-02-19T18:57:24.686352Z"
    }
   },
   "outputs": [
    {
     "data": {
      "text/plain": [
       "sklearn.ensemble._forest.RandomForestClassifier"
      ]
     },
     "execution_count": 57,
     "metadata": {},
     "output_type": "execute_result"
    }
   ],
   "source": [
    "# See what type of object the best_estimator_ property is\n",
    "type(grid_rf_class.best_estimator_)"
   ]
  },
  {
   "cell_type": "code",
   "execution_count": 58,
   "metadata": {
    "ExecuteTime": {
     "end_time": "2020-02-19T18:57:24.808031Z",
     "start_time": "2020-02-19T18:57:24.700283Z"
    }
   },
   "outputs": [],
   "source": [
    "# Create an array of predictions directly using the best_estimator_ property\n",
    "predictions = grid_rf_class.best_estimator_.predict(X_test)"
   ]
  },
  {
   "cell_type": "code",
   "execution_count": 59,
   "metadata": {
    "ExecuteTime": {
     "end_time": "2020-02-19T18:57:24.822979Z",
     "start_time": "2020-02-19T18:57:24.809989Z"
    }
   },
   "outputs": [
    {
     "data": {
      "text/plain": [
       "array([0, 0, 0, 1, 0], dtype=int64)"
      ]
     },
     "execution_count": 59,
     "metadata": {},
     "output_type": "execute_result"
    }
   ],
   "source": [
    "# Take a look to confirm it worked, this should be an array of 1's and 0's\n",
    "predictions[0:5]"
   ]
  },
  {
   "cell_type": "code",
   "execution_count": 60,
   "metadata": {
    "ExecuteTime": {
     "end_time": "2020-02-19T18:57:24.838913Z",
     "start_time": "2020-02-19T18:57:24.824950Z"
    }
   },
   "outputs": [
    {
     "name": "stdout",
     "output_type": "stream",
     "text": [
      "Confusion Matrix \n",
      " [[6657  352]\n",
      " [1297  694]]\n"
     ]
    }
   ],
   "source": [
    "# Now create a confusion matrix \n",
    "print(\"Confusion Matrix \\n\", confusion_matrix(y_test, predictions))"
   ]
  },
  {
   "cell_type": "code",
   "execution_count": 61,
   "metadata": {
    "ExecuteTime": {
     "end_time": "2020-02-19T18:57:24.948661Z",
     "start_time": "2020-02-19T18:57:24.839944Z"
    }
   },
   "outputs": [
    {
     "name": "stdout",
     "output_type": "stream",
     "text": [
      "ROC-AUC Score \n",
      " 0.7743063933226699\n"
     ]
    }
   ],
   "source": [
    "from sklearn.metrics import roc_auc_score\n",
    "\n",
    "# Get the ROC-AUC score\n",
    "predictions_proba = grid_rf_class.best_estimator_.predict_proba(X_test)[:,1]\n",
    "print(\"ROC-AUC Score \\n\", roc_auc_score(y_test, predictions_proba))"
   ]
  },
  {
   "cell_type": "markdown",
   "metadata": {},
   "source": [
    "Nice stuff! The `.best_estimator_` property is a really powerful property to understand for streamlining our machine learning model building process. We now can run a grid search and seamlessly use the best model from that search to make predictions. Piece of cake!"
   ]
  },
  {
   "cell_type": "markdown",
   "metadata": {},
   "source": [
    "# Random Search"
   ]
  },
  {
   "cell_type": "markdown",
   "metadata": {},
   "source": [
    "This chapter introduces another popular automated hyperparameter tuning methodology called Random Search. We will learn what it is, how it works and importantly how it differs from grid search. We will learn some advantages and disadvantages of this method and when to choose this method compared to Grid Search. We will practice undertaking a Random Search with Scikit Learn as well as visualizing & interpreting the output."
   ]
  },
  {
   "cell_type": "markdown",
   "metadata": {},
   "source": [
    "## Introducing Random Search"
   ]
  },
  {
   "cell_type": "markdown",
   "metadata": {},
   "source": [
    "### Randomly Sample Hyperparameters"
   ]
  },
  {
   "cell_type": "markdown",
   "metadata": {},
   "source": [
    "To undertake a random search, we firstly need to undertake a random sampling of our hyperparameter space."
   ]
  },
  {
   "cell_type": "markdown",
   "metadata": {},
   "source": [
    "In this example, we will firstly create some lists of hyperparameters that can be zipped up to a list of lists. Then we will randomly sample hyperparameter combinations preparation for running a random search."
   ]
  },
  {
   "cell_type": "markdown",
   "metadata": {},
   "source": [
    "We will use just the hyperparameters `learning_rate` and `min_samples_leaf` of the GBM algorithm to keep the example illustrative and not overly complicated."
   ]
  },
  {
   "cell_type": "code",
   "execution_count": 62,
   "metadata": {
    "ExecuteTime": {
     "end_time": "2020-02-19T18:57:24.964575Z",
     "start_time": "2020-02-19T18:57:24.950612Z"
    }
   },
   "outputs": [],
   "source": [
    "# Create a list of values for the learning_rate hyperparameter\n",
    "learn_rate_list = list(np.linspace(0.01,1.5,200))"
   ]
  },
  {
   "cell_type": "code",
   "execution_count": 63,
   "metadata": {
    "ExecuteTime": {
     "end_time": "2020-02-19T18:57:24.980533Z",
     "start_time": "2020-02-19T18:57:24.966575Z"
    }
   },
   "outputs": [],
   "source": [
    "# Create a list of values for the min_samples_leaf hyperparameter\n",
    "min_samples_list = list(range(10,41))"
   ]
  },
  {
   "cell_type": "code",
   "execution_count": 64,
   "metadata": {
    "ExecuteTime": {
     "end_time": "2020-02-19T18:57:24.996523Z",
     "start_time": "2020-02-19T18:57:24.982529Z"
    }
   },
   "outputs": [],
   "source": [
    "# Combination list\n",
    "from itertools import product\n",
    "combinations_list = [list(x) for x in product(learn_rate_list, min_samples_list)]"
   ]
  },
  {
   "cell_type": "code",
   "execution_count": 65,
   "metadata": {
    "ExecuteTime": {
     "end_time": "2020-02-19T18:57:25.012448Z",
     "start_time": "2020-02-19T18:57:24.998485Z"
    }
   },
   "outputs": [],
   "source": [
    "# Sample hyperparameter combinations for a random search.\n",
    "random_combinations_index = np.random.choice(range(0, len(combinations_list)), 250, replace=False)\n",
    "combinations_random_chosen = [combinations_list[x] for x in random_combinations_index]"
   ]
  },
  {
   "cell_type": "code",
   "execution_count": 66,
   "metadata": {
    "ExecuteTime": {
     "end_time": "2020-02-19T18:57:25.043365Z",
     "start_time": "2020-02-19T18:57:25.014443Z"
    }
   },
   "outputs": [
    {
     "data": {
      "text/plain": [
       "[[0.01, 21],\n",
       " [1.5, 15],\n",
       " [0.21964824120603016, 37],\n",
       " [0.017487437185929648, 26],\n",
       " [0.09236180904522612, 12],\n",
       " [0.4966834170854271, 27],\n",
       " [0.2271356783919598, 32],\n",
       " [0.3918592964824121, 20],\n",
       " [1.013316582914573, 35],\n",
       " [1.0582412060301507, 32],\n",
       " [1.372713567839196, 13],\n",
       " [1.4700502512562814, 39],\n",
       " [1.2379396984924622, 25],\n",
       " [1.0881909547738693, 38],\n",
       " [0.796180904522613, 13],\n",
       " [0.8860301507537688, 39],\n",
       " [0.7287939698492463, 10],\n",
       " [0.668894472361809, 13],\n",
       " [1.3802010050251257, 30],\n",
       " [0.3394472361809045, 13],\n",
       " [1.1256281407035176, 39],\n",
       " [0.2421105527638191, 32],\n",
       " [0.668894472361809, 23],\n",
       " [1.095678391959799, 17],\n",
       " [0.6614070351758794, 20],\n",
       " [1.4925125628140703, 11],\n",
       " [0.26457286432160804, 14],\n",
       " [0.3993467336683417, 11],\n",
       " [0.3244723618090452, 26],\n",
       " [0.4966834170854271, 34],\n",
       " [0.15974874371859296, 24],\n",
       " [0.024974874371859294, 32],\n",
       " [0.7138190954773869, 17],\n",
       " [1.372713567839196, 36],\n",
       " [0.13728643216080402, 23],\n",
       " [1.0432663316582915, 13],\n",
       " [1.1480904522613065, 26],\n",
       " [0.691356783919598, 30],\n",
       " [0.5790452261306532, 33],\n",
       " [0.6614070351758794, 23],\n",
       " [1.2828643216080402, 20],\n",
       " [0.6164824120603015, 19],\n",
       " [0.14477386934673367, 37],\n",
       " [0.6763819095477387, 33],\n",
       " [0.7662311557788944, 13],\n",
       " [0.06241206030150754, 38],\n",
       " [0.796180904522613, 30],\n",
       " [0.5565829145728644, 37],\n",
       " [0.8935175879396985, 14],\n",
       " [0.3768844221105528, 23],\n",
       " [1.3352763819095477, 12],\n",
       " [0.6763819095477387, 26],\n",
       " [0.21964824120603016, 30],\n",
       " [0.8036683417085427, 23],\n",
       " [0.3544221105527638, 12],\n",
       " [1.3427638190954774, 10],\n",
       " [1.1480904522613065, 35],\n",
       " [1.0282914572864321, 28],\n",
       " [0.5940201005025125, 21],\n",
       " [0.04743718592964824, 10],\n",
       " [0.7886934673366834, 32],\n",
       " [0.5490954773869346, 27],\n",
       " [0.5640703517587939, 11],\n",
       " [1.4026633165829145, 17],\n",
       " [0.27954773869346733, 23],\n",
       " [0.30201005025125627, 19],\n",
       " [1.0282914572864321, 31],\n",
       " [1.1106532663316582, 21],\n",
       " [0.06241206030150754, 34],\n",
       " [0.024974874371859294, 16],\n",
       " [0.5041708542713568, 30],\n",
       " [0.5116582914572865, 10],\n",
       " [0.10733668341708542, 33],\n",
       " [0.9758793969849247, 40],\n",
       " [0.5416080402010051, 37],\n",
       " [1.4176381909547737, 26],\n",
       " [0.691356783919598, 12],\n",
       " [0.287035175879397, 35],\n",
       " [0.07738693467336683, 24],\n",
       " [0.024974874371859294, 10],\n",
       " [0.34693467336683415, 13],\n",
       " [0.2271356783919598, 11],\n",
       " [0.7512562814070352, 39],\n",
       " [0.5041708542713568, 16],\n",
       " [0.7812060301507537, 36],\n",
       " [0.42180904522613066, 23],\n",
       " [1.0881909547738693, 10],\n",
       " [1.200502512562814, 37],\n",
       " [0.03246231155778895, 35],\n",
       " [0.9534170854271357, 29],\n",
       " [0.2271356783919598, 14],\n",
       " [0.8860301507537688, 20],\n",
       " [0.9309547738693467, 12],\n",
       " [1.2304522613065327, 35],\n",
       " [1.07321608040201, 40],\n",
       " [0.19718592964824122, 24],\n",
       " [0.13728643216080402, 24],\n",
       " [0.05492462311557789, 38],\n",
       " [0.5865326633165829, 31],\n",
       " [0.21964824120603016, 20],\n",
       " [0.21964824120603016, 16],\n",
       " [0.6164824120603015, 38],\n",
       " [1.327788944723618, 30],\n",
       " [0.7662311557788944, 38],\n",
       " [0.7063316582914573, 16],\n",
       " [1.2978391959798994, 15],\n",
       " [0.4742211055276382, 23],\n",
       " [1.4326130653266331, 24],\n",
       " [0.03246231155778895, 18],\n",
       " [1.2604020100502513, 37],\n",
       " [0.24959798994974874, 14],\n",
       " [0.968391959798995, 33],\n",
       " [0.11482412060301507, 38],\n",
       " [0.8111557788944723, 20],\n",
       " [0.2570854271356784, 29],\n",
       " [1.178040201005025, 10],\n",
       " [0.945929648241206, 20],\n",
       " [0.5640703517587939, 25],\n",
       " [1.4176381909547737, 37],\n",
       " [0.8710552763819095, 12],\n",
       " [1.2604020100502513, 27],\n",
       " [1.4251256281407034, 29],\n",
       " [1.1930150753768844, 27],\n",
       " [0.11482412060301507, 22],\n",
       " [0.43678391959798996, 27],\n",
       " [1.1930150753768844, 14],\n",
       " [0.9084924623115578, 10],\n",
       " [0.8111557788944723, 16],\n",
       " [1.1031658291457287, 35],\n",
       " [1.07321608040201, 27],\n",
       " [0.48170854271356783, 36],\n",
       " [0.6988442211055276, 27],\n",
       " [0.18969849246231157, 40],\n",
       " [0.8336180904522613, 25],\n",
       " [1.3951758793969848, 40],\n",
       " [0.6164824120603015, 21],\n",
       " [1.3876884422110551, 34],\n",
       " [0.6614070351758794, 30],\n",
       " [1.0657286432160804, 17],\n",
       " [0.27954773869346733, 21],\n",
       " [0.9084924623115578, 26],\n",
       " [1.013316582914573, 14],\n",
       " [0.01, 35],\n",
       " [0.9983417085427135, 26],\n",
       " [0.9833668341708542, 17],\n",
       " [0.2720603015075377, 13],\n",
       " [1.5, 38],\n",
       " [0.3918592964824121, 27],\n",
       " [0.6389447236180904, 24],\n",
       " [1.0807035175879396, 26],\n",
       " [0.26457286432160804, 37],\n",
       " [0.5490954773869346, 18],\n",
       " [0.287035175879397, 37],\n",
       " [1.3352763819095477, 39],\n",
       " [0.34693467336683415, 10],\n",
       " [0.9309547738693467, 38],\n",
       " [0.3918592964824121, 37],\n",
       " [0.7287939698492463, 31],\n",
       " [0.8560804020100502, 28],\n",
       " [0.9159798994974874, 24],\n",
       " [1.1256281407035176, 40],\n",
       " [1.4475879396984925, 16],\n",
       " [1.0058291457286432, 28],\n",
       " [0.27954773869346733, 15],\n",
       " [1.095678391959799, 18],\n",
       " [0.5116582914572865, 11],\n",
       " [1.1106532663316582, 37],\n",
       " [0.04743718592964824, 35],\n",
       " [0.06241206030150754, 11],\n",
       " [0.08487437185929647, 29],\n",
       " [0.05492462311557789, 27],\n",
       " [0.38437185929648243, 14],\n",
       " [0.23462311557788945, 31],\n",
       " [1.3128140703517588, 25],\n",
       " [0.4742211055276382, 36],\n",
       " [1.4101507537688442, 15],\n",
       " [0.20467336683417087, 36],\n",
       " [0.4592462311557789, 11],\n",
       " [1.455075376884422, 34],\n",
       " [0.7063316582914573, 37],\n",
       " [0.36190954773869344, 16],\n",
       " [1.245427135678392, 37],\n",
       " [0.7812060301507537, 17],\n",
       " [0.5341206030150754, 18],\n",
       " [1.3352763819095477, 17],\n",
       " [1.4475879396984925, 21],\n",
       " [0.2945226130653266, 20],\n",
       " [0.07738693467336683, 30],\n",
       " [1.0582412060301507, 19],\n",
       " [0.968391959798995, 27],\n",
       " [0.13728643216080402, 16],\n",
       " [1.0432663316582915, 11],\n",
       " [0.7437688442211056, 20],\n",
       " [1.0657286432160804, 20],\n",
       " [0.2121608040201005, 30],\n",
       " [1.1855276381909547, 12],\n",
       " [0.33195979899497485, 30],\n",
       " [0.4891959798994975, 11],\n",
       " [1.3652261306532663, 22],\n",
       " [0.4592462311557789, 12],\n",
       " [0.45175879396984925, 17],\n",
       " [1.0357788944723618, 19],\n",
       " [0.26457286432160804, 18],\n",
       " [1.3352763819095477, 16],\n",
       " [1.4176381909547737, 31],\n",
       " [0.9609045226130652, 38],\n",
       " [1.2154773869346733, 14],\n",
       " [0.414321608040201, 25],\n",
       " [0.9010050251256281, 33],\n",
       " [1.095678391959799, 29],\n",
       " [0.4891959798994975, 12],\n",
       " [0.36939698492462314, 23],\n",
       " [0.668894472361809, 35],\n",
       " [1.3951758793969848, 16],\n",
       " [1.1406030150753768, 11],\n",
       " [0.8261306532663316, 40],\n",
       " [0.5191457286432161, 25],\n",
       " [0.7213065326633166, 14],\n",
       " [0.7512562814070352, 16],\n",
       " [0.43678391959798996, 24],\n",
       " [0.34693467336683415, 12],\n",
       " [1.3203015075376885, 23],\n",
       " [0.17472361809045225, 14],\n",
       " [0.19718592964824122, 39],\n",
       " [1.29035175879397, 36],\n",
       " [0.1672361809045226, 38],\n",
       " [1.245427135678392, 22],\n",
       " [0.9534170854271357, 25],\n",
       " [1.372713567839196, 16],\n",
       " [0.7138190954773869, 23],\n",
       " [0.9084924623115578, 36],\n",
       " [0.2121608040201005, 27],\n",
       " [0.2421105527638191, 34],\n",
       " [1.013316582914573, 23],\n",
       " [1.013316582914573, 40],\n",
       " [0.668894472361809, 27],\n",
       " [1.4401005025125628, 37],\n",
       " [0.12979899497487438, 12],\n",
       " [0.05492462311557789, 16],\n",
       " [0.9084924623115578, 34],\n",
       " [1.1331155778894473, 16],\n",
       " [0.6314572864321608, 19],\n",
       " [1.0582412060301507, 28],\n",
       " [0.691356783919598, 27],\n",
       " [0.9309547738693467, 39],\n",
       " [0.08487437185929647, 19],\n",
       " [1.4775376884422111, 14],\n",
       " [1.1855276381909547, 28],\n",
       " [1.3352763819095477, 13],\n",
       " [1.2753768844221105, 35]]"
      ]
     },
     "execution_count": 66,
     "metadata": {},
     "output_type": "execute_result"
    }
   ],
   "source": [
    "# Print the result\n",
    "combinations_random_chosen"
   ]
  },
  {
   "cell_type": "markdown",
   "metadata": {},
   "source": [
    "Excellent! We generated some hyperparameter combinations and randomly sampled in that space. The output was not too nice though, in the next example we will use a much more efficient method for this. In a future example we will also make this output look much nicer!"
   ]
  },
  {
   "cell_type": "markdown",
   "metadata": {},
   "source": [
    "### Randomly Search with Random Forest"
   ]
  },
  {
   "cell_type": "markdown",
   "metadata": {},
   "source": [
    "To solidify our knowledge of random sampling, let's try a similar exercise but using different hyperparameters and a different algorithm."
   ]
  },
  {
   "cell_type": "markdown",
   "metadata": {},
   "source": [
    "As before, we create some lists of hyperparameters that can be zipped up to a list of lists. We will use the hyperparameters `criterion`, `max_depth` and `max_features` of the random forest algorithm. Then we will randomly sample hyperparameter combinations in preparation for running a random search."
   ]
  },
  {
   "cell_type": "markdown",
   "metadata": {},
   "source": [
    "We will use a slightly different package for sampling in this task, `random.sample()`."
   ]
  },
  {
   "cell_type": "code",
   "execution_count": 67,
   "metadata": {
    "ExecuteTime": {
     "end_time": "2020-02-19T18:57:25.059347Z",
     "start_time": "2020-02-19T18:57:25.051367Z"
    }
   },
   "outputs": [],
   "source": [
    "# Create lists for criterion and max_features\n",
    "criterion_list = [\"gini\", \"entropy\"]\n",
    "max_feature_list = [\"auto\", \"sqrt\", \"log2\", None]"
   ]
  },
  {
   "cell_type": "code",
   "execution_count": 68,
   "metadata": {
    "ExecuteTime": {
     "end_time": "2020-02-19T18:57:25.074281Z",
     "start_time": "2020-02-19T18:57:25.064308Z"
    }
   },
   "outputs": [],
   "source": [
    "# Create a list of values for the max_depth hyperparameter\n",
    "max_depth_list = list(range(3,56))"
   ]
  },
  {
   "cell_type": "code",
   "execution_count": 69,
   "metadata": {
    "ExecuteTime": {
     "end_time": "2020-02-19T18:57:25.089274Z",
     "start_time": "2020-02-19T18:57:25.075279Z"
    }
   },
   "outputs": [],
   "source": [
    "# Combination list\n",
    "combinations_list = [list(x) for x in product(criterion_list, max_feature_list, max_depth_list)]"
   ]
  },
  {
   "cell_type": "code",
   "execution_count": 70,
   "metadata": {
    "ExecuteTime": {
     "end_time": "2020-02-19T18:57:25.104202Z",
     "start_time": "2020-02-19T18:57:25.091237Z"
    }
   },
   "outputs": [],
   "source": [
    "import random\n",
    "\n",
    "# Sample hyperparameter combinations for a random search\n",
    "combinations_random_chosen = random.sample(combinations_list, 150)"
   ]
  },
  {
   "cell_type": "code",
   "execution_count": 71,
   "metadata": {
    "ExecuteTime": {
     "end_time": "2020-02-19T18:57:25.119171Z",
     "start_time": "2020-02-19T18:57:25.106198Z"
    }
   },
   "outputs": [
    {
     "data": {
      "text/plain": [
       "[['gini', 'sqrt', 23],\n",
       " ['gini', None, 39],\n",
       " ['gini', 'sqrt', 52],\n",
       " ['entropy', 'auto', 23],\n",
       " ['gini', 'auto', 20],\n",
       " ['gini', 'log2', 25],\n",
       " ['gini', None, 32],\n",
       " ['gini', None, 40],\n",
       " ['entropy', None, 11],\n",
       " ['entropy', None, 7],\n",
       " ['entropy', 'sqrt', 36],\n",
       " ['entropy', 'auto', 37],\n",
       " ['entropy', 'sqrt', 52],\n",
       " ['gini', 'auto', 54],\n",
       " ['entropy', 'auto', 10],\n",
       " ['gini', 'sqrt', 4],\n",
       " ['entropy', 'log2', 49],\n",
       " ['entropy', 'sqrt', 18],\n",
       " ['entropy', 'log2', 22],\n",
       " ['entropy', 'log2', 5],\n",
       " ['gini', None, 51],\n",
       " ['gini', None, 17],\n",
       " ['gini', 'log2', 19],\n",
       " ['entropy', 'log2', 40],\n",
       " ['gini', 'log2', 43],\n",
       " ['gini', 'auto', 45],\n",
       " ['entropy', 'sqrt', 12],\n",
       " ['entropy', 'log2', 18],\n",
       " ['entropy', None, 31],\n",
       " ['entropy', 'sqrt', 11],\n",
       " ['entropy', 'log2', 11],\n",
       " ['entropy', None, 44],\n",
       " ['gini', 'auto', 33],\n",
       " ['entropy', None, 53],\n",
       " ['gini', 'log2', 33],\n",
       " ['gini', 'sqrt', 24],\n",
       " ['gini', None, 25],\n",
       " ['gini', 'log2', 6],\n",
       " ['gini', 'log2', 51],\n",
       " ['gini', None, 54],\n",
       " ['entropy', 'log2', 32],\n",
       " ['gini', 'auto', 49],\n",
       " ['entropy', 'auto', 34],\n",
       " ['gini', None, 16],\n",
       " ['gini', 'sqrt', 5],\n",
       " ['gini', 'log2', 3],\n",
       " ['gini', 'auto', 50],\n",
       " ['entropy', None, 51],\n",
       " ['entropy', 'auto', 40],\n",
       " ['entropy', 'log2', 33],\n",
       " ['entropy', None, 25],\n",
       " ['entropy', 'auto', 55],\n",
       " ['entropy', 'sqrt', 9],\n",
       " ['gini', 'auto', 29],\n",
       " ['entropy', None, 13],\n",
       " ['entropy', 'log2', 7],\n",
       " ['entropy', 'auto', 43],\n",
       " ['entropy', None, 23],\n",
       " ['entropy', None, 22],\n",
       " ['entropy', None, 46],\n",
       " ['gini', None, 46],\n",
       " ['entropy', None, 20],\n",
       " ['entropy', 'auto', 45],\n",
       " ['entropy', None, 39],\n",
       " ['entropy', None, 29],\n",
       " ['entropy', 'log2', 8],\n",
       " ['entropy', 'sqrt', 31],\n",
       " ['gini', 'sqrt', 8],\n",
       " ['entropy', 'log2', 3],\n",
       " ['entropy', 'auto', 18],\n",
       " ['entropy', 'sqrt', 51],\n",
       " ['entropy', 'log2', 24],\n",
       " ['entropy', 'log2', 35],\n",
       " ['gini', 'auto', 52],\n",
       " ['gini', 'sqrt', 50],\n",
       " ['entropy', 'auto', 4],\n",
       " ['entropy', 'sqrt', 40],\n",
       " ['gini', None, 13],\n",
       " ['entropy', None, 21],\n",
       " ['entropy', None, 28],\n",
       " ['entropy', 'sqrt', 39],\n",
       " ['gini', 'sqrt', 53],\n",
       " ['gini', None, 26],\n",
       " ['gini', 'sqrt', 34],\n",
       " ['entropy', 'log2', 26],\n",
       " ['entropy', 'auto', 33],\n",
       " ['entropy', 'log2', 15],\n",
       " ['entropy', 'sqrt', 29],\n",
       " ['entropy', None, 33],\n",
       " ['entropy', 'sqrt', 37],\n",
       " ['gini', None, 31],\n",
       " ['entropy', 'log2', 21],\n",
       " ['gini', None, 28],\n",
       " ['entropy', 'log2', 4],\n",
       " ['gini', 'auto', 7],\n",
       " ['entropy', 'auto', 5],\n",
       " ['entropy', 'log2', 46],\n",
       " ['gini', None, 19],\n",
       " ['gini', 'log2', 13],\n",
       " ['entropy', 'auto', 27],\n",
       " ['gini', 'auto', 17],\n",
       " ['gini', 'log2', 15],\n",
       " ['gini', 'sqrt', 33],\n",
       " ['gini', 'sqrt', 12],\n",
       " ['gini', 'auto', 44],\n",
       " ['gini', 'sqrt', 3],\n",
       " ['entropy', 'sqrt', 42],\n",
       " ['gini', 'log2', 39],\n",
       " ['gini', 'log2', 20],\n",
       " ['gini', 'sqrt', 48],\n",
       " ['gini', 'log2', 52],\n",
       " ['gini', 'sqrt', 20],\n",
       " ['entropy', 'sqrt', 34],\n",
       " ['entropy', None, 30],\n",
       " ['gini', 'log2', 34],\n",
       " ['gini', None, 53],\n",
       " ['entropy', None, 41],\n",
       " ['gini', None, 52],\n",
       " ['entropy', 'log2', 10],\n",
       " ['gini', 'log2', 16],\n",
       " ['entropy', None, 37],\n",
       " ['gini', 'auto', 53],\n",
       " ['entropy', None, 14],\n",
       " ['gini', 'auto', 32],\n",
       " ['gini', 'auto', 42],\n",
       " ['entropy', 'sqrt', 16],\n",
       " ['entropy', 'log2', 44],\n",
       " ['gini', 'sqrt', 42],\n",
       " ['entropy', 'auto', 50],\n",
       " ['entropy', 'auto', 25],\n",
       " ['gini', 'log2', 24],\n",
       " ['gini', 'auto', 23],\n",
       " ['gini', 'log2', 10],\n",
       " ['entropy', 'auto', 17],\n",
       " ['entropy', 'auto', 8],\n",
       " ['gini', None, 22],\n",
       " ['gini', 'log2', 49],\n",
       " ['entropy', 'log2', 50],\n",
       " ['entropy', None, 6],\n",
       " ['entropy', 'sqrt', 33],\n",
       " ['entropy', None, 55],\n",
       " ['gini', 'sqrt', 46],\n",
       " ['entropy', None, 15],\n",
       " ['entropy', 'sqrt', 21],\n",
       " ['entropy', 'log2', 14],\n",
       " ['gini', 'auto', 18],\n",
       " ['gini', 'sqrt', 47],\n",
       " ['entropy', 'sqrt', 15],\n",
       " ['gini', None, 44],\n",
       " ['gini', 'sqrt', 22]]"
      ]
     },
     "execution_count": 71,
     "metadata": {},
     "output_type": "execute_result"
    }
   ],
   "source": [
    "# Print the result\n",
    "combinations_random_chosen"
   ]
  },
  {
   "cell_type": "markdown",
   "metadata": {},
   "source": [
    "### Visualizing a Random Search"
   ]
  },
  {
   "cell_type": "markdown",
   "metadata": {},
   "source": [
    "Visualizing the search space of random search allows us to easily see the coverage of this technique and therefore allows us to see the effect of our sampling on the search space."
   ]
  },
  {
   "cell_type": "markdown",
   "metadata": {},
   "source": [
    "In this example we will use several different samples of hyperparameter combinations and produce visualizations of the search space."
   ]
  },
  {
   "cell_type": "code",
   "execution_count": 72,
   "metadata": {
    "ExecuteTime": {
     "end_time": "2020-02-19T18:57:25.135118Z",
     "start_time": "2020-02-19T18:57:25.121157Z"
    }
   },
   "outputs": [],
   "source": [
    "def sample_hyperparameters(n_samples):\n",
    "    global combinations_random_chosen\n",
    "\n",
    "    if n_samples == len(combinations_list):\n",
    "        combinations_random_chosen = combinations_list\n",
    "        return\n",
    "\n",
    "    combinations_random_chosen = []\n",
    "    random_combinations_index = np.random.choice(range(0, len(combinations_list)), n_samples, replace=False)\n",
    "    combinations_random_chosen = [combinations_list[x] for x in random_combinations_index]\n",
    "    return"
   ]
  },
  {
   "cell_type": "code",
   "execution_count": 73,
   "metadata": {
    "ExecuteTime": {
     "end_time": "2020-02-19T18:57:25.151104Z",
     "start_time": "2020-02-19T18:57:25.138133Z"
    }
   },
   "outputs": [],
   "source": [
    "def visualize_search():\n",
    "    rand_y, rand_x = [x[0] for x in combinations_random_chosen], [x[1] for x in combinations_random_chosen]\n",
    "\n",
    "    # Plot all together\n",
    "    plt.clf() \n",
    "    plt.scatter(rand_y, rand_x, c=['blue']*len(combinations_random_chosen))\n",
    "    plt.gca().set(xlabel='learn_rate', ylabel='min_samples_leaf', title='Random Search Hyperparameters')\n",
    "    plt.gca().set_xlim([0.01, 1.5])\n",
    "    plt.gca().set_ylim([10, 29])\n",
    "    plt.show()"
   ]
  },
  {
   "cell_type": "code",
   "execution_count": 74,
   "metadata": {
    "ExecuteTime": {
     "end_time": "2020-02-19T18:57:25.166044Z",
     "start_time": "2020-02-19T18:57:25.154070Z"
    }
   },
   "outputs": [],
   "source": [
    "# Create a list of values for the learning_rate hyperparameter\n",
    "learn_rate_list = list(np.linspace(0.01,1.5,200))"
   ]
  },
  {
   "cell_type": "code",
   "execution_count": 75,
   "metadata": {
    "ExecuteTime": {
     "end_time": "2020-02-19T18:57:25.181995Z",
     "start_time": "2020-02-19T18:57:25.169028Z"
    }
   },
   "outputs": [],
   "source": [
    "# Create a list of values for the min_samples_leaf hyperparameter\n",
    "min_samples_list = list(range(10,41))"
   ]
  },
  {
   "cell_type": "code",
   "execution_count": 76,
   "metadata": {
    "ExecuteTime": {
     "end_time": "2020-02-19T18:57:25.197021Z",
     "start_time": "2020-02-19T18:57:25.183989Z"
    }
   },
   "outputs": [],
   "source": [
    "# Combination list\n",
    "combinations_list = [list(x) for x in product(learn_rate_list, min_samples_list)]"
   ]
  },
  {
   "cell_type": "code",
   "execution_count": 77,
   "metadata": {
    "ExecuteTime": {
     "end_time": "2020-02-19T18:57:25.212910Z",
     "start_time": "2020-02-19T18:57:25.198950Z"
    }
   },
   "outputs": [
    {
     "data": {
      "text/plain": [
       "6200"
      ]
     },
     "execution_count": 77,
     "metadata": {},
     "output_type": "execute_result"
    }
   ],
   "source": [
    "# Confirm how hyperparameter combinations & print\n",
    "number_combs = len(combinations_list)\n",
    "number_combs"
   ]
  },
  {
   "cell_type": "code",
   "execution_count": 78,
   "metadata": {
    "ExecuteTime": {
     "end_time": "2020-02-19T18:57:26.235744Z",
     "start_time": "2020-02-19T18:57:25.214905Z"
    }
   },
   "outputs": [
    {
     "data": {
      "image/png": "[encoded data removed]",
      "text/plain": [
       "<Figure size 1440x720 with 1 Axes>"
      ]
     },
     "metadata": {
      "needs_background": "light"
     },
     "output_type": "display_data"
    },
    {
     "data": {
      "image/png": "[encoded data removed]",
      "text/plain": [
       "<Figure size 1440x720 with 1 Axes>"
      ]
     },
     "metadata": {
      "needs_background": "light"
     },
     "output_type": "display_data"
    },
    {
     "data": {
      "image/png": "[encoded data removed]",
      "text/plain": [
       "<Figure size 1440x720 with 1 Axes>"
      ]
     },
     "metadata": {
      "needs_background": "light"
     },
     "output_type": "display_data"
    }
   ],
   "source": [
    "# Sample and visualise combinations\n",
    "for x in [250, 1500, 5000]:\n",
    "    sample_hyperparameters(x)\n",
    "    visualize_search()"
   ]
  },
  {
   "cell_type": "markdown",
   "metadata": {},
   "source": [
    "Notice how the bigger our sample space of a random search the more it looks like a grid search? In a later example we will look closer at comparing these two methods side by side."
   ]
  },
  {
   "cell_type": "markdown",
   "metadata": {},
   "source": [
    "## Random Search in Scikit Learn"
   ]
  },
  {
   "cell_type": "markdown",
   "metadata": {},
   "source": [
    "### The RandomizedSeachCV Class"
   ]
  },
  {
   "cell_type": "markdown",
   "metadata": {},
   "source": [
    "Just like the `GridSearchCV` library from Scikit Learn, `RandomizedSearchCV` provides many useful features to assist with efficiently undertaking a random search. We're going to create a `RandomizedSearchCV` object, making the small adjustment needed from the `GridSearchCV` object."
   ]
  },
  {
   "cell_type": "markdown",
   "metadata": {},
   "source": [
    "The desired options are:\n",
    "\n",
    "* A default Gradient Boosting Classifier Estimator\n",
    "* 5-fold cross validation\n",
    "* Use accuracy to score the models\n",
    "* Use 4 cores for processing in parallel\n",
    "* Ensure you refit the best model and return training scores\n",
    "* Randomly sample 10 models"
   ]
  },
  {
   "cell_type": "markdown",
   "metadata": {},
   "source": [
    "The hyperparameter grid should be for `learning_rate` (150 values between 0.1 and 2) and `min_samples_leaf` (all values between 20 and 65)."
   ]
  },
  {
   "cell_type": "code",
   "execution_count": 79,
   "metadata": {
    "ExecuteTime": {
     "end_time": "2020-02-19T18:57:26.250704Z",
     "start_time": "2020-02-19T18:57:26.237740Z"
    }
   },
   "outputs": [],
   "source": [
    "# Create the parameter grid\n",
    "param_grid = {'learning_rate': np.linspace(0.1, 2, 150), 'min_samples_leaf': list(range(20, 65))} "
   ]
  },
  {
   "cell_type": "code",
   "execution_count": 80,
   "metadata": {
    "ExecuteTime": {
     "end_time": "2020-02-19T18:57:26.266685Z",
     "start_time": "2020-02-19T18:57:26.253695Z"
    }
   },
   "outputs": [],
   "source": [
    "from sklearn.model_selection import RandomizedSearchCV\n",
    "\n",
    "# Create a random search object\n",
    "random_GBM_class = RandomizedSearchCV(\n",
    "    estimator = GradientBoostingClassifier(random_state=42),\n",
    "    param_distributions = param_grid,\n",
    "    n_iter = 10,\n",
    "    scoring='accuracy', n_jobs=4, cv = 5, refit=True, return_train_score = True)"
   ]
  },
  {
   "cell_type": "code",
   "execution_count": 81,
   "metadata": {
    "ExecuteTime": {
     "end_time": "2020-02-19T18:58:53.916148Z",
     "start_time": "2020-02-19T18:57:26.268660Z"
    }
   },
   "outputs": [
    {
     "data": {
      "text/plain": [
       "RandomizedSearchCV(cv=5, error_score=nan,\n",
       "                   estimator=GradientBoostingClassifier(ccp_alpha=0.0,\n",
       "                                                        criterion='friedman_mse',\n",
       "                                                        init=None,\n",
       "                                                        learning_rate=0.1,\n",
       "                                                        loss='deviance',\n",
       "                                                        max_depth=3,\n",
       "                                                        max_features=None,\n",
       "                                                        max_leaf_nodes=None,\n",
       "                                                        min_impurity_decrease=0.0,\n",
       "                                                        min_impurity_split=None,\n",
       "                                                        min_samples_leaf=1,\n",
       "                                                        min_samples_split=2,\n",
       "                                                        min_weight_fraction_leaf=0.0,\n",
       "                                                        n_estimators=100,\n",
       "                                                        n_ite...\n",
       "       1.82147651, 1.83422819, 1.84697987, 1.85973154, 1.87248322,\n",
       "       1.8852349 , 1.89798658, 1.91073826, 1.92348993, 1.93624161,\n",
       "       1.94899329, 1.96174497, 1.97449664, 1.98724832, 2.        ]),\n",
       "                                        'min_samples_leaf': [20, 21, 22, 23, 24,\n",
       "                                                             25, 26, 27, 28, 29,\n",
       "                                                             30, 31, 32, 33, 34,\n",
       "                                                             35, 36, 37, 38, 39,\n",
       "                                                             40, 41, 42, 43, 44,\n",
       "                                                             45, 46, 47, 48, 49, ...]},\n",
       "                   pre_dispatch='2*n_jobs', random_state=None, refit=True,\n",
       "                   return_train_score=True, scoring='accuracy', verbose=0)"
      ]
     },
     "execution_count": 81,
     "metadata": {},
     "output_type": "execute_result"
    }
   ],
   "source": [
    "# Fit to the training data\n",
    "random_GBM_class.fit(X_train, y_train)"
   ]
  },
  {
   "cell_type": "code",
   "execution_count": 82,
   "metadata": {
    "ExecuteTime": {
     "end_time": "2020-02-19T18:58:53.931109Z",
     "start_time": "2020-02-19T18:58:53.918141Z"
    }
   },
   "outputs": [
    {
     "name": "stdout",
     "output_type": "stream",
     "text": [
      "[0.6228187919463087 1.5154362416107383 1.9617449664429532\n",
      " 1.7067114093959732 1.859731543624161 1.6046979865771813\n",
      " 0.6738255033557047 0.6610738255033557 1.7449664429530203\n",
      " 0.9161073825503355]\n",
      "[20 58 46 54 44 25 38 56 46 53]\n"
     ]
    }
   ],
   "source": [
    "# Print the values used for both hyperparameters\n",
    "print(random_GBM_class.cv_results_['param_learning_rate'])\n",
    "print(random_GBM_class.cv_results_['param_min_samples_leaf'])"
   ]
  },
  {
   "cell_type": "markdown",
   "metadata": {},
   "source": [
    "### RandomSearchCV in Scikit Learn"
   ]
  },
  {
   "cell_type": "markdown",
   "metadata": {},
   "source": [
    "Let's practice building a RandomizedSearchCV object using Scikit Learn."
   ]
  },
  {
   "cell_type": "markdown",
   "metadata": {},
   "source": [
    "The desired options are:\n",
    "\n",
    "* A RandomForestClassifier Estimator with default 80 estimators\n",
    "* 3-fold cross validation\n",
    "* Use AUC to score the models\n",
    "* Use 4 cores for processing in parallel\n",
    "* Ensure you refit the best model and return training scores\n",
    "* Randomly sample 5 models for processing efficiency"
   ]
  },
  {
   "cell_type": "markdown",
   "metadata": {},
   "source": [
    "The hyperparameter grid should be for `max_depth` (all values between and including 5 and 25) and `max_features` ('auto' and 'sqrt')."
   ]
  },
  {
   "cell_type": "code",
   "execution_count": 83,
   "metadata": {
    "ExecuteTime": {
     "end_time": "2020-02-19T18:58:53.946068Z",
     "start_time": "2020-02-19T18:58:53.935099Z"
    }
   },
   "outputs": [],
   "source": [
    "# Create the parameter grid\n",
    "param_grid = {'max_depth': list(range(5,26)), 'max_features': ['auto' , 'sqrt']} "
   ]
  },
  {
   "cell_type": "code",
   "execution_count": 84,
   "metadata": {
    "ExecuteTime": {
     "end_time": "2020-02-19T18:58:53.961029Z",
     "start_time": "2020-02-19T18:58:53.948064Z"
    }
   },
   "outputs": [],
   "source": [
    "# Create a random search object\n",
    "random_rf_class = RandomizedSearchCV(\n",
    "    estimator = RandomForestClassifier(n_estimators=80, random_state=42),\n",
    "    param_distributions = param_grid, n_iter = 5,\n",
    "    scoring='roc_auc', n_jobs=4, cv = 3, refit=True, return_train_score = True)"
   ]
  },
  {
   "cell_type": "code",
   "execution_count": 85,
   "metadata": {
    "ExecuteTime": {
     "end_time": "2020-02-19T18:59:07.407804Z",
     "start_time": "2020-02-19T18:58:53.963024Z"
    }
   },
   "outputs": [
    {
     "data": {
      "text/plain": [
       "RandomizedSearchCV(cv=3, error_score=nan,\n",
       "                   estimator=RandomForestClassifier(bootstrap=True,\n",
       "                                                    ccp_alpha=0.0,\n",
       "                                                    class_weight=None,\n",
       "                                                    criterion='gini',\n",
       "                                                    max_depth=None,\n",
       "                                                    max_features='auto',\n",
       "                                                    max_leaf_nodes=None,\n",
       "                                                    max_samples=None,\n",
       "                                                    min_impurity_decrease=0.0,\n",
       "                                                    min_impurity_split=None,\n",
       "                                                    min_samples_leaf=1,\n",
       "                                                    min_samples_split=2,\n",
       "                                                    min_weight_fraction_leaf=0.0,\n",
       "                                                    n_estimators=80,\n",
       "                                                    n_jobs=None,\n",
       "                                                    oob_score=False,\n",
       "                                                    random_state=42, verbose=0,\n",
       "                                                    warm_start=False),\n",
       "                   iid='deprecated', n_iter=5, n_jobs=4,\n",
       "                   param_distributions={'max_depth': [5, 6, 7, 8, 9, 10, 11, 12,\n",
       "                                                      13, 14, 15, 16, 17, 18,\n",
       "                                                      19, 20, 21, 22, 23, 24,\n",
       "                                                      25],\n",
       "                                        'max_features': ['auto', 'sqrt']},\n",
       "                   pre_dispatch='2*n_jobs', random_state=None, refit=True,\n",
       "                   return_train_score=True, scoring='roc_auc', verbose=0)"
      ]
     },
     "execution_count": 85,
     "metadata": {},
     "output_type": "execute_result"
    }
   ],
   "source": [
    "# Fit to the training data\n",
    "random_rf_class.fit(X_train, y_train)"
   ]
  },
  {
   "cell_type": "code",
   "execution_count": 86,
   "metadata": {
    "ExecuteTime": {
     "end_time": "2020-02-19T18:59:07.423278Z",
     "start_time": "2020-02-19T18:59:07.409795Z"
    }
   },
   "outputs": [
    {
     "name": "stdout",
     "output_type": "stream",
     "text": [
      "[18 22 9 24 17]\n",
      "['auto' 'sqrt' 'sqrt' 'sqrt' 'auto']\n"
     ]
    }
   ],
   "source": [
    "# Print the values used for both hyperparameters\n",
    "print(random_rf_class.cv_results_['param_max_depth'])\n",
    "print(random_rf_class.cv_results_['param_max_features'])"
   ]
  },
  {
   "cell_type": "markdown",
   "metadata": {},
   "source": [
    "## Comparing Grid and Random Search"
   ]
  },
  {
   "cell_type": "markdown",
   "metadata": {},
   "source": [
    "### Grid and Random Search Side by Side"
   ]
  },
  {
   "cell_type": "markdown",
   "metadata": {},
   "source": [
    "Visualizing the search space of random and grid search together allows us to easily see the coverage that each technique has and therefore brings to life their specific advantages and disadvantages."
   ]
  },
  {
   "cell_type": "markdown",
   "metadata": {},
   "source": [
    "In this example, we will sample hyperparameter combinations in a grid search way as well as a random search way, then plot these to see the difference."
   ]
  },
  {
   "cell_type": "code",
   "execution_count": 87,
   "metadata": {
    "ExecuteTime": {
     "end_time": "2020-02-19T18:59:07.439259Z",
     "start_time": "2020-02-19T18:59:07.426271Z"
    }
   },
   "outputs": [],
   "source": [
    "# Sample grid coordinates\n",
    "grid_combinations_chosen = combinations_list[0:300]"
   ]
  },
  {
   "cell_type": "code",
   "execution_count": 88,
   "metadata": {
    "ExecuteTime": {
     "end_time": "2020-02-19T18:59:07.471182Z",
     "start_time": "2020-02-19T18:59:07.442226Z"
    }
   },
   "outputs": [
    {
     "data": {
      "text/plain": [
       "[[0.01, 10],\n",
       " [0.01, 11],\n",
       " [0.01, 12],\n",
       " [0.01, 13],\n",
       " [0.01, 14],\n",
       " [0.01, 15],\n",
       " [0.01, 16],\n",
       " [0.01, 17],\n",
       " [0.01, 18],\n",
       " [0.01, 19],\n",
       " [0.01, 20],\n",
       " [0.01, 21],\n",
       " [0.01, 22],\n",
       " [0.01, 23],\n",
       " [0.01, 24],\n",
       " [0.01, 25],\n",
       " [0.01, 26],\n",
       " [0.01, 27],\n",
       " [0.01, 28],\n",
       " [0.01, 29],\n",
       " [0.01, 30],\n",
       " [0.01, 31],\n",
       " [0.01, 32],\n",
       " [0.01, 33],\n",
       " [0.01, 34],\n",
       " [0.01, 35],\n",
       " [0.01, 36],\n",
       " [0.01, 37],\n",
       " [0.01, 38],\n",
       " [0.01, 39],\n",
       " [0.01, 40],\n",
       " [0.017487437185929648, 10],\n",
       " [0.017487437185929648, 11],\n",
       " [0.017487437185929648, 12],\n",
       " [0.017487437185929648, 13],\n",
       " [0.017487437185929648, 14],\n",
       " [0.017487437185929648, 15],\n",
       " [0.017487437185929648, 16],\n",
       " [0.017487437185929648, 17],\n",
       " [0.017487437185929648, 18],\n",
       " [0.017487437185929648, 19],\n",
       " [0.017487437185929648, 20],\n",
       " [0.017487437185929648, 21],\n",
       " [0.017487437185929648, 22],\n",
       " [0.017487437185929648, 23],\n",
       " [0.017487437185929648, 24],\n",
       " [0.017487437185929648, 25],\n",
       " [0.017487437185929648, 26],\n",
       " [0.017487437185929648, 27],\n",
       " [0.017487437185929648, 28],\n",
       " [0.017487437185929648, 29],\n",
       " [0.017487437185929648, 30],\n",
       " [0.017487437185929648, 31],\n",
       " [0.017487437185929648, 32],\n",
       " [0.017487437185929648, 33],\n",
       " [0.017487437185929648, 34],\n",
       " [0.017487437185929648, 35],\n",
       " [0.017487437185929648, 36],\n",
       " [0.017487437185929648, 37],\n",
       " [0.017487437185929648, 38],\n",
       " [0.017487437185929648, 39],\n",
       " [0.017487437185929648, 40],\n",
       " [0.024974874371859294, 10],\n",
       " [0.024974874371859294, 11],\n",
       " [0.024974874371859294, 12],\n",
       " [0.024974874371859294, 13],\n",
       " [0.024974874371859294, 14],\n",
       " [0.024974874371859294, 15],\n",
       " [0.024974874371859294, 16],\n",
       " [0.024974874371859294, 17],\n",
       " [0.024974874371859294, 18],\n",
       " [0.024974874371859294, 19],\n",
       " [0.024974874371859294, 20],\n",
       " [0.024974874371859294, 21],\n",
       " [0.024974874371859294, 22],\n",
       " [0.024974874371859294, 23],\n",
       " [0.024974874371859294, 24],\n",
       " [0.024974874371859294, 25],\n",
       " [0.024974874371859294, 26],\n",
       " [0.024974874371859294, 27],\n",
       " [0.024974874371859294, 28],\n",
       " [0.024974874371859294, 29],\n",
       " [0.024974874371859294, 30],\n",
       " [0.024974874371859294, 31],\n",
       " [0.024974874371859294, 32],\n",
       " [0.024974874371859294, 33],\n",
       " [0.024974874371859294, 34],\n",
       " [0.024974874371859294, 35],\n",
       " [0.024974874371859294, 36],\n",
       " [0.024974874371859294, 37],\n",
       " [0.024974874371859294, 38],\n",
       " [0.024974874371859294, 39],\n",
       " [0.024974874371859294, 40],\n",
       " [0.03246231155778895, 10],\n",
       " [0.03246231155778895, 11],\n",
       " [0.03246231155778895, 12],\n",
       " [0.03246231155778895, 13],\n",
       " [0.03246231155778895, 14],\n",
       " [0.03246231155778895, 15],\n",
       " [0.03246231155778895, 16],\n",
       " [0.03246231155778895, 17],\n",
       " [0.03246231155778895, 18],\n",
       " [0.03246231155778895, 19],\n",
       " [0.03246231155778895, 20],\n",
       " [0.03246231155778895, 21],\n",
       " [0.03246231155778895, 22],\n",
       " [0.03246231155778895, 23],\n",
       " [0.03246231155778895, 24],\n",
       " [0.03246231155778895, 25],\n",
       " [0.03246231155778895, 26],\n",
       " [0.03246231155778895, 27],\n",
       " [0.03246231155778895, 28],\n",
       " [0.03246231155778895, 29],\n",
       " [0.03246231155778895, 30],\n",
       " [0.03246231155778895, 31],\n",
       " [0.03246231155778895, 32],\n",
       " [0.03246231155778895, 33],\n",
       " [0.03246231155778895, 34],\n",
       " [0.03246231155778895, 35],\n",
       " [0.03246231155778895, 36],\n",
       " [0.03246231155778895, 37],\n",
       " [0.03246231155778895, 38],\n",
       " [0.03246231155778895, 39],\n",
       " [0.03246231155778895, 40],\n",
       " [0.039949748743718594, 10],\n",
       " [0.039949748743718594, 11],\n",
       " [0.039949748743718594, 12],\n",
       " [0.039949748743718594, 13],\n",
       " [0.039949748743718594, 14],\n",
       " [0.039949748743718594, 15],\n",
       " [0.039949748743718594, 16],\n",
       " [0.039949748743718594, 17],\n",
       " [0.039949748743718594, 18],\n",
       " [0.039949748743718594, 19],\n",
       " [0.039949748743718594, 20],\n",
       " [0.039949748743718594, 21],\n",
       " [0.039949748743718594, 22],\n",
       " [0.039949748743718594, 23],\n",
       " [0.039949748743718594, 24],\n",
       " [0.039949748743718594, 25],\n",
       " [0.039949748743718594, 26],\n",
       " [0.039949748743718594, 27],\n",
       " [0.039949748743718594, 28],\n",
       " [0.039949748743718594, 29],\n",
       " [0.039949748743718594, 30],\n",
       " [0.039949748743718594, 31],\n",
       " [0.039949748743718594, 32],\n",
       " [0.039949748743718594, 33],\n",
       " [0.039949748743718594, 34],\n",
       " [0.039949748743718594, 35],\n",
       " [0.039949748743718594, 36],\n",
       " [0.039949748743718594, 37],\n",
       " [0.039949748743718594, 38],\n",
       " [0.039949748743718594, 39],\n",
       " [0.039949748743718594, 40],\n",
       " [0.04743718592964824, 10],\n",
       " [0.04743718592964824, 11],\n",
       " [0.04743718592964824, 12],\n",
       " [0.04743718592964824, 13],\n",
       " [0.04743718592964824, 14],\n",
       " [0.04743718592964824, 15],\n",
       " [0.04743718592964824, 16],\n",
       " [0.04743718592964824, 17],\n",
       " [0.04743718592964824, 18],\n",
       " [0.04743718592964824, 19],\n",
       " [0.04743718592964824, 20],\n",
       " [0.04743718592964824, 21],\n",
       " [0.04743718592964824, 22],\n",
       " [0.04743718592964824, 23],\n",
       " [0.04743718592964824, 24],\n",
       " [0.04743718592964824, 25],\n",
       " [0.04743718592964824, 26],\n",
       " [0.04743718592964824, 27],\n",
       " [0.04743718592964824, 28],\n",
       " [0.04743718592964824, 29],\n",
       " [0.04743718592964824, 30],\n",
       " [0.04743718592964824, 31],\n",
       " [0.04743718592964824, 32],\n",
       " [0.04743718592964824, 33],\n",
       " [0.04743718592964824, 34],\n",
       " [0.04743718592964824, 35],\n",
       " [0.04743718592964824, 36],\n",
       " [0.04743718592964824, 37],\n",
       " [0.04743718592964824, 38],\n",
       " [0.04743718592964824, 39],\n",
       " [0.04743718592964824, 40],\n",
       " [0.05492462311557789, 10],\n",
       " [0.05492462311557789, 11],\n",
       " [0.05492462311557789, 12],\n",
       " [0.05492462311557789, 13],\n",
       " [0.05492462311557789, 14],\n",
       " [0.05492462311557789, 15],\n",
       " [0.05492462311557789, 16],\n",
       " [0.05492462311557789, 17],\n",
       " [0.05492462311557789, 18],\n",
       " [0.05492462311557789, 19],\n",
       " [0.05492462311557789, 20],\n",
       " [0.05492462311557789, 21],\n",
       " [0.05492462311557789, 22],\n",
       " [0.05492462311557789, 23],\n",
       " [0.05492462311557789, 24],\n",
       " [0.05492462311557789, 25],\n",
       " [0.05492462311557789, 26],\n",
       " [0.05492462311557789, 27],\n",
       " [0.05492462311557789, 28],\n",
       " [0.05492462311557789, 29],\n",
       " [0.05492462311557789, 30],\n",
       " [0.05492462311557789, 31],\n",
       " [0.05492462311557789, 32],\n",
       " [0.05492462311557789, 33],\n",
       " [0.05492462311557789, 34],\n",
       " [0.05492462311557789, 35],\n",
       " [0.05492462311557789, 36],\n",
       " [0.05492462311557789, 37],\n",
       " [0.05492462311557789, 38],\n",
       " [0.05492462311557789, 39],\n",
       " [0.05492462311557789, 40],\n",
       " [0.06241206030150754, 10],\n",
       " [0.06241206030150754, 11],\n",
       " [0.06241206030150754, 12],\n",
       " [0.06241206030150754, 13],\n",
       " [0.06241206030150754, 14],\n",
       " [0.06241206030150754, 15],\n",
       " [0.06241206030150754, 16],\n",
       " [0.06241206030150754, 17],\n",
       " [0.06241206030150754, 18],\n",
       " [0.06241206030150754, 19],\n",
       " [0.06241206030150754, 20],\n",
       " [0.06241206030150754, 21],\n",
       " [0.06241206030150754, 22],\n",
       " [0.06241206030150754, 23],\n",
       " [0.06241206030150754, 24],\n",
       " [0.06241206030150754, 25],\n",
       " [0.06241206030150754, 26],\n",
       " [0.06241206030150754, 27],\n",
       " [0.06241206030150754, 28],\n",
       " [0.06241206030150754, 29],\n",
       " [0.06241206030150754, 30],\n",
       " [0.06241206030150754, 31],\n",
       " [0.06241206030150754, 32],\n",
       " [0.06241206030150754, 33],\n",
       " [0.06241206030150754, 34],\n",
       " [0.06241206030150754, 35],\n",
       " [0.06241206030150754, 36],\n",
       " [0.06241206030150754, 37],\n",
       " [0.06241206030150754, 38],\n",
       " [0.06241206030150754, 39],\n",
       " [0.06241206030150754, 40],\n",
       " [0.06989949748743718, 10],\n",
       " [0.06989949748743718, 11],\n",
       " [0.06989949748743718, 12],\n",
       " [0.06989949748743718, 13],\n",
       " [0.06989949748743718, 14],\n",
       " [0.06989949748743718, 15],\n",
       " [0.06989949748743718, 16],\n",
       " [0.06989949748743718, 17],\n",
       " [0.06989949748743718, 18],\n",
       " [0.06989949748743718, 19],\n",
       " [0.06989949748743718, 20],\n",
       " [0.06989949748743718, 21],\n",
       " [0.06989949748743718, 22],\n",
       " [0.06989949748743718, 23],\n",
       " [0.06989949748743718, 24],\n",
       " [0.06989949748743718, 25],\n",
       " [0.06989949748743718, 26],\n",
       " [0.06989949748743718, 27],\n",
       " [0.06989949748743718, 28],\n",
       " [0.06989949748743718, 29],\n",
       " [0.06989949748743718, 30],\n",
       " [0.06989949748743718, 31],\n",
       " [0.06989949748743718, 32],\n",
       " [0.06989949748743718, 33],\n",
       " [0.06989949748743718, 34],\n",
       " [0.06989949748743718, 35],\n",
       " [0.06989949748743718, 36],\n",
       " [0.06989949748743718, 37],\n",
       " [0.06989949748743718, 38],\n",
       " [0.06989949748743718, 39],\n",
       " [0.06989949748743718, 40],\n",
       " [0.07738693467336683, 10],\n",
       " [0.07738693467336683, 11],\n",
       " [0.07738693467336683, 12],\n",
       " [0.07738693467336683, 13],\n",
       " [0.07738693467336683, 14],\n",
       " [0.07738693467336683, 15],\n",
       " [0.07738693467336683, 16],\n",
       " [0.07738693467336683, 17],\n",
       " [0.07738693467336683, 18],\n",
       " [0.07738693467336683, 19],\n",
       " [0.07738693467336683, 20],\n",
       " [0.07738693467336683, 21],\n",
       " [0.07738693467336683, 22],\n",
       " [0.07738693467336683, 23],\n",
       " [0.07738693467336683, 24],\n",
       " [0.07738693467336683, 25],\n",
       " [0.07738693467336683, 26],\n",
       " [0.07738693467336683, 27],\n",
       " [0.07738693467336683, 28],\n",
       " [0.07738693467336683, 29],\n",
       " [0.07738693467336683, 30]]"
      ]
     },
     "execution_count": 88,
     "metadata": {},
     "output_type": "execute_result"
    }
   ],
   "source": [
    "# Print result\n",
    "grid_combinations_chosen"
   ]
  },
  {
   "cell_type": "code",
   "execution_count": 89,
   "metadata": {
    "ExecuteTime": {
     "end_time": "2020-02-19T18:59:07.487147Z",
     "start_time": "2020-02-19T18:59:07.473176Z"
    }
   },
   "outputs": [],
   "source": [
    "# Create a list of sample indexes\n",
    "sample_indexes = list(range(0,len(combinations_list)))"
   ]
  },
  {
   "cell_type": "code",
   "execution_count": 90,
   "metadata": {
    "ExecuteTime": {
     "end_time": "2020-02-19T18:59:07.502067Z",
     "start_time": "2020-02-19T18:59:07.490100Z"
    }
   },
   "outputs": [],
   "source": [
    "# Randomly sample 300 indexes\n",
    "random_indexes = np.random.choice(sample_indexes, 300, replace=False)"
   ]
  },
  {
   "cell_type": "code",
   "execution_count": 91,
   "metadata": {
    "ExecuteTime": {
     "end_time": "2020-02-19T18:59:07.517025Z",
     "start_time": "2020-02-19T18:59:07.504061Z"
    }
   },
   "outputs": [],
   "source": [
    "# Use indexes to create random sample\n",
    "random_combinations_chosen = [combinations_list[index] for index in random_indexes]"
   ]
  },
  {
   "cell_type": "code",
   "execution_count": 92,
   "metadata": {
    "ExecuteTime": {
     "end_time": "2020-02-19T18:59:07.533009Z",
     "start_time": "2020-02-19T18:59:07.520033Z"
    }
   },
   "outputs": [],
   "source": [
    "def visualize_search(grid_combinations_chosen, random_combinations_chosen):\n",
    "    grid_y, grid_x = [x[0] for x in grid_combinations_chosen], [x[1] for x in grid_combinations_chosen]\n",
    "    rand_y, rand_x = [x[0] for x in random_combinations_chosen], [x[1] for x in random_combinations_chosen]\n",
    "\n",
    "    # Plot all together\n",
    "    plt.scatter(grid_y + rand_y, grid_x + rand_x, c=['red']*300 + ['blue']*300)\n",
    "    plt.gca().set(xlabel='learn_rate', ylabel='min_samples_leaf', title='Grid and Random Search Hyperparameters')\n",
    "    plt.gca().set_xlim([0.01, 3.0])\n",
    "    plt.gca().set_ylim([5, 24])\n",
    "    plt.show()"
   ]
  },
  {
   "cell_type": "code",
   "execution_count": 93,
   "metadata": {
    "ExecuteTime": {
     "end_time": "2020-02-19T18:59:07.765429Z",
     "start_time": "2020-02-19T18:59:07.534980Z"
    }
   },
   "outputs": [
    {
     "data": {
      "image/png": "[encoded data removed]",
      "text/plain": [
       "<Figure size 1440x720 with 1 Axes>"
      ]
     },
     "metadata": {
      "needs_background": "light"
     },
     "output_type": "display_data"
    }
   ],
   "source": [
    "# Call the function to produce the visualization\n",
    "visualize_search(grid_combinations_chosen, random_combinations_chosen)"
   ]
  },
  {
   "cell_type": "markdown",
   "metadata": {},
   "source": [
    "We can really see how a grid search will cover a small area completely whilst random search will cover a much larger area but not completely."
   ]
  },
  {
   "cell_type": "markdown",
   "metadata": {},
   "source": [
    "## Congratulations!"
   ]
  },
  {
   "cell_type": "code",
   "execution_count": null,
   "metadata": {},
   "outputs": [],
   "source": []
  }
 ],
 "metadata": {
  "kernelspec": {
   "display_name": "Python 3",
   "language": "python",
   "name": "python3"
  },
  "language_info": {
   "codemirror_mode": {
    "name": "ipython",
    "version": 3
   },
   "file_extension": ".py",
   "mimetype": "text/x-python",
   "name": "python",
   "nbconvert_exporter": "python",
   "pygments_lexer": "ipython3",
   "version": "3.7.6"
  },
  "toc": {
   "base_numbering": 1,
   "nav_menu": {},
   "number_sections": true,
   "sideBar": true,
   "skip_h1_title": false,
   "title_cell": "Table of Contents",
   "title_sidebar": "Contents",
   "toc_cell": false,
   "toc_position": {},
   "toc_section_display": true,
   "toc_window_display": true
  },
  "varInspector": {
   "cols": {
    "lenName": 16,
    "lenType": 16,
    "lenVar": 40
   },
   "kernels_config": {
    "python": {
     "delete_cmd_postfix": "",
     "delete_cmd_prefix": "del ",
     "library": "var_list.py",
     "varRefreshCmd": "print(var_dic_list())"
    },
    "r": {
     "delete_cmd_postfix": ") ",
     "delete_cmd_prefix": "rm(",
     "library": "var_list.r",
     "varRefreshCmd": "cat(var_dic_list()) "
    }
   },
   "types_to_exclude": [
    "module",
    "function",
    "builtin_function_or_method",
    "instance",
    "_Feature"
   ],
   "window_display": false
  }
 },
 "nbformat": 4,
 "nbformat_minor": 4
}
